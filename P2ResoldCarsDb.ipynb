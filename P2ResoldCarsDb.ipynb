{
 "cells": [
  {
   "cell_type": "markdown",
   "id": "4dab2e6d-202e-4043-9716-d5023bfbef1d",
   "metadata": {},
   "source": [
    "This nb will focus on mean_brand_prices and continuation of the prev. nb on german resold cars db."
   ]
  },
  {
   "cell_type": "code",
   "execution_count": 1,
   "id": "ae0e05ca-2ba3-4f28-b611-22ed62275b5f",
   "metadata": {},
   "outputs": [],
   "source": [
    "import pandas as pd\n",
    "import numpy as np"
   ]
  },
  {
   "cell_type": "code",
   "execution_count": 2,
   "id": "33cc4282-344f-4d04-b26e-8eb361608938",
   "metadata": {
    "scrolled": true
   },
   "outputs": [
    {
     "data": {
      "text/html": [
       "<div>\n",
       "<style scoped>\n",
       "    .dataframe tbody tr th:only-of-type {\n",
       "        vertical-align: middle;\n",
       "    }\n",
       "\n",
       "    .dataframe tbody tr th {\n",
       "        vertical-align: top;\n",
       "    }\n",
       "\n",
       "    .dataframe thead th {\n",
       "        text-align: right;\n",
       "    }\n",
       "</style>\n",
       "<table border=\"1\" class=\"dataframe\">\n",
       "  <thead>\n",
       "    <tr style=\"text-align: right;\">\n",
       "      <th></th>\n",
       "      <th>dateCrawled</th>\n",
       "      <th>name</th>\n",
       "      <th>seller</th>\n",
       "      <th>offerType</th>\n",
       "      <th>price</th>\n",
       "      <th>abtest</th>\n",
       "      <th>vehicleType</th>\n",
       "      <th>yearOfRegistration</th>\n",
       "      <th>gearbox</th>\n",
       "      <th>powerPS</th>\n",
       "      <th>model</th>\n",
       "      <th>kilometer</th>\n",
       "      <th>monthOfRegistration</th>\n",
       "      <th>fuelType</th>\n",
       "      <th>brand</th>\n",
       "      <th>notRepairedDamage</th>\n",
       "      <th>dateCreated</th>\n",
       "      <th>nrOfPictures</th>\n",
       "      <th>postalCode</th>\n",
       "      <th>lastSeen</th>\n",
       "    </tr>\n",
       "  </thead>\n",
       "  <tbody>\n",
       "    <tr>\n",
       "      <th>0</th>\n",
       "      <td>2016-03-24 11:52:17</td>\n",
       "      <td>Golf_3_1.6</td>\n",
       "      <td>privat</td>\n",
       "      <td>Angebot</td>\n",
       "      <td>480</td>\n",
       "      <td>test</td>\n",
       "      <td>NaN</td>\n",
       "      <td>1993</td>\n",
       "      <td>manuell</td>\n",
       "      <td>0</td>\n",
       "      <td>golf</td>\n",
       "      <td>150000</td>\n",
       "      <td>0</td>\n",
       "      <td>benzin</td>\n",
       "      <td>volkswagen</td>\n",
       "      <td>NaN</td>\n",
       "      <td>2016-03-24 00:00:00</td>\n",
       "      <td>0</td>\n",
       "      <td>70435</td>\n",
       "      <td>2016-04-07 03:16:57</td>\n",
       "    </tr>\n",
       "    <tr>\n",
       "      <th>1</th>\n",
       "      <td>2016-03-24 10:58:45</td>\n",
       "      <td>A5_Sportback_2.7_Tdi</td>\n",
       "      <td>privat</td>\n",
       "      <td>Angebot</td>\n",
       "      <td>18300</td>\n",
       "      <td>test</td>\n",
       "      <td>coupe</td>\n",
       "      <td>2011</td>\n",
       "      <td>manuell</td>\n",
       "      <td>190</td>\n",
       "      <td>NaN</td>\n",
       "      <td>125000</td>\n",
       "      <td>5</td>\n",
       "      <td>diesel</td>\n",
       "      <td>audi</td>\n",
       "      <td>ja</td>\n",
       "      <td>2016-03-24 00:00:00</td>\n",
       "      <td>0</td>\n",
       "      <td>66954</td>\n",
       "      <td>2016-04-07 01:46:50</td>\n",
       "    </tr>\n",
       "    <tr>\n",
       "      <th>2</th>\n",
       "      <td>2016-03-14 12:52:21</td>\n",
       "      <td>Jeep_Grand_Cherokee_\"Overland\"</td>\n",
       "      <td>privat</td>\n",
       "      <td>Angebot</td>\n",
       "      <td>9800</td>\n",
       "      <td>test</td>\n",
       "      <td>suv</td>\n",
       "      <td>2004</td>\n",
       "      <td>automatik</td>\n",
       "      <td>163</td>\n",
       "      <td>grand</td>\n",
       "      <td>125000</td>\n",
       "      <td>8</td>\n",
       "      <td>diesel</td>\n",
       "      <td>jeep</td>\n",
       "      <td>NaN</td>\n",
       "      <td>2016-03-14 00:00:00</td>\n",
       "      <td>0</td>\n",
       "      <td>90480</td>\n",
       "      <td>2016-04-05 12:47:46</td>\n",
       "    </tr>\n",
       "    <tr>\n",
       "      <th>3</th>\n",
       "      <td>2016-03-17 16:54:04</td>\n",
       "      <td>GOLF_4_1_4__3TÜRER</td>\n",
       "      <td>privat</td>\n",
       "      <td>Angebot</td>\n",
       "      <td>1500</td>\n",
       "      <td>test</td>\n",
       "      <td>kleinwagen</td>\n",
       "      <td>2001</td>\n",
       "      <td>manuell</td>\n",
       "      <td>75</td>\n",
       "      <td>golf</td>\n",
       "      <td>150000</td>\n",
       "      <td>6</td>\n",
       "      <td>benzin</td>\n",
       "      <td>volkswagen</td>\n",
       "      <td>nein</td>\n",
       "      <td>2016-03-17 00:00:00</td>\n",
       "      <td>0</td>\n",
       "      <td>91074</td>\n",
       "      <td>2016-03-17 17:40:17</td>\n",
       "    </tr>\n",
       "    <tr>\n",
       "      <th>4</th>\n",
       "      <td>2016-03-31 17:25:20</td>\n",
       "      <td>Skoda_Fabia_1.4_TDI_PD_Classic</td>\n",
       "      <td>privat</td>\n",
       "      <td>Angebot</td>\n",
       "      <td>3600</td>\n",
       "      <td>test</td>\n",
       "      <td>kleinwagen</td>\n",
       "      <td>2008</td>\n",
       "      <td>manuell</td>\n",
       "      <td>69</td>\n",
       "      <td>fabia</td>\n",
       "      <td>90000</td>\n",
       "      <td>7</td>\n",
       "      <td>diesel</td>\n",
       "      <td>skoda</td>\n",
       "      <td>nein</td>\n",
       "      <td>2016-03-31 00:00:00</td>\n",
       "      <td>0</td>\n",
       "      <td>60437</td>\n",
       "      <td>2016-04-06 10:17:21</td>\n",
       "    </tr>\n",
       "  </tbody>\n",
       "</table>\n",
       "</div>"
      ],
      "text/plain": [
       "           dateCrawled                            name  seller offerType  \\\n",
       "0  2016-03-24 11:52:17                      Golf_3_1.6  privat   Angebot   \n",
       "1  2016-03-24 10:58:45            A5_Sportback_2.7_Tdi  privat   Angebot   \n",
       "2  2016-03-14 12:52:21  Jeep_Grand_Cherokee_\"Overland\"  privat   Angebot   \n",
       "3  2016-03-17 16:54:04              GOLF_4_1_4__3TÜRER  privat   Angebot   \n",
       "4  2016-03-31 17:25:20  Skoda_Fabia_1.4_TDI_PD_Classic  privat   Angebot   \n",
       "\n",
       "   price abtest vehicleType  yearOfRegistration    gearbox  powerPS  model  \\\n",
       "0    480   test         NaN                1993    manuell        0   golf   \n",
       "1  18300   test       coupe                2011    manuell      190    NaN   \n",
       "2   9800   test         suv                2004  automatik      163  grand   \n",
       "3   1500   test  kleinwagen                2001    manuell       75   golf   \n",
       "4   3600   test  kleinwagen                2008    manuell       69  fabia   \n",
       "\n",
       "   kilometer  monthOfRegistration fuelType       brand notRepairedDamage  \\\n",
       "0     150000                    0   benzin  volkswagen               NaN   \n",
       "1     125000                    5   diesel        audi                ja   \n",
       "2     125000                    8   diesel        jeep               NaN   \n",
       "3     150000                    6   benzin  volkswagen              nein   \n",
       "4      90000                    7   diesel       skoda              nein   \n",
       "\n",
       "           dateCreated  nrOfPictures  postalCode             lastSeen  \n",
       "0  2016-03-24 00:00:00             0       70435  2016-04-07 03:16:57  \n",
       "1  2016-03-24 00:00:00             0       66954  2016-04-07 01:46:50  \n",
       "2  2016-03-14 00:00:00             0       90480  2016-04-05 12:47:46  \n",
       "3  2016-03-17 00:00:00             0       91074  2016-03-17 17:40:17  \n",
       "4  2016-03-31 00:00:00             0       60437  2016-04-06 10:17:21  "
      ]
     },
     "execution_count": 2,
     "metadata": {},
     "output_type": "execute_result"
    }
   ],
   "source": [
    "autos = pd.read_csv('autos.csv', encoding = 'Latin - 1')\n",
    "autos.head()"
   ]
  },
  {
   "cell_type": "code",
   "execution_count": 3,
   "id": "854ca250-0a8c-4988-a877-40c66847895b",
   "metadata": {},
   "outputs": [
    {
     "name": "stdout",
     "output_type": "stream",
     "text": [
      "<class 'pandas.core.frame.DataFrame'>\n",
      "RangeIndex: 371528 entries, 0 to 371527\n",
      "Data columns (total 20 columns):\n",
      " #   Column               Non-Null Count   Dtype \n",
      "---  ------               --------------   ----- \n",
      " 0   dateCrawled          371528 non-null  object\n",
      " 1   name                 371528 non-null  object\n",
      " 2   seller               371528 non-null  object\n",
      " 3   offerType            371528 non-null  object\n",
      " 4   price                371528 non-null  int64 \n",
      " 5   abtest               371528 non-null  object\n",
      " 6   vehicleType          333659 non-null  object\n",
      " 7   yearOfRegistration   371528 non-null  int64 \n",
      " 8   gearbox              351319 non-null  object\n",
      " 9   powerPS              371528 non-null  int64 \n",
      " 10  model                351044 non-null  object\n",
      " 11  kilometer            371528 non-null  int64 \n",
      " 12  monthOfRegistration  371528 non-null  int64 \n",
      " 13  fuelType             338142 non-null  object\n",
      " 14  brand                371528 non-null  object\n",
      " 15  notRepairedDamage    299468 non-null  object\n",
      " 16  dateCreated          371528 non-null  object\n",
      " 17  nrOfPictures         371528 non-null  int64 \n",
      " 18  postalCode           371528 non-null  int64 \n",
      " 19  lastSeen             371528 non-null  object\n",
      "dtypes: int64(7), object(13)\n",
      "memory usage: 56.7+ MB\n"
     ]
    }
   ],
   "source": [
    "autos.info()"
   ]
  },
  {
   "cell_type": "markdown",
   "id": "306029bc-ac49-4897-bd37-bc2fd5a57d51",
   "metadata": {},
   "source": [
    "## Let's compute the average price of a brand of car in the dataset"
   ]
  },
  {
   "cell_type": "code",
   "execution_count": 4,
   "id": "6707c458-b11a-42a1-bc94-61d7cd582ed6",
   "metadata": {},
   "outputs": [],
   "source": [
    "brands = autos['brand'].value_counts(dropna = False).index # This will create a index list with all the unique brand names of the cars."
   ]
  },
  {
   "cell_type": "code",
   "execution_count": 5,
   "id": "ae695e9e-e61e-49ff-bb50-b1c0df172255",
   "metadata": {},
   "outputs": [
    {
     "data": {
      "text/plain": [
       "count    3.715280e+05\n",
       "mean     1.729514e+04\n",
       "std      3.587954e+06\n",
       "min      0.000000e+00\n",
       "25%      1.150000e+03\n",
       "50%      2.950000e+03\n",
       "75%      7.200000e+03\n",
       "max      2.147484e+09\n",
       "Name: price, dtype: float64"
      ]
     },
     "execution_count": 5,
     "metadata": {},
     "output_type": "execute_result"
    }
   ],
   "source": [
    "autos['price'].describe()"
   ]
  },
  {
   "cell_type": "code",
   "execution_count": 6,
   "id": "e5c0376c-0050-4f23-aaa5-e5adb478a746",
   "metadata": {},
   "outputs": [
    {
     "data": {
      "text/plain": [
       "price\n",
       "0             10778\n",
       "1              1189\n",
       "2                12\n",
       "3                 8\n",
       "4                 1\n",
       "              ...  \n",
       "32545461          1\n",
       "74185296          1\n",
       "99000000          1\n",
       "99999999         15\n",
       "2147483647        1\n",
       "Name: count, Length: 5597, dtype: int64"
      ]
     },
     "execution_count": 6,
     "metadata": {},
     "output_type": "execute_result"
    }
   ],
   "source": [
    "autos['price'].value_counts(dropna = False).sort_index()"
   ]
  },
  {
   "cell_type": "code",
   "execution_count": 7,
   "id": "35b61e23-0d1e-41a7-89bc-126e9983b883",
   "metadata": {},
   "outputs": [],
   "source": [
    "autos = autos[autos['price'].between(100, 100000)] # The price column as unrealistics min. and max. values, the between method is used here to set a up. and lowr. limit "
   ]
  },
  {
   "cell_type": "code",
   "execution_count": 8,
   "id": "9f8a960f-596c-495b-82bf-214b860a6be2",
   "metadata": {},
   "outputs": [
    {
     "data": {
      "text/plain": [
       "count    357805.000000\n",
       "mean       5816.364481\n",
       "std        7562.614881\n",
       "min         100.000000\n",
       "25%        1290.000000\n",
       "50%        3100.000000\n",
       "75%        7499.000000\n",
       "max      100000.000000\n",
       "Name: price, dtype: float64"
      ]
     },
     "execution_count": 8,
     "metadata": {},
     "output_type": "execute_result"
    }
   ],
   "source": [
    "autos['price'].describe()"
   ]
  },
  {
   "cell_type": "code",
   "execution_count": 9,
   "id": "55eba4fa-5cb7-45d4-8265-9c26be3dab7f",
   "metadata": {},
   "outputs": [
    {
     "data": {
      "text/plain": [
       "{'volkswagen': 5346.779605649998,\n",
       " 'bmw': 8356.045593643119,\n",
       " 'opel': 2967.8726353640104,\n",
       " 'mercedes_benz': 8331.833260686368,\n",
       " 'audi': 8968.661794750904,\n",
       " 'ford': 3687.341885902493,\n",
       " 'renault': 2420.906007639773,\n",
       " 'peugeot': 3252.8696786213322,\n",
       " 'fiat': 2888.512213494028,\n",
       " 'seat': 4478.6206592113,\n",
       " 'mazda': 4050.180500181225,\n",
       " 'skoda': 6476.05411722402,\n",
       " 'smart': 3597.9994177018634,\n",
       " 'citroen': 3726.481762009169,\n",
       " 'nissan': 4680.591748768473,\n",
       " 'toyota': 5290.963573287077,\n",
       " 'sonstige_autos': 11782.765217391305,\n",
       " 'hyundai': 5520.930928411633,\n",
       " 'mini': 9972.737988660101,\n",
       " 'volvo': 5228.114214773433,\n",
       " 'mitsubishi': 3358.518505942275,\n",
       " 'honda': 3965.3395810363836,\n",
       " 'kia': 5811.065540812224,\n",
       " 'alfa_romeo': 4291.7800089245875,\n",
       " 'suzuki': 4011.1482300884954,\n",
       " 'porsche': 34137.953592814374,\n",
       " 'chevrolet': 7129.761611639619,\n",
       " 'chrysler': 4159.222384784199,\n",
       " 'dacia': 5918.533783783784,\n",
       " 'jeep': 11128.851472471191,\n",
       " 'daihatsu': 1792.646517739816,\n",
       " 'subaru': 4478.277401894452,\n",
       " 'land_rover': 16602.37880794702,\n",
       " 'jaguar': 12233.358585858587,\n",
       " 'trabant': 2004.5189075630253,\n",
       " 'daewoo': 1044.530303030303,\n",
       " 'saab': 3923.6802325581393,\n",
       " 'rover': 1606.145652173913,\n",
       " 'lancia': 3315.91341991342,\n",
       " 'lada': 3223.235849056604}"
      ]
     },
     "execution_count": 9,
     "metadata": {},
     "output_type": "execute_result"
    }
   ],
   "source": [
    "mean_prices = {}\n",
    "\n",
    "for i in brands:\n",
    "    select_rows = autos[autos['brand'] == i]\n",
    "    mean_price = select_rows['price'].mean()\n",
    "    mean_prices[i] = mean_price\n",
    "mean_prices"
   ]
  },
  {
   "cell_type": "markdown",
   "id": "bce99c4c-234f-47e6-908d-c957932c9276",
   "metadata": {},
   "source": [
    "## Let's compute the average distance of a brand of cars been driven."
   ]
  },
  {
   "cell_type": "code",
   "execution_count": 10,
   "id": "44343467-f57e-43d4-af50-45e98efa8753",
   "metadata": {},
   "outputs": [
    {
     "data": {
      "text/plain": [
       "count    357805.000000\n",
       "mean     125871.606042\n",
       "std       39527.680681\n",
       "min        5000.000000\n",
       "25%      125000.000000\n",
       "50%      150000.000000\n",
       "75%      150000.000000\n",
       "max      150000.000000\n",
       "Name: kilometer, dtype: float64"
      ]
     },
     "execution_count": 10,
     "metadata": {},
     "output_type": "execute_result"
    }
   ],
   "source": [
    "autos['kilometer'].describe()"
   ]
  },
  {
   "cell_type": "code",
   "execution_count": 11,
   "id": "8edfc16f-6ef6-48e9-b89d-b58615fde60a",
   "metadata": {},
   "outputs": [
    {
     "data": {
      "text/plain": [
       "kilometer\n",
       "150000    231509\n",
       "125000     37222\n",
       "100000     15349\n",
       "90000      12319\n",
       "80000      10859\n",
       "70000       9635\n",
       "60000       8563\n",
       "50000       7505\n",
       "40000       6295\n",
       "30000       5890\n",
       "20000       5452\n",
       "5000        5406\n",
       "10000       1801\n",
       "Name: count, dtype: int64"
      ]
     },
     "execution_count": 11,
     "metadata": {},
     "output_type": "execute_result"
    }
   ],
   "source": [
    "autos['kilometer'].value_counts(dropna = False)"
   ]
  },
  {
   "cell_type": "code",
   "execution_count": 12,
   "id": "e6ff63cf-a381-4d36-a738-42ec740dea8e",
   "metadata": {},
   "outputs": [
    {
     "data": {
      "text/plain": [
       "{'volkswagen': 128736.5904012753,\n",
       " 'bmw': 133137.93812842338,\n",
       " 'opel': 128960.21157955079,\n",
       " 'mercedes_benz': 130923.48821666231,\n",
       " 'audi': 129847.71334276284,\n",
       " 'ford': 123943.19521815151,\n",
       " 'renault': 128074.42991086931,\n",
       " 'peugeot': 124852.35211923614,\n",
       " 'fiat': 116993.43591950931,\n",
       " 'seat': 121172.74867569159,\n",
       " 'mazda': 125881.66002174701,\n",
       " 'skoda': 113759.43905070118,\n",
       " 'smart': 100547.3602484472,\n",
       " 'citroen': 120556.10922862268,\n",
       " 'nissan': 119617.20032840723,\n",
       " 'toyota': 117304.85689505638,\n",
       " 'sonstige_autos': 89590.06211180124,\n",
       " 'hyundai': 104630.87248322148,\n",
       " 'mini': 94409.13160250672,\n",
       " 'volvo': 138274.36374922408,\n",
       " 'mitsubishi': 127062.81833616299,\n",
       " 'honda': 126095.18559353179,\n",
       " 'kia': 109569.7627663852,\n",
       " 'alfa_romeo': 129511.37884872824,\n",
       " 'suzuki': 106909.29203539823,\n",
       " 'porsche': 103507.98403193612,\n",
       " 'chevrolet': 100363.73810856184,\n",
       " 'chrysler': 134363.5698610095,\n",
       " 'dacia': 86272.52252252253,\n",
       " 'jeep': 121017.9257362356,\n",
       " 'daihatsu': 119053.87647831801,\n",
       " 'subaru': 126156.96887686063,\n",
       " 'land_rover': 119662.25165562914,\n",
       " 'jaguar': 124469.69696969698,\n",
       " 'trabant': 55714.28571428572,\n",
       " 'daewoo': 123835.22727272728,\n",
       " 'saab': 141027.13178294574,\n",
       " 'rover': 135445.65217391305,\n",
       " 'lancia': 124350.64935064936,\n",
       " 'lada': 74150.94339622642}"
      ]
     },
     "execution_count": 12,
     "metadata": {},
     "output_type": "execute_result"
    }
   ],
   "source": [
    "mean_miles = {}\n",
    "\n",
    "for i in brands:\n",
    "    select_rows = autos[autos['brand'] == i]\n",
    "    miles = select_rows['kilometer'].mean()\n",
    "    mean_miles[i] = miles\n",
    "mean_miles"
   ]
  },
  {
   "cell_type": "code",
   "execution_count": 13,
   "id": "f4a02076-a926-4e69-99ca-6f56e65c0f12",
   "metadata": {},
   "outputs": [],
   "source": [
    "# converting dicts. to series objs.\n",
    "mean_miles = pd.Series(mean_miles).sort_values(ascending = False) \n",
    "mean_prices = pd.Series(mean_prices).sort_values(ascending = False)"
   ]
  },
  {
   "cell_type": "code",
   "execution_count": 14,
   "id": "4987ea15-7b02-4a0a-b9d9-4da0bedba4eb",
   "metadata": {},
   "outputs": [
    {
     "data": {
      "text/html": [
       "<div>\n",
       "<style scoped>\n",
       "    .dataframe tbody tr th:only-of-type {\n",
       "        vertical-align: middle;\n",
       "    }\n",
       "\n",
       "    .dataframe tbody tr th {\n",
       "        vertical-align: top;\n",
       "    }\n",
       "\n",
       "    .dataframe thead th {\n",
       "        text-align: right;\n",
       "    }\n",
       "</style>\n",
       "<table border=\"1\" class=\"dataframe\">\n",
       "  <thead>\n",
       "    <tr style=\"text-align: right;\">\n",
       "      <th></th>\n",
       "      <th>mean_km</th>\n",
       "    </tr>\n",
       "  </thead>\n",
       "  <tbody>\n",
       "    <tr>\n",
       "      <th>saab</th>\n",
       "      <td>141027.131783</td>\n",
       "    </tr>\n",
       "    <tr>\n",
       "      <th>volvo</th>\n",
       "      <td>138274.363749</td>\n",
       "    </tr>\n",
       "    <tr>\n",
       "      <th>rover</th>\n",
       "      <td>135445.652174</td>\n",
       "    </tr>\n",
       "    <tr>\n",
       "      <th>chrysler</th>\n",
       "      <td>134363.569861</td>\n",
       "    </tr>\n",
       "    <tr>\n",
       "      <th>bmw</th>\n",
       "      <td>133137.938128</td>\n",
       "    </tr>\n",
       "  </tbody>\n",
       "</table>\n",
       "</div>"
      ],
      "text/plain": [
       "                mean_km\n",
       "saab      141027.131783\n",
       "volvo     138274.363749\n",
       "rover     135445.652174\n",
       "chrysler  134363.569861\n",
       "bmw       133137.938128"
      ]
     },
     "execution_count": 14,
     "metadata": {},
     "output_type": "execute_result"
    }
   ],
   "source": [
    "# Adding series objs. to a dataFrame.\n",
    "\n",
    "mean_info = pd.DataFrame(mean_miles, columns = ['mean_km']) # create a dataFrame with name 'mean_info'.\n",
    "mean_info.head()"
   ]
  },
  {
   "cell_type": "code",
   "execution_count": 15,
   "id": "619d56b7-e5d1-4921-85a6-ef0846b37bd8",
   "metadata": {},
   "outputs": [
    {
     "data": {
      "text/html": [
       "<div>\n",
       "<style scoped>\n",
       "    .dataframe tbody tr th:only-of-type {\n",
       "        vertical-align: middle;\n",
       "    }\n",
       "\n",
       "    .dataframe tbody tr th {\n",
       "        vertical-align: top;\n",
       "    }\n",
       "\n",
       "    .dataframe thead th {\n",
       "        text-align: right;\n",
       "    }\n",
       "</style>\n",
       "<table border=\"1\" class=\"dataframe\">\n",
       "  <thead>\n",
       "    <tr style=\"text-align: right;\">\n",
       "      <th></th>\n",
       "      <th>mean_km</th>\n",
       "      <th>mean_prices</th>\n",
       "    </tr>\n",
       "  </thead>\n",
       "  <tbody>\n",
       "    <tr>\n",
       "      <th>saab</th>\n",
       "      <td>141027.131783</td>\n",
       "      <td>3923.680233</td>\n",
       "    </tr>\n",
       "    <tr>\n",
       "      <th>volvo</th>\n",
       "      <td>138274.363749</td>\n",
       "      <td>5228.114215</td>\n",
       "    </tr>\n",
       "    <tr>\n",
       "      <th>rover</th>\n",
       "      <td>135445.652174</td>\n",
       "      <td>1606.145652</td>\n",
       "    </tr>\n",
       "    <tr>\n",
       "      <th>chrysler</th>\n",
       "      <td>134363.569861</td>\n",
       "      <td>4159.222385</td>\n",
       "    </tr>\n",
       "    <tr>\n",
       "      <th>bmw</th>\n",
       "      <td>133137.938128</td>\n",
       "      <td>8356.045594</td>\n",
       "    </tr>\n",
       "  </tbody>\n",
       "</table>\n",
       "</div>"
      ],
      "text/plain": [
       "                mean_km  mean_prices\n",
       "saab      141027.131783  3923.680233\n",
       "volvo     138274.363749  5228.114215\n",
       "rover     135445.652174  1606.145652\n",
       "chrysler  134363.569861  4159.222385\n",
       "bmw       133137.938128  8356.045594"
      ]
     },
     "execution_count": 15,
     "metadata": {},
     "output_type": "execute_result"
    }
   ],
   "source": [
    "mean_info['mean_prices'] = mean_prices # add the series object 'mean_prices' as another column with name 'mean_prices' to the new df 'mean_info'.\n",
    "mean_info.head()"
   ]
  },
  {
   "cell_type": "code",
   "execution_count": 16,
   "id": "cc65063f-af96-4055-8dbc-cc439ec8a747",
   "metadata": {},
   "outputs": [
    {
     "data": {
      "text/plain": [
       "porsche           34137.953593\n",
       "land_rover        16602.378808\n",
       "jaguar            12233.358586\n",
       "sonstige_autos    11782.765217\n",
       "jeep              11128.851472\n",
       "mini               9972.737989\n",
       "audi               8968.661795\n",
       "bmw                8356.045594\n",
       "mercedes_benz      8331.833261\n",
       "chevrolet          7129.761612\n",
       "skoda              6476.054117\n",
       "dacia              5918.533784\n",
       "kia                5811.065541\n",
       "hyundai            5520.930928\n",
       "volkswagen         5346.779606\n",
       "toyota             5290.963573\n",
       "volvo              5228.114215\n",
       "nissan             4680.591749\n",
       "seat               4478.620659\n",
       "subaru             4478.277402\n",
       "alfa_romeo         4291.780009\n",
       "chrysler           4159.222385\n",
       "mazda              4050.180500\n",
       "suzuki             4011.148230\n",
       "honda              3965.339581\n",
       "saab               3923.680233\n",
       "citroen            3726.481762\n",
       "ford               3687.341886\n",
       "smart              3597.999418\n",
       "mitsubishi         3358.518506\n",
       "lancia             3315.913420\n",
       "peugeot            3252.869679\n",
       "lada               3223.235849\n",
       "opel               2967.872635\n",
       "fiat               2888.512213\n",
       "renault            2420.906008\n",
       "trabant            2004.518908\n",
       "daihatsu           1792.646518\n",
       "rover              1606.145652\n",
       "daewoo             1044.530303\n",
       "Name: mean_prices, dtype: float64"
      ]
     },
     "execution_count": 16,
     "metadata": {},
     "output_type": "execute_result"
    }
   ],
   "source": [
    "mean_info['mean_prices'].sort_values(ascending = False)"
   ]
  },
  {
   "cell_type": "markdown",
   "id": "02f21175-5cd4-4529-81c1-d6a8a4f3ba0a",
   "metadata": {},
   "source": [
    "We see the cars with brands `saab` and `porsche` have highest km driven and highest prices respectively."
   ]
  },
  {
   "cell_type": "markdown",
   "id": "e1fc7cd4-ce2d-4226-8b54-35e84df86554",
   "metadata": {},
   "source": [
    "## Most common Models/Brands"
   ]
  },
  {
   "cell_type": "code",
   "execution_count": 17,
   "id": "f599aa72-9a47-4781-b1bc-411abbf53cb4",
   "metadata": {},
   "outputs": [
    {
     "data": {
      "text/html": [
       "<div>\n",
       "<style scoped>\n",
       "    .dataframe tbody tr th:only-of-type {\n",
       "        vertical-align: middle;\n",
       "    }\n",
       "\n",
       "    .dataframe tbody tr th {\n",
       "        vertical-align: top;\n",
       "    }\n",
       "\n",
       "    .dataframe thead th {\n",
       "        text-align: right;\n",
       "    }\n",
       "</style>\n",
       "<table border=\"1\" class=\"dataframe\">\n",
       "  <thead>\n",
       "    <tr style=\"text-align: right;\">\n",
       "      <th></th>\n",
       "      <th>model</th>\n",
       "      <th>count</th>\n",
       "    </tr>\n",
       "  </thead>\n",
       "  <tbody>\n",
       "    <tr>\n",
       "      <th>0</th>\n",
       "      <td>golf</td>\n",
       "      <td>28912</td>\n",
       "    </tr>\n",
       "    <tr>\n",
       "      <th>1</th>\n",
       "      <td>andere</td>\n",
       "      <td>25412</td>\n",
       "    </tr>\n",
       "    <tr>\n",
       "      <th>2</th>\n",
       "      <td>3er</td>\n",
       "      <td>19875</td>\n",
       "    </tr>\n",
       "    <tr>\n",
       "      <th>3</th>\n",
       "      <td>polo</td>\n",
       "      <td>12533</td>\n",
       "    </tr>\n",
       "    <tr>\n",
       "      <th>4</th>\n",
       "      <td>corsa</td>\n",
       "      <td>12042</td>\n",
       "    </tr>\n",
       "  </tbody>\n",
       "</table>\n",
       "</div>"
      ],
      "text/plain": [
       "    model  count\n",
       "0    golf  28912\n",
       "1  andere  25412\n",
       "2     3er  19875\n",
       "3    polo  12533\n",
       "4   corsa  12042"
      ]
     },
     "execution_count": 17,
     "metadata": {},
     "output_type": "execute_result"
    }
   ],
   "source": [
    "models = autos.groupby('model').size().reset_index(name = 'count')\n",
    "models_sorted = models.sort_values('count', ascending = False, ignore_index = True)\n",
    "models_sorted.head()"
   ]
  },
  {
   "cell_type": "markdown",
   "id": "96675c90-f0ae-4c8c-9146-3687f8acf87b",
   "metadata": {},
   "source": [
    "## Checking price on each kilometer bins."
   ]
  },
  {
   "cell_type": "code",
   "execution_count": 18,
   "id": "536d9c0e-bc05-4527-a95c-be2903823f1a",
   "metadata": {},
   "outputs": [
    {
     "data": {
      "text/plain": [
       "kilometer\n",
       "150000    231509\n",
       "125000     37222\n",
       "100000     15349\n",
       "90000      12319\n",
       "80000      10859\n",
       "70000       9635\n",
       "60000       8563\n",
       "50000       7505\n",
       "40000       6295\n",
       "30000       5890\n",
       "20000       5452\n",
       "5000        5406\n",
       "10000       1801\n",
       "Name: count, dtype: int64"
      ]
     },
     "execution_count": 18,
     "metadata": {},
     "output_type": "execute_result"
    }
   ],
   "source": [
    "autos['kilometer'].value_counts(dropna = False)"
   ]
  },
  {
   "cell_type": "markdown",
   "id": "c66d695d-52f0-4034-8df7-d6452b3471f3",
   "metadata": {},
   "source": [
    "We see there are many cars with the highest kms on their odometers, this indicates the market has many cars driven a lot and less cars that are not driven very much."
   ]
  },
  {
   "cell_type": "code",
   "execution_count": 19,
   "id": "0bba4263-b0ca-4918-b2b3-d2ac35334d66",
   "metadata": {},
   "outputs": [
    {
     "data": {
      "text/html": [
       "<div>\n",
       "<style scoped>\n",
       "    .dataframe tbody tr th:only-of-type {\n",
       "        vertical-align: middle;\n",
       "    }\n",
       "\n",
       "    .dataframe tbody tr th {\n",
       "        vertical-align: top;\n",
       "    }\n",
       "\n",
       "    .dataframe thead th {\n",
       "        text-align: right;\n",
       "    }\n",
       "</style>\n",
       "<table border=\"1\" class=\"dataframe\">\n",
       "  <thead>\n",
       "    <tr style=\"text-align: right;\">\n",
       "      <th></th>\n",
       "      <th>kilometer_bins</th>\n",
       "      <th>mean_price</th>\n",
       "    </tr>\n",
       "  </thead>\n",
       "  <tbody>\n",
       "    <tr>\n",
       "      <th>0</th>\n",
       "      <td>&lt;50k</td>\n",
       "      <td>13804.283935</td>\n",
       "    </tr>\n",
       "    <tr>\n",
       "      <th>1</th>\n",
       "      <td>50K-100K</td>\n",
       "      <td>9354.755945</td>\n",
       "    </tr>\n",
       "    <tr>\n",
       "      <th>2</th>\n",
       "      <td>100K-150K</td>\n",
       "      <td>4107.903372</td>\n",
       "    </tr>\n",
       "    <tr>\n",
       "      <th>3</th>\n",
       "      <td>150K-200K</td>\n",
       "      <td>NaN</td>\n",
       "    </tr>\n",
       "    <tr>\n",
       "      <th>4</th>\n",
       "      <td>&gt;200K</td>\n",
       "      <td>NaN</td>\n",
       "    </tr>\n",
       "  </tbody>\n",
       "</table>\n",
       "</div>"
      ],
      "text/plain": [
       "  kilometer_bins    mean_price\n",
       "0           <50k  13804.283935\n",
       "1       50K-100K   9354.755945\n",
       "2      100K-150K   4107.903372\n",
       "3      150K-200K           NaN\n",
       "4          >200K           NaN"
      ]
     },
     "execution_count": 19,
     "metadata": {},
     "output_type": "execute_result"
    }
   ],
   "source": [
    "autos['kilometer_bins'] = pd.cut(autos['kilometer'], bins = [0, 50000, 100000, 150000, 200000, np.inf], labels = ['<50k', '50K-100K', '100K-150K', '150K-200K', '>200K'])\n",
    "prices_on_kilos = autos.groupby('kilometer_bins')['price'].mean().reset_index(name = 'mean_price')\n",
    "prices_on_kilos"
   ]
  },
  {
   "cell_type": "code",
   "execution_count": 20,
   "id": "3c15eb69-f51a-4259-9aa1-21a444449c9b",
   "metadata": {},
   "outputs": [
    {
     "name": "stdout",
     "output_type": "stream",
     "text": [
      "<class 'pandas.core.frame.DataFrame'>\n",
      "Index: 357805 entries, 0 to 371527\n",
      "Data columns (total 21 columns):\n",
      " #   Column               Non-Null Count   Dtype   \n",
      "---  ------               --------------   -----   \n",
      " 0   dateCrawled          357805 non-null  object  \n",
      " 1   name                 357805 non-null  object  \n",
      " 2   seller               357805 non-null  object  \n",
      " 3   offerType            357805 non-null  object  \n",
      " 4   price                357805 non-null  int64   \n",
      " 5   abtest               357805 non-null  object  \n",
      " 6   vehicleType          324858 non-null  object  \n",
      " 7   yearOfRegistration   357805 non-null  int64   \n",
      " 8   gearbox              341184 non-null  object  \n",
      " 9   powerPS              357805 non-null  int64   \n",
      " 10  model                340102 non-null  object  \n",
      " 11  kilometer            357805 non-null  int64   \n",
      " 12  monthOfRegistration  357805 non-null  int64   \n",
      " 13  fuelType             329032 non-null  object  \n",
      " 14  brand                357805 non-null  object  \n",
      " 15  notRepairedDamage    292608 non-null  object  \n",
      " 16  dateCreated          357805 non-null  object  \n",
      " 17  nrOfPictures         357805 non-null  int64   \n",
      " 18  postalCode           357805 non-null  int64   \n",
      " 19  lastSeen             357805 non-null  object  \n",
      " 20  kilometer_bins       357805 non-null  category\n",
      "dtypes: category(1), int64(7), object(13)\n",
      "memory usage: 57.7+ MB\n"
     ]
    }
   ],
   "source": [
    "autos.info()"
   ]
  },
  {
   "cell_type": "code",
   "execution_count": 23,
   "id": "ada44760-a2ec-4f0b-9148-6f1c418e26a0",
   "metadata": {},
   "outputs": [
    {
     "data": {
      "text/plain": [
       "notRepairedDamage\n",
       "nein    258897\n",
       "NaN      65197\n",
       "ja       33711\n",
       "Name: count, dtype: int64"
      ]
     },
     "execution_count": 23,
     "metadata": {},
     "output_type": "execute_result"
    }
   ],
   "source": [
    "autos['notRepairedDamage'].dropna()\n",
    "autos['notRepairedDamage'].value_counts(dropna = False)"
   ]
  },
  {
   "cell_type": "code",
   "execution_count": 24,
   "id": "a604d951-de3a-4344-9709-593879ee2e3a",
   "metadata": {},
   "outputs": [
    {
     "name": "stdout",
     "output_type": "stream",
     "text": [
      "Cars without any damaged are 67.51% more expensive than damaged ones\n"
     ]
    }
   ],
   "source": [
    "# Price diff. btw damaged and undamaged cars\n",
    "\n",
    "damaged_priz = autos[autos['notRepairedDamage'] == 'ja']['price'].mean()\n",
    "undamaged_priz = autos[autos['notRepairedDamage'] == 'nein']['price'].mean()\n",
    "price_diff = (undamaged_priz - damaged_priz) / undamaged_priz * 100\n",
    "\n",
    "print('Cars without any damaged are {:.2f}% more expensive than damaged ones'.format(price_diff))"
   ]
  },
  {
   "cell_type": "code",
   "execution_count": 26,
   "id": "6dbb2fba-757d-4f6d-876c-78c9b966aa19",
   "metadata": {},
   "outputs": [
    {
     "data": {
      "text/plain": [
       "postalCode\n",
       "10115    821\n",
       "65428    626\n",
       "66333    328\n",
       "38518    308\n",
       "44145    307\n",
       "        ... \n",
       "29587      1\n",
       "89368      1\n",
       "95356      1\n",
       "91471      1\n",
       "31096      1\n",
       "Name: count, Length: 8146, dtype: int64"
      ]
     },
     "execution_count": 26,
     "metadata": {},
     "output_type": "execute_result"
    }
   ],
   "source": [
    "autos['postalCode'].value_counts(dropna = False)"
   ]
  },
  {
   "cell_type": "markdown",
   "id": "fc9c266d-dae9-451d-b4c6-65646120324f",
   "metadata": {},
   "source": [
    "The **highest cars listed are from the postal code of the capital of Germany, Berlin.** This makes sense as in most cases, the capital city is were most people reside and use cars often, where there are most maintained roads available."
   ]
  },
  {
   "cell_type": "code",
   "execution_count": 27,
   "id": "b1c0f09e-4811-430c-af61-399708e930f2",
   "metadata": {},
   "outputs": [
    {
     "data": {
      "text/plain": [
       "dateCrawled\n",
       "2016-03-24 14:49:47    7\n",
       "2016-03-19 21:49:56    6\n",
       "2016-03-26 22:57:31    6\n",
       "2016-03-19 12:50:39    5\n",
       "2016-03-23 13:50:19    5\n",
       "                      ..\n",
       "2016-03-12 17:47:38    1\n",
       "2016-03-28 15:54:58    1\n",
       "2016-03-19 12:55:50    1\n",
       "2016-03-17 19:48:39    1\n",
       "2016-03-07 19:39:19    1\n",
       "Name: count, Length: 273018, dtype: int64"
      ]
     },
     "execution_count": 27,
     "metadata": {},
     "output_type": "execute_result"
    }
   ],
   "source": [
    "autos['dateCrawled'].value_counts(dropna = False)"
   ]
  },
  {
   "cell_type": "markdown",
   "id": "0334b336-d266-4f70-b2d6-839143603b59",
   "metadata": {},
   "source": [
    "There is a single date '2016-03-24 14:49:47' that occurs multiple times more than any other date and time. This can indicate any preceeding marketing from the platform or sale."
   ]
  },
  {
   "cell_type": "markdown",
   "id": "92985b8b-ef35-4ffa-b086-81f1fab8d321",
   "metadata": {},
   "source": [
    "Let's find out which fuel type of car is expensive in the resold cars dataset."
   ]
  },
  {
   "cell_type": "markdown",
   "id": "4f5c2660-3d77-4d5b-84da-f1a26679482d",
   "metadata": {},
   "source": [
    "To do this we will need to find the average price of cars on one type of fuel and compare them with cars on the other type of fuel."
   ]
  },
  {
   "cell_type": "code",
   "execution_count": 28,
   "id": "bfd1b6e4-7088-401a-b02e-90bd28cca3b5",
   "metadata": {},
   "outputs": [
    {
     "data": {
      "text/plain": [
       "fuelType\n",
       "benzin     216790\n",
       "diesel     105944\n",
       "NaN         28773\n",
       "lpg          5222\n",
       "cng           555\n",
       "hybrid        268\n",
       "andere        157\n",
       "elektro        96\n",
       "Name: count, dtype: int64"
      ]
     },
     "execution_count": 28,
     "metadata": {},
     "output_type": "execute_result"
    }
   ],
   "source": [
    "autos['fuelType'].value_counts(dropna = False)"
   ]
  },
  {
   "cell_type": "markdown",
   "id": "3b72386e-b12c-447f-8f91-c1b4c9a5a5c3",
   "metadata": {},
   "source": [
    "We will compare the car prices of cars with the top two fuel types."
   ]
  },
  {
   "cell_type": "code",
   "execution_count": 35,
   "id": "cef67d28-505e-4c32-b292-c2d08c1ce530",
   "metadata": {},
   "outputs": [
    {
     "name": "stdout",
     "output_type": "stream",
     "text": [
      "Average cost of cars running on benzin is 4833.0 v/s those running on diesel, 8590.0\n"
     ]
    }
   ],
   "source": [
    "on_benzin = autos[autos['fuelType'] == 'benzin']['price'].mean().round()\n",
    "on_diesel = autos[autos['fuelType'] == 'diesel']['price'].mean().round()\n",
    "print('Average cost of cars running on benzin is {0} v/s those running on diesel, {1}'.format(on_benzin, on_diesel))\n"
   ]
  },
  {
   "cell_type": "markdown",
   "id": "f46b0492-c9e2-46e9-b0b3-f52089b0b686",
   "metadata": {},
   "source": [
    "We see Diesel vehicles are costliers than cars running on benzin."
   ]
  },
  {
   "cell_type": "markdown",
   "id": "86dcd788-3109-48e2-831d-2486b45ccd11",
   "metadata": {},
   "source": [
    "#### Let's find the **costliest average price of cars on all types of available fuels** in our dataset."
   ]
  },
  {
   "cell_type": "code",
   "execution_count": 41,
   "id": "b4a27abb-3a22-4b2a-a431-deea4c520b27",
   "metadata": {},
   "outputs": [
    {
     "data": {
      "text/plain": [
       "Index(['benzin', 'diesel', 'lpg', 'cng', 'hybrid', 'andere', 'elektro'], dtype='object', name='fuelType')"
      ]
     },
     "execution_count": 41,
     "metadata": {},
     "output_type": "execute_result"
    }
   ],
   "source": [
    "fuel_list = autos['fuelType'].value_counts().index\n",
    "fuel_list"
   ]
  },
  {
   "cell_type": "code",
   "execution_count": 46,
   "id": "24ece464-d201-4927-ba7b-86c2cc084eb9",
   "metadata": {},
   "outputs": [
    {
     "data": {
      "text/plain": [
       "hybrid     13026.0\n",
       "elektro    11983.0\n",
       "diesel      8590.0\n",
       "benzin      4833.0\n",
       "cng         4804.0\n",
       "lpg         4442.0\n",
       "andere      4279.0\n",
       "dtype: float64"
      ]
     },
     "execution_count": 46,
     "metadata": {},
     "output_type": "execute_result"
    }
   ],
   "source": [
    "avg_fuel_price = {}\n",
    "for fuel in fuel_list:\n",
    "    avg_fuel_price[fuel] = autos[autos['fuelType'] == fuel]['price'].mean().round()\n",
    "avg_fuel_price = pd.Series(avg_fuel_price).sort_values(ascending = False)\n",
    "avg_fuel_price"
   ]
  },
  {
   "cell_type": "markdown",
   "id": "d888591b-e4a2-4e4f-8049-caae22215763",
   "metadata": {},
   "source": [
    "Thus, we see used cars with hybrid fuel are the costliest than any other fuel category cars in the dataset."
   ]
  },
  {
   "cell_type": "markdown",
   "id": "34f2f859-224a-40fa-bdba-87d568896795",
   "metadata": {},
   "source": [
    "#### Let's do the same to find out the **price ranges of cars from the range of Pfredstroke(PS)or HP.**"
   ]
  },
  {
   "cell_type": "code",
   "execution_count": 48,
   "id": "3d274df9-628b-4725-bc1d-fe9b51538cbd",
   "metadata": {},
   "outputs": [
    {
     "data": {
      "text/plain": [
       "powerPS\n",
       "0        35594\n",
       "75       23190\n",
       "60       15363\n",
       "150      14957\n",
       "140      13418\n",
       "         ...  \n",
       "5809         1\n",
       "15020        1\n",
       "5867         1\n",
       "2172         1\n",
       "564          1\n",
       "Name: count, Length: 767, dtype: int64"
      ]
     },
     "execution_count": 48,
     "metadata": {},
     "output_type": "execute_result"
    }
   ],
   "source": [
    "autos['powerPS'].value_counts(dropna = False)"
   ]
  },
  {
   "cell_type": "code",
   "execution_count": 50,
   "id": "fac7dc08-330c-400a-b24f-d2edc3b6ceb3",
   "metadata": {},
   "outputs": [
    {
     "data": {
      "text/plain": [
       "powerPS\n",
       "0        35594\n",
       "1           24\n",
       "2            9\n",
       "3            9\n",
       "4           30\n",
       "         ...  \n",
       "17932        1\n",
       "19208        1\n",
       "19211        1\n",
       "19312        1\n",
       "20000        1\n",
       "Name: count, Length: 767, dtype: int64"
      ]
     },
     "execution_count": 50,
     "metadata": {},
     "output_type": "execute_result"
    }
   ],
   "source": [
    "autos['powerPS'].value_counts(dropna = False).sort_index()"
   ]
  },
  {
   "cell_type": "markdown",
   "id": "11bfdd46-10b2-47a8-a3df-01470ed4b42a",
   "metadata": {},
   "source": [
    "There seems to be unrealistic and incorrect values in the `powerPS` column. As we know from generally available data, that the power range of a car can lie between 150HP to 2000HP, knowing that are no cars in the world that have more than 1900 HP power."
   ]
  },
  {
   "cell_type": "markdown",
   "id": "5aaffe02-af79-4d4d-89d2-be4359fad5ef",
   "metadata": {},
   "source": [
    "We will thereby set a range on the PowerPS column, inturn cleaning it for the upcoming analysis."
   ]
  },
  {
   "cell_type": "code",
   "execution_count": 53,
   "id": "b7bb9f84-0d3f-4512-a5d7-96c223708a6f",
   "metadata": {},
   "outputs": [],
   "source": [
    "autos = autos[autos['powerPS'].between(100, 2000)]"
   ]
  },
  {
   "cell_type": "code",
   "execution_count": 55,
   "id": "28b21bd7-9485-401f-8446-7ee77e860f0c",
   "metadata": {},
   "outputs": [
    {
     "data": {
      "text/plain": [
       "powerPS\n",
       "100      1421\n",
       "101     12937\n",
       "102      6378\n",
       "103       950\n",
       "104       134\n",
       "        ...  \n",
       "1993        1\n",
       "1995        2\n",
       "1998        3\n",
       "1999        1\n",
       "2000        3\n",
       "Name: count, Length: 569, dtype: int64"
      ]
     },
     "execution_count": 55,
     "metadata": {},
     "output_type": "execute_result"
    }
   ],
   "source": [
    "autos['powerPS'].value_counts(dropna = False).sort_index()"
   ]
  },
  {
   "cell_type": "code",
   "execution_count": 61,
   "id": "6c7669b3-8d86-4360-943f-148db27b785e",
   "metadata": {},
   "outputs": [
    {
     "name": "stderr",
     "output_type": "stream",
     "text": [
      "C:\\Users\\Guester\\AppData\\Local\\Temp\\ipykernel_13180\\3469689658.py:1: SettingWithCopyWarning: \n",
      "A value is trying to be set on a copy of a slice from a DataFrame.\n",
      "Try using .loc[row_indexer,col_indexer] = value instead\n",
      "\n",
      "See the caveats in the documentation: https://pandas.pydata.org/pandas-docs/stable/user_guide/indexing.html#returning-a-view-versus-a-copy\n",
      "  autos['inHP'] = pd.cut(autos['powerPS'], bins = [0, 100, 500, 1000, 1500, 2000], labels = ['0-99', '100-499', '500-999', '1000-1499', '1500-2000'])\n"
     ]
    },
    {
     "data": {
      "text/html": [
       "<div>\n",
       "<style scoped>\n",
       "    .dataframe tbody tr th:only-of-type {\n",
       "        vertical-align: middle;\n",
       "    }\n",
       "\n",
       "    .dataframe tbody tr th {\n",
       "        vertical-align: top;\n",
       "    }\n",
       "\n",
       "    .dataframe thead th {\n",
       "        text-align: right;\n",
       "    }\n",
       "</style>\n",
       "<table border=\"1\" class=\"dataframe\">\n",
       "  <thead>\n",
       "    <tr style=\"text-align: right;\">\n",
       "      <th></th>\n",
       "      <th>inHP</th>\n",
       "      <th>avg_price</th>\n",
       "    </tr>\n",
       "  </thead>\n",
       "  <tbody>\n",
       "    <tr>\n",
       "      <th>0</th>\n",
       "      <td>0-99</td>\n",
       "      <td>2301.085151</td>\n",
       "    </tr>\n",
       "    <tr>\n",
       "      <th>1</th>\n",
       "      <td>100-499</td>\n",
       "      <td>7949.904290</td>\n",
       "    </tr>\n",
       "    <tr>\n",
       "      <th>2</th>\n",
       "      <td>500-999</td>\n",
       "      <td>34584.082759</td>\n",
       "    </tr>\n",
       "    <tr>\n",
       "      <th>3</th>\n",
       "      <td>1000-1499</td>\n",
       "      <td>2733.715789</td>\n",
       "    </tr>\n",
       "    <tr>\n",
       "      <th>4</th>\n",
       "      <td>1500-2000</td>\n",
       "      <td>3213.697368</td>\n",
       "    </tr>\n",
       "  </tbody>\n",
       "</table>\n",
       "</div>"
      ],
      "text/plain": [
       "        inHP     avg_price\n",
       "0       0-99   2301.085151\n",
       "1    100-499   7949.904290\n",
       "2    500-999  34584.082759\n",
       "3  1000-1499   2733.715789\n",
       "4  1500-2000   3213.697368"
      ]
     },
     "execution_count": 61,
     "metadata": {},
     "output_type": "execute_result"
    }
   ],
   "source": [
    "autos['inHP'] = pd.cut(autos['powerPS'], bins = [0, 100, 500, 1000, 1500, 2000], labels = ['0-99', '100-499', '500-999', '1000-1499', '1500-2000'])\n",
    "avg_fp = autos.groupby('inHP')['price'].mean().reset_index(name = 'avg_price')\n",
    "avg_fp"
   ]
  },
  {
   "cell_type": "markdown",
   "id": "bcedff40-cbb7-4f8d-98b0-6e2690749af0",
   "metadata": {},
   "source": [
    "Ignoring the warning for the time, we see the costliest types of used cars lie in the 500 - 999 HP power range, and cheapest are from 0 - 99."
   ]
  },
  {
   "cell_type": "code",
   "execution_count": null,
   "id": "05198602-4f83-4cd7-8f7c-d8b5e4700184",
   "metadata": {},
   "outputs": [],
   "source": []
  }
 ],
 "metadata": {
  "kernelspec": {
   "display_name": "Python 3 (ipykernel)",
   "language": "python",
   "name": "python3"
  },
  "language_info": {
   "codemirror_mode": {
    "name": "ipython",
    "version": 3
   },
   "file_extension": ".py",
   "mimetype": "text/x-python",
   "name": "python",
   "nbconvert_exporter": "python",
   "pygments_lexer": "ipython3",
   "version": "3.11.4"
  }
 },
 "nbformat": 4,
 "nbformat_minor": 5
}
