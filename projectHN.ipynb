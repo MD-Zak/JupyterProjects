{
 "cells": [
  {
   "cell_type": "markdown",
   "id": "e6bccf65-24f6-4b63-8a14-b98a38555a18",
   "metadata": {
    "tags": []
   },
   "source": [
    "# Project - HN\n",
    "In this project, we'll work with a dataset of submissions to popular technology site Hacker News.\n",
    "To find the best times to post, to find the average number of comments on each type of post - (Show and Ask HN post)."
   ]
  },
  {
   "cell_type": "markdown",
   "id": "6a6ae231-64f4-4358-832d-ae1cf8fd4f55",
   "metadata": {},
   "source": [
    "### 1. Introduction - Import the dataset."
   ]
  },
  {
   "cell_type": "code",
   "execution_count": 8,
   "id": "b549d77a-0cb4-45e6-9b04-bb7df1ace94f",
   "metadata": {},
   "outputs": [
    {
     "name": "stdout",
     "output_type": "stream",
     "text": [
      "[['id', 'title', 'url', 'num_points', 'num_comments', 'author', 'created_at'], ['12224879', 'Interactive Dynamic Video', 'http://www.interactivedynamicvideo.com/', '386', '52', 'ne0phyte', '8/4/2016 11:52'], ['10975351', 'How to Use Open Source and Shut the Fuck Up at the Same Time', 'http://hueniverse.com/2016/01/26/how-to-use-open-source-and-shut-the-fuck-up-at-the-same-time/', '39', '10', 'josep2', '1/26/2016 19:30'], ['11964716', \"Florida DJs May Face Felony for April Fools' Water Joke\", 'http://www.thewire.com/entertainment/2013/04/florida-djs-april-fools-water-joke/63798/', '2', '1', 'vezycash', '6/23/2016 22:20'], ['11919867', 'Technology ventures: From Idea to Enterprise', 'https://www.amazon.com/Technology-Ventures-Enterprise-Thomas-Byers/dp/0073523429', '3', '1', 'hswarna', '6/17/2016 0:01']]\n"
     ]
    }
   ],
   "source": [
    "from csv import reader\n",
    "\n",
    "with open(\"hacker_news.csv\") as f:\n",
    "    red_file = reader(f, delimiter = ',')\n",
    "    dataset = list(red_file)\n",
    "    print(dataset[:5])"
   ]
  },
  {
   "cell_type": "markdown",
   "id": "a3785716-5022-49dc-a8dc-231dfb3d3789",
   "metadata": {},
   "source": [
    "### 2. Removing Headers from a List of Lists."
   ]
  },
  {
   "cell_type": "code",
   "execution_count": 9,
   "id": "431cb9c8-d06c-40c1-9f4b-da2cc82a66e6",
   "metadata": {},
   "outputs": [
    {
     "name": "stdout",
     "output_type": "stream",
     "text": [
      "[['id', 'title', 'url', 'num_points', 'num_comments', 'author', 'created_at']]\n",
      "\n",
      "\n",
      "[['12224879', 'Interactive Dynamic Video', 'http://www.interactivedynamicvideo.com/', '386', '52', 'ne0phyte', '8/4/2016 11:52'], ['10975351', 'How to Use Open Source and Shut the Fuck Up at the Same Time', 'http://hueniverse.com/2016/01/26/how-to-use-open-source-and-shut-the-fuck-up-at-the-same-time/', '39', '10', 'josep2', '1/26/2016 19:30'], ['11964716', \"Florida DJs May Face Felony for April Fools' Water Joke\", 'http://www.thewire.com/entertainment/2013/04/florida-djs-april-fools-water-joke/63798/', '2', '1', 'vezycash', '6/23/2016 22:20'], ['11919867', 'Technology ventures: From Idea to Enterprise', 'https://www.amazon.com/Technology-Ventures-Enterprise-Thomas-Byers/dp/0073523429', '3', '1', 'hswarna', '6/17/2016 0:01'], ['10301696', 'Note by Note: The Making of Steinway L1037 (2007)', 'http://www.nytimes.com/2007/11/07/movies/07stein.html?_r=0', '8', '2', 'walterbell', '9/30/2015 4:12']]\n"
     ]
    }
   ],
   "source": [
    "#Removing the header row from the main dataset.\n",
    "headers = dataset[:1]\n",
    "hn = dataset[1:]\n",
    "print(headers)\n",
    "print(\"\\n\")\n",
    "print(hn[:5])"
   ]
  },
  {
   "cell_type": "markdown",
   "id": "7498366f-c74f-41c5-a7a5-85c42fbc46f6",
   "metadata": {},
   "source": [
    "Next, we will separate the Ask HN and Show HN posts from the rest of the posts, as these kinds of posts are different from the usual Hacker news post."
   ]
  },
  {
   "cell_type": "markdown",
   "id": "c48b5dfb-0115-48d0-9a19-f0ec1d4cd5a0",
   "metadata": {},
   "source": [
    "### 3. Extracting Ask HN and Show HN Posts."
   ]
  },
  {
   "cell_type": "code",
   "execution_count": 10,
   "id": "1ba1de54-3f58-4b1d-a3eb-9e2fc34d2f99",
   "metadata": {},
   "outputs": [
    {
     "name": "stdout",
     "output_type": "stream",
     "text": [
      "1744\n",
      "1162\n",
      "17194\n"
     ]
    }
   ],
   "source": [
    "ask_posts = []\n",
    "show_posts = []\n",
    "other_posts = []\n",
    "\n",
    "for row in hn:\n",
    "    if row[1].lower().startswith(\"ask hn\"):\n",
    "        ask_posts.append(row)\n",
    "    elif row[1].lower().startswith(\"show hn\"):\n",
    "        show_posts.append(row)\n",
    "    else:\n",
    "        other_posts.append(row)\n",
    "print(len(ask_posts))\n",
    "print(len(show_posts))\n",
    "print(len(other_posts))"
   ]
  },
  {
   "cell_type": "markdown",
   "id": "7dd12a25-89b6-4d0d-8835-078de4f6d87a",
   "metadata": {},
   "source": [
    "### 4. Calculating the Average Number of Comments for Ask HN and Show HN Posts."
   ]
  },
  {
   "cell_type": "code",
   "execution_count": 11,
   "id": "24e6bfbd-4f0d-461e-9cbe-053ee1084ecc",
   "metadata": {},
   "outputs": [
    {
     "name": "stdout",
     "output_type": "stream",
     "text": [
      "Average comments count for Ask HN posts is: 14.04\n",
      "Average number of comments for the Show HN posts is: 10.32\n"
     ]
    }
   ],
   "source": [
    "total_ask_comments = 0\n",
    "total_show_comments = 0\n",
    "count = 0\n",
    "\n",
    "for row in ask_posts:\n",
    "    total_ask_comments += int(row[4]) # ind 4 contains the num_comments.\n",
    "    avg = total_ask_comments/len(ask_posts)\n",
    "print(\"Average comments count for Ask HN posts is:\", round(avg,2))\n",
    "\n",
    "for row in show_posts:\n",
    "    total_show_comments += int(row[4])\n",
    "print(\"Average number of comments for the Show HN posts is:\",round(total_show_comments/len(show_posts),2))"
   ]
  },
  {
   "cell_type": "markdown",
   "id": "d0f81f04-b30f-4c75-aff7-f8e4d36f04f7",
   "metadata": {},
   "source": [
    "Above, we see that **Ask HN** posts have the highest average comments/responses among the Ask and Show HN posts. That is, it can be said from the observed data that each ASK posts receive at least **14.04 comments on average.**"
   ]
  },
  {
   "cell_type": "markdown",
   "id": "5cf5d801-bca3-4109-b289-2031be5b0b64",
   "metadata": {},
   "source": [
    "Next, we'll determine if ask posts created at a certain time are more likely to attract comments. We'll use the following steps to perform this analysis:\n",
    "<ol>\n",
    "   <li> Calculate the number of ask posts created in each hour of the day, along with the number of comments received.</li>\n",
    "    <li> Calculate the average number of comments ask posts receive by hour created.</li>\n",
    "</ol>"
   ]
  },
  {
   "cell_type": "markdown",
   "id": "0669c616-16ec-4661-b2cd-4088fa34d2ce",
   "metadata": {},
   "source": [
    "### 5. Finding the Number of Ask Posts and Comments by Hour Created."
   ]
  },
  {
   "cell_type": "code",
   "execution_count": 12,
   "id": "49134d35-d189-4b32-b050-0a05d8628141",
   "metadata": {
    "tags": []
   },
   "outputs": [
    {
     "data": {
      "text/plain": [
       "{'09': 251,\n",
       " '13': 1253,\n",
       " '10': 793,\n",
       " '14': 1416,\n",
       " '16': 1814,\n",
       " '23': 543,\n",
       " '12': 687,\n",
       " '17': 1146,\n",
       " '15': 4477,\n",
       " '21': 1745,\n",
       " '20': 1722,\n",
       " '02': 1381,\n",
       " '18': 1439,\n",
       " '03': 421,\n",
       " '05': 464,\n",
       " '19': 1188,\n",
       " '01': 683,\n",
       " '22': 479,\n",
       " '08': 492,\n",
       " '04': 337,\n",
       " '00': 447,\n",
       " '06': 397,\n",
       " '07': 267,\n",
       " '11': 641}"
      ]
     },
     "execution_count": 12,
     "metadata": {},
     "output_type": "execute_result"
    }
   ],
   "source": [
    "# To calculate the number of ask posts created per hour, along with the total number of comments.\n",
    "\n",
    "import datetime as dt\n",
    "\n",
    "result_list = []\n",
    "for row in ask_posts:\n",
    "    \n",
    "    # appending as a list of list to result_list.\n",
    "    result_list.append(\n",
    "        [row[6], int(row[4])]\n",
    "    )\n",
    "    #ind 6 is the Created date, and ind 4 is the num_comments.\n",
    "    \n",
    "counts_by_hour = {} # to count the num. of ask posts created for the hour.\n",
    "comments_by_hour = {} # to count the num. of comments created for the hour.\n",
    "\n",
    "for row in result_list: \n",
    "    \n",
    "    #Converting to dt obj to extract only the Hour.\n",
    "    time = dt.datetime.strptime(row[0], \"%m/%d/%Y %H:%M\").strftime(\"%H\")\n",
    "    comment = row[1]\n",
    "    \n",
    "    # Populating the dicts. with hours' freq./num_posts and num_commnts for each hour.\n",
    "    if time in counts_by_hour:        \n",
    "        comments_by_hour[time] += comment\n",
    "        counts_by_hour[time] += 1  \n",
    "        #print(comments_by_hour)\n",
    "    else:\n",
    "        comments_by_hour[time] = comment \n",
    "        counts_by_hour[time] = 1        \n",
    "        \n",
    "comments_by_hour"
   ]
  },
  {
   "cell_type": "code",
   "execution_count": 14,
   "id": "f0a5e402-484d-439e-a295-e958e6dfaef7",
   "metadata": {},
   "outputs": [
    {
     "data": {
      "text/plain": [
       "{'09': 45,\n",
       " '13': 85,\n",
       " '10': 59,\n",
       " '14': 107,\n",
       " '16': 108,\n",
       " '23': 68,\n",
       " '12': 73,\n",
       " '17': 100,\n",
       " '15': 116,\n",
       " '21': 109,\n",
       " '20': 80,\n",
       " '02': 58,\n",
       " '18': 109,\n",
       " '03': 54,\n",
       " '05': 46,\n",
       " '19': 110,\n",
       " '01': 60,\n",
       " '22': 71,\n",
       " '08': 48,\n",
       " '04': 47,\n",
       " '00': 55,\n",
       " '06': 44,\n",
       " '07': 34,\n",
       " '11': 58}"
      ]
     },
     "execution_count": 14,
     "metadata": {},
     "output_type": "execute_result"
    }
   ],
   "source": [
    "counts_by_hour #num. of posts by hour created."
   ]
  },
  {
   "cell_type": "code",
   "execution_count": 18,
   "id": "15aa5f98-d340-4ab3-ab60-dee062e4d10d",
   "metadata": {},
   "outputs": [
    {
     "name": "stdout",
     "output_type": "stream",
     "text": [
      "<class 'int'>\n",
      "<class 'int'>\n"
     ]
    }
   ],
   "source": [
    "print(type(comments_by_hour['10']))\n",
    "print(type(len(comments_by_hour)))"
   ]
  },
  {
   "cell_type": "markdown",
   "id": "b1ef0830-2157-4c6d-b962-1cea1de9e490",
   "metadata": {},
   "source": [
    "### 6. Calculating the Average Number of Comments for Ask HN Posts by Hour."
   ]
  },
  {
   "cell_type": "markdown",
   "id": "7fdaa4a1-f885-40b6-8513-31b9350c2fb6",
   "metadata": {
    "tags": []
   },
   "source": [
    "Here we will proceed to calculate the average number of comments per post for posts created during each hour of the day."
   ]
  },
  {
   "cell_type": "code",
   "execution_count": 21,
   "id": "13e49ea6-e441-43dc-abfc-d6726e1b2bdb",
   "metadata": {
    "tags": []
   },
   "outputs": [
    {
     "name": "stdout",
     "output_type": "stream",
     "text": [
      "09 : 5.5777777777777775\n",
      "13 : 14.741176470588234\n",
      "10 : 13.440677966101696\n",
      "14 : 13.233644859813085\n",
      "16 : 16.796296296296298\n",
      "23 : 7.985294117647059\n",
      "12 : 9.41095890410959\n",
      "17 : 11.46\n",
      "15 : 38.5948275862069\n",
      "21 : 16.009174311926607\n",
      "20 : 21.525\n",
      "02 : 23.810344827586206\n",
      "18 : 13.20183486238532\n",
      "03 : 7.796296296296297\n",
      "05 : 10.08695652173913\n",
      "19 : 10.8\n",
      "01 : 11.383333333333333\n",
      "22 : 6.746478873239437\n",
      "08 : 10.25\n",
      "04 : 7.170212765957447\n",
      "00 : 8.127272727272727\n",
      "06 : 9.022727272727273\n",
      "07 : 7.852941176470588\n",
      "11 : 11.051724137931034\n"
     ]
    }
   ],
   "source": [
    "avg_by_hour = []\n",
    "\n",
    "total_comments = 0\n",
    "total_posts = 0\n",
    "for hour in comments_by_hour:\n",
    "    \n",
    "    #total_comments += comments_by_hour[hour] # Totalling has been already done in the dicts.\n",
    "    #total_posts += counts_by_hour[hour]\n",
    "    avg = comments_by_hour[hour]/counts_by_hour[hour]\n",
    "    \n",
    "    avg_by_hour.append([hour, avg])\n",
    "     \n",
    "for row in avg_by_hour: #avg_by_hour is a list of lists.\n",
    "    print(row[0],':',row[1]) "
   ]
  },
  {
   "cell_type": "markdown",
   "id": "1cf4c994-d8e3-4368-bd6f-aee4415ed600",
   "metadata": {},
   "source": [
    "Above, as the objective is to find the average numbers of comments for the particular hours, each comments and posts for that hour was totalled in the freq dicts.\n",
    "Finally dividing each value with the post_counts at that hour would result in average comments per posts at that hour."
   ]
  },
  {
   "cell_type": "markdown",
   "id": "b10f80d0-fcea-4af7-ad07-7ff563b21032",
   "metadata": {},
   "source": [
    "### 7. Sorting and Printing Values from a List of Lists."
   ]
  },
  {
   "cell_type": "code",
   "execution_count": 22,
   "id": "2df570ca-d56e-4a2c-b649-aec5a9df5871",
   "metadata": {
    "tags": []
   },
   "outputs": [
    {
     "name": "stdout",
     "output_type": "stream",
     "text": [
      "Top 5 Hours for Ask Post Comments\n",
      "15:00: 38.59 average comments per post\n",
      "02:00: 23.81 average comments per post\n",
      "20:00: 21.52 average comments per post\n",
      "16:00: 16.80 average comments per post\n",
      "21:00: 16.01 average comments per post\n"
     ]
    }
   ],
   "source": [
    "swap_avg_by_hour = []\n",
    "for row in avg_by_hour:\n",
    "    swap_avg_by_hour.append([row[1],row[0]])\n",
    "sorted_swap = sorted(swap_avg_by_hour, reverse = True)\n",
    "\n",
    "print(\"Top 5 Hours for Ask Post Comments\")\n",
    "for i in sorted_swap[:5]:\n",
    "    print(\"{}: {:.2f} average comments per post\".format(dt.datetime.strptime(i[1], \"%H\").strftime(\"%H:%M\"),i[0]))"
   ]
  },
  {
   "cell_type": "markdown",
   "id": "37bf1147-e9bb-4244-b8c9-0069dd7dd7ed",
   "metadata": {},
   "source": [
    "\n",
    "The hour that receives the most comments per post on average is **15:00**, with an average of **38.59 comments per post**. There's about a 60% increase in the number of comments between the hours with the highest and second highest average number of comments."
   ]
  },
  {
   "cell_type": "markdown",
   "id": "1f86c7ba-2027-4b71-a4c0-1f4223f5ca48",
   "metadata": {},
   "source": [
    "\n",
    "## **Conclusion.**\n",
    "\n",
    "In this project, we analyzed ask posts and show posts to determine which type of post and time receive the most comments on average. Based on our analysis, to maximize the amount of comments a post receives, we'd recommend the post be **categorized as ask post** and created **between 15:00 and 16:00 (3:00 pm est - 4:00 pm est).**\n",
    "\n",
    "However, it should be noted that the data set we analyzed excluded posts without any comments. Given that, it's more accurate to say that of the posts that received comments, ask posts received more comments on average and ask posts created between 15:00 and 16:00 (3:00 pm est - 4:00 pm est) received the most comments on average.\n"
   ]
  },
  {
   "cell_type": "markdown",
   "id": "1908322c-fb21-4832-a681-dd9d1fd79c65",
   "metadata": {},
   "source": [
    "#### **Some next steps to consider:**\n",
    "<ol>\n",
    "    <li>Determine if show or ask posts receive more points on average.</li>\n",
    "    <li>Determine if posts created at a certain time are more likely to receive more points.</li>\n",
    "    <li>Compare the results to the average number of comments and points other posts receive. </li>\n",
    "</ol>    "
   ]
  },
  {
   "cell_type": "markdown",
   "id": "4f1148f0-cd67-4816-9a74-6b7c44d32501",
   "metadata": {},
   "source": [
    "#### 1. Determine if show or ask posts receive more points on average."
   ]
  },
  {
   "cell_type": "code",
   "execution_count": 61,
   "id": "4d90d908-2b5d-4f9b-9747-9549f2671e57",
   "metadata": {},
   "outputs": [
    {
     "name": "stdout",
     "output_type": "stream",
     "text": [
      "Average points for Ask posts are: 15.06\n",
      "Average points for Show posts are: 27.56\n",
      "Average points for Other posts are: 55.41\n",
      "Average comments for Other posts are: 26.87\n"
     ]
    }
   ],
   "source": [
    "total_points = 0\n",
    "tot = 0\n",
    "oth = 0\n",
    "oth_c = 0\n",
    "for row in ask_posts:\n",
    "    total_points += int(row[3])\n",
    "print(\"Average points for Ask posts are:\", round(total_points/len(ask_posts),2))\n",
    "\n",
    "for row in show_posts:\n",
    "    tot += int(row[3])\n",
    "print(\"Average points for Show posts are:\", round(tot/len(show_posts),2))\n",
    "\n",
    "for row in other_posts:\n",
    "    oth += int(row[3])\n",
    "print(\"Average points for Other posts are:\", round(oth/len(other_posts),2))\n",
    "\n",
    "\n",
    "for row in other_posts:\n",
    "    oth_c += int(row[4])\n",
    "print(\"Average comments for Other posts are:\", round(oth_c/len(other_posts),2))\n",
    "\n"
   ]
  },
  {
   "cell_type": "markdown",
   "id": "14f6f504-11da-4657-823e-63864bde0319",
   "metadata": {},
   "source": [
    "Above, we see Show HN posts have the average points of 27.56 Also, we see that the average points and comments for **Other posts** apart from Ask and Show HN posts have the **highest average** among all three types of posts."
   ]
  },
  {
   "cell_type": "markdown",
   "id": "ac543e74-20f1-4770-bb81-e4f5cdaef34c",
   "metadata": {
    "tags": []
   },
   "source": [
    "#### 2. Next, let us determine if posts created at a certain time are more likely to receive more points."
   ]
  },
  {
   "cell_type": "code",
   "execution_count": 47,
   "id": "8bce2713-ce32-49f7-adc7-da30e59d3f66",
   "metadata": {
    "tags": []
   },
   "outputs": [],
   "source": [
    "def best_postpoints_time(posts):\n",
    "    points_at_hours = {}\n",
    "\n",
    "    for row in posts:\n",
    "\n",
    "        time = dt.datetime.strptime(row[-1], \"%m/%d/%Y %H:%M\").strftime(\"%H\")\n",
    "\n",
    "        if time in points_at_hours:\n",
    "            points_at_hours[time] += int(row[3])\n",
    "        else:\n",
    "            points_at_hours[time] = int(row[3])\n",
    "\n",
    "    #Next, we will try to sort the points by hours in a descending order to find the highest point hours.    \n",
    "    points_list = []\n",
    "    for key in points_at_hours:\n",
    "        points_list.append([points_at_hours[key], key])\n",
    "    points_list = sorted(points_list, reverse = True)\n",
    "\n",
    "    # The below loop will print the points.\n",
    "    for row in points_list[:5]:\n",
    "        print(dt.datetime.strptime(row[1], \"%H\").strftime(\"%H:%M\"),\":\",row[0])"
   ]
  },
  {
   "cell_type": "code",
   "execution_count": 59,
   "id": "4b804987-6e2c-4c84-9526-3b9a345c7e04",
   "metadata": {},
   "outputs": [
    {
     "name": "stdout",
     "output_type": "stream",
     "text": [
      "Show posts and their best time for highest points\n",
      "16:00 : 2634\n",
      "12:00 : 2543\n",
      "17:00 : 2521\n",
      "13:00 : 2438\n",
      "15:00 : 2228\n",
      "\n",
      "Ask posts and their best time for highest points\n",
      "15:00 : 3479\n",
      "16:00 : 2522\n",
      "13:00 : 2062\n",
      "17:00 : 1941\n",
      "18:00 : 1741\n",
      "\n",
      "Other posts and their best time for highest points\n",
      "17:00 : 67777\n",
      "15:00 : 62964\n",
      "16:00 : 59655\n",
      "14:00 : 59191\n",
      "19:00 : 58811\n"
     ]
    }
   ],
   "source": [
    "print(\"Show posts and their best time for highest points\")\n",
    "best_postpoints_time(show_posts)\n",
    "print(\"\\nAsk posts and their best time for highest points\")\n",
    "best_postpoints_time(ask_posts)\n",
    "print(\"\\nOther posts and their best time for highest points\")\n",
    "best_postpoints_time(other_posts)"
   ]
  },
  {
   "cell_type": "markdown",
   "id": "1e5dd574-2686-49da-ada7-d8d307cd0210",
   "metadata": {},
   "source": [
    "Thus, we see at **16:00 EST**, the posts created have the highest points for Show posts and **15:00 EST**, for Ask posts, **17:00 EST**, for all other posts."
   ]
  },
  {
   "cell_type": "markdown",
   "id": "d87c8eab-4d8b-4935-8a4f-19ab6262c070",
   "metadata": {},
   "source": [
    "### 3. Conclusion on Extras.\n",
    "To conclude on this extra exploration of the dataset. We see that the average points and comments for **Other posts** apart from Ask and Show HN posts have the **highest average** among all three types of posts."
   ]
  }
 ],
 "metadata": {
  "kernelspec": {
   "display_name": "Python 3 (ipykernel)",
   "language": "python",
   "name": "python3"
  },
  "language_info": {
   "codemirror_mode": {
    "name": "ipython",
    "version": 3
   },
   "file_extension": ".py",
   "mimetype": "text/x-python",
   "name": "python",
   "nbconvert_exporter": "python",
   "pygments_lexer": "ipython3",
   "version": "3.11.4"
  }
 },
 "nbformat": 4,
 "nbformat_minor": 5
}
