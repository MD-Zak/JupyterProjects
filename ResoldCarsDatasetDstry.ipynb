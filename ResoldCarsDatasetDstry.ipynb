{
 "cells": [
  {
   "cell_type": "markdown",
   "id": "a073f3af-534a-49e1-a328-90811af26baa",
   "metadata": {},
   "source": [
    "# **Exploring eBay Car Sales Data** \n",
    "This notebook will be destroyed/deleted at the end."
   ]
  },
  {
   "cell_type": "markdown",
   "id": "c68e6dab-8d02-48ec-aa4d-7d074133d187",
   "metadata": {},
   "source": [
    "## **Table of contents**\n",
    "\n",
    "1. [Introduction]()\n",
    "<ul>\n",
    "    <li>Project Description</li>\n",
    "    <li>Data Description</li>\n",
    "</ul>\n",
    "\n",
    "2. [Importing and Loading Data]()\n",
    "<ul>\n",
    "    <li>\n",
    "        Importing Libraries\n",
    "    </li>\n",
    "    <li>\n",
    "        Reading in Data\n",
    "    </li>\n",
    "    <li>\n",
    "        Exploring the Data\n",
    "    </li>\n",
    "</ul>\n",
    "\n",
    "3. [Data Cleaning]()\n",
    "<ul>\n",
    "    <li>Cleaning Column Names</li>    \n",
    "</ul>\n",
    "\n",
    "4. [Data Analysis]()\n",
    "<ul>\n",
    "    <li>Initial Exploration and Cleaning</li>\n",
    "    <ul>\n",
    "        <li>Candidate columns to be dropped</li>\n",
    "        <li>Columns that need more investigation</li>\n",
    "        <li>Columns that need dtype conversion</li>\n",
    "    </ul>\n",
    "</ul>\n"
   ]
  },
  {
   "cell_type": "markdown",
   "id": "451ae0d4-f687-473e-a196-9b8faa301bfc",
   "metadata": {},
   "source": [
    "## **Introduction**"
   ]
  },
  {
   "cell_type": "markdown",
   "id": "97b57280-beb2-44d2-95a0-f2e3de1566ae",
   "metadata": {},
   "source": [
    "### Project Description"
   ]
  },
  {
   "cell_type": "markdown",
   "id": "da36f0b8-502c-4bba-af77-54fb7807f589",
   "metadata": {},
   "source": [
    "In this guided project, we'll work with a dataset of used cars from eBay Kleinanzeigen, a classifieds section of the German eBay website."
   ]
  },
  {
   "cell_type": "markdown",
   "id": "2f976715-e001-4ddd-bef8-3a8d9b7bc97a",
   "metadata": {},
   "source": [
    "### Data Description"
   ]
  },
  {
   "cell_type": "markdown",
   "id": "79a18064-12d7-4c8d-90d5-027f071b9d06",
   "metadata": {},
   "source": [
    "- `dateCrawled` - When this ad was first crawled. All field-values are taken from this date.\n",
    "- `name` - Name of the car.\n",
    "- `seller` - Whether the seller is private or a dealer.\n",
    "- `offerType` - The type of listing\n",
    "- `price` - The price on the ad to sell the car.\n",
    "- `abtest` - Whether the listing is included in an A/B test.\n",
    "- `vehicleType` - The vehicle Type.\n",
    "- `yearOfRegistration` - The year in which the car was first registered.\n",
    "- `gearbox` - The transmission type.\n",
    "- `powerPS` - The power of the car in PS.\n",
    "- `model` - The car model name.\n",
    "- `kilometer` - How many kilometers the car has driven.\n",
    "- `monthOfRegistration` - The month in which the car was first registered.\n",
    "- `fuelType` - What type of fuel the car uses.\n",
    "- `brand` - The brand of the car.\n",
    "- `notRepairedDamage` - If the car has a damage which is not yet repaired.\n",
    "- `dateCreated` - The date on which the eBay listing was created.\n",
    "- `nrOfPictures` - The number of pictures in the ad.\n",
    "- `postalCode` - The postal code for the location of the vehicle.\n",
    "- `lastSeen` - When the crawler saw this ad last online.\n"
   ]
  },
  {
   "cell_type": "markdown",
   "id": "ed63466c-06a4-4d09-ba7b-cb833072d2c5",
   "metadata": {},
   "source": [
    "## **Importing and Loading Data**"
   ]
  },
  {
   "cell_type": "markdown",
   "id": "f2ec3a68-46dd-49a2-8984-044fd3c2029c",
   "metadata": {},
   "source": [
    "### Importing Libraries"
   ]
  },
  {
   "cell_type": "code",
   "execution_count": 1,
   "id": "59753134-186b-4371-a958-1001a12ccf21",
   "metadata": {},
   "outputs": [],
   "source": [
    "import pandas as pd"
   ]
  },
  {
   "cell_type": "markdown",
   "id": "cbd2b157-e229-4439-bb1c-c43f73ac08cb",
   "metadata": {},
   "source": [
    "### Reading in Data"
   ]
  },
  {
   "cell_type": "code",
   "execution_count": 2,
   "id": "e32d2420-9b9d-40fb-83b0-543edfe129bf",
   "metadata": {},
   "outputs": [],
   "source": [
    "autos = pd.read_csv('../Datasets/autos.csv', encoding = 'Latin-1')"
   ]
  },
  {
   "cell_type": "markdown",
   "id": "fa491d3d-7e72-49bf-9918-f8bf6094f845",
   "metadata": {},
   "source": [
    "### Exploring the Data"
   ]
  },
  {
   "cell_type": "code",
   "execution_count": 3,
   "id": "3bf8371f-7cfe-4fd3-8276-44bbab35d075",
   "metadata": {},
   "outputs": [
    {
     "data": {
      "text/html": [
       "<div>\n",
       "<style scoped>\n",
       "    .dataframe tbody tr th:only-of-type {\n",
       "        vertical-align: middle;\n",
       "    }\n",
       "\n",
       "    .dataframe tbody tr th {\n",
       "        vertical-align: top;\n",
       "    }\n",
       "\n",
       "    .dataframe thead th {\n",
       "        text-align: right;\n",
       "    }\n",
       "</style>\n",
       "<table border=\"1\" class=\"dataframe\">\n",
       "  <thead>\n",
       "    <tr style=\"text-align: right;\">\n",
       "      <th></th>\n",
       "      <th>dateCrawled</th>\n",
       "      <th>name</th>\n",
       "      <th>seller</th>\n",
       "      <th>offerType</th>\n",
       "      <th>price</th>\n",
       "      <th>abtest</th>\n",
       "      <th>vehicleType</th>\n",
       "      <th>yearOfRegistration</th>\n",
       "      <th>gearbox</th>\n",
       "      <th>powerPS</th>\n",
       "      <th>model</th>\n",
       "      <th>kilometer</th>\n",
       "      <th>monthOfRegistration</th>\n",
       "      <th>fuelType</th>\n",
       "      <th>brand</th>\n",
       "      <th>notRepairedDamage</th>\n",
       "      <th>dateCreated</th>\n",
       "      <th>nrOfPictures</th>\n",
       "      <th>postalCode</th>\n",
       "      <th>lastSeen</th>\n",
       "    </tr>\n",
       "  </thead>\n",
       "  <tbody>\n",
       "    <tr>\n",
       "      <th>0</th>\n",
       "      <td>2016-03-24 11:52:17</td>\n",
       "      <td>Golf_3_1.6</td>\n",
       "      <td>privat</td>\n",
       "      <td>Angebot</td>\n",
       "      <td>480</td>\n",
       "      <td>test</td>\n",
       "      <td>NaN</td>\n",
       "      <td>1993</td>\n",
       "      <td>manuell</td>\n",
       "      <td>0</td>\n",
       "      <td>golf</td>\n",
       "      <td>150000</td>\n",
       "      <td>0</td>\n",
       "      <td>benzin</td>\n",
       "      <td>volkswagen</td>\n",
       "      <td>NaN</td>\n",
       "      <td>2016-03-24 00:00:00</td>\n",
       "      <td>0</td>\n",
       "      <td>70435</td>\n",
       "      <td>2016-04-07 03:16:57</td>\n",
       "    </tr>\n",
       "    <tr>\n",
       "      <th>1</th>\n",
       "      <td>2016-03-24 10:58:45</td>\n",
       "      <td>A5_Sportback_2.7_Tdi</td>\n",
       "      <td>privat</td>\n",
       "      <td>Angebot</td>\n",
       "      <td>18300</td>\n",
       "      <td>test</td>\n",
       "      <td>coupe</td>\n",
       "      <td>2011</td>\n",
       "      <td>manuell</td>\n",
       "      <td>190</td>\n",
       "      <td>NaN</td>\n",
       "      <td>125000</td>\n",
       "      <td>5</td>\n",
       "      <td>diesel</td>\n",
       "      <td>audi</td>\n",
       "      <td>ja</td>\n",
       "      <td>2016-03-24 00:00:00</td>\n",
       "      <td>0</td>\n",
       "      <td>66954</td>\n",
       "      <td>2016-04-07 01:46:50</td>\n",
       "    </tr>\n",
       "    <tr>\n",
       "      <th>2</th>\n",
       "      <td>2016-03-14 12:52:21</td>\n",
       "      <td>Jeep_Grand_Cherokee_\"Overland\"</td>\n",
       "      <td>privat</td>\n",
       "      <td>Angebot</td>\n",
       "      <td>9800</td>\n",
       "      <td>test</td>\n",
       "      <td>suv</td>\n",
       "      <td>2004</td>\n",
       "      <td>automatik</td>\n",
       "      <td>163</td>\n",
       "      <td>grand</td>\n",
       "      <td>125000</td>\n",
       "      <td>8</td>\n",
       "      <td>diesel</td>\n",
       "      <td>jeep</td>\n",
       "      <td>NaN</td>\n",
       "      <td>2016-03-14 00:00:00</td>\n",
       "      <td>0</td>\n",
       "      <td>90480</td>\n",
       "      <td>2016-04-05 12:47:46</td>\n",
       "    </tr>\n",
       "    <tr>\n",
       "      <th>3</th>\n",
       "      <td>2016-03-17 16:54:04</td>\n",
       "      <td>GOLF_4_1_4__3TÜRER</td>\n",
       "      <td>privat</td>\n",
       "      <td>Angebot</td>\n",
       "      <td>1500</td>\n",
       "      <td>test</td>\n",
       "      <td>kleinwagen</td>\n",
       "      <td>2001</td>\n",
       "      <td>manuell</td>\n",
       "      <td>75</td>\n",
       "      <td>golf</td>\n",
       "      <td>150000</td>\n",
       "      <td>6</td>\n",
       "      <td>benzin</td>\n",
       "      <td>volkswagen</td>\n",
       "      <td>nein</td>\n",
       "      <td>2016-03-17 00:00:00</td>\n",
       "      <td>0</td>\n",
       "      <td>91074</td>\n",
       "      <td>2016-03-17 17:40:17</td>\n",
       "    </tr>\n",
       "    <tr>\n",
       "      <th>4</th>\n",
       "      <td>2016-03-31 17:25:20</td>\n",
       "      <td>Skoda_Fabia_1.4_TDI_PD_Classic</td>\n",
       "      <td>privat</td>\n",
       "      <td>Angebot</td>\n",
       "      <td>3600</td>\n",
       "      <td>test</td>\n",
       "      <td>kleinwagen</td>\n",
       "      <td>2008</td>\n",
       "      <td>manuell</td>\n",
       "      <td>69</td>\n",
       "      <td>fabia</td>\n",
       "      <td>90000</td>\n",
       "      <td>7</td>\n",
       "      <td>diesel</td>\n",
       "      <td>skoda</td>\n",
       "      <td>nein</td>\n",
       "      <td>2016-03-31 00:00:00</td>\n",
       "      <td>0</td>\n",
       "      <td>60437</td>\n",
       "      <td>2016-04-06 10:17:21</td>\n",
       "    </tr>\n",
       "  </tbody>\n",
       "</table>\n",
       "</div>"
      ],
      "text/plain": [
       "           dateCrawled                            name  seller offerType  \\\n",
       "0  2016-03-24 11:52:17                      Golf_3_1.6  privat   Angebot   \n",
       "1  2016-03-24 10:58:45            A5_Sportback_2.7_Tdi  privat   Angebot   \n",
       "2  2016-03-14 12:52:21  Jeep_Grand_Cherokee_\"Overland\"  privat   Angebot   \n",
       "3  2016-03-17 16:54:04              GOLF_4_1_4__3TÜRER  privat   Angebot   \n",
       "4  2016-03-31 17:25:20  Skoda_Fabia_1.4_TDI_PD_Classic  privat   Angebot   \n",
       "\n",
       "   price abtest vehicleType  yearOfRegistration    gearbox  powerPS  model  \\\n",
       "0    480   test         NaN                1993    manuell        0   golf   \n",
       "1  18300   test       coupe                2011    manuell      190    NaN   \n",
       "2   9800   test         suv                2004  automatik      163  grand   \n",
       "3   1500   test  kleinwagen                2001    manuell       75   golf   \n",
       "4   3600   test  kleinwagen                2008    manuell       69  fabia   \n",
       "\n",
       "   kilometer  monthOfRegistration fuelType       brand notRepairedDamage  \\\n",
       "0     150000                    0   benzin  volkswagen               NaN   \n",
       "1     125000                    5   diesel        audi                ja   \n",
       "2     125000                    8   diesel        jeep               NaN   \n",
       "3     150000                    6   benzin  volkswagen              nein   \n",
       "4      90000                    7   diesel       skoda              nein   \n",
       "\n",
       "           dateCreated  nrOfPictures  postalCode             lastSeen  \n",
       "0  2016-03-24 00:00:00             0       70435  2016-04-07 03:16:57  \n",
       "1  2016-03-24 00:00:00             0       66954  2016-04-07 01:46:50  \n",
       "2  2016-03-14 00:00:00             0       90480  2016-04-05 12:47:46  \n",
       "3  2016-03-17 00:00:00             0       91074  2016-03-17 17:40:17  \n",
       "4  2016-03-31 00:00:00             0       60437  2016-04-06 10:17:21  "
      ]
     },
     "execution_count": 3,
     "metadata": {},
     "output_type": "execute_result"
    }
   ],
   "source": [
    "autos.head()"
   ]
  },
  {
   "cell_type": "code",
   "execution_count": 4,
   "id": "ad89af3c-7b1a-4dea-81dc-3d4bfd7b3276",
   "metadata": {},
   "outputs": [
    {
     "name": "stdout",
     "output_type": "stream",
     "text": [
      "<class 'pandas.core.frame.DataFrame'>\n",
      "RangeIndex: 371528 entries, 0 to 371527\n",
      "Data columns (total 20 columns):\n",
      " #   Column               Non-Null Count   Dtype \n",
      "---  ------               --------------   ----- \n",
      " 0   dateCrawled          371528 non-null  object\n",
      " 1   name                 371528 non-null  object\n",
      " 2   seller               371528 non-null  object\n",
      " 3   offerType            371528 non-null  object\n",
      " 4   price                371528 non-null  int64 \n",
      " 5   abtest               371528 non-null  object\n",
      " 6   vehicleType          333659 non-null  object\n",
      " 7   yearOfRegistration   371528 non-null  int64 \n",
      " 8   gearbox              351319 non-null  object\n",
      " 9   powerPS              371528 non-null  int64 \n",
      " 10  model                351044 non-null  object\n",
      " 11  kilometer            371528 non-null  int64 \n",
      " 12  monthOfRegistration  371528 non-null  int64 \n",
      " 13  fuelType             338142 non-null  object\n",
      " 14  brand                371528 non-null  object\n",
      " 15  notRepairedDamage    299468 non-null  object\n",
      " 16  dateCreated          371528 non-null  object\n",
      " 17  nrOfPictures         371528 non-null  int64 \n",
      " 18  postalCode           371528 non-null  int64 \n",
      " 19  lastSeen             371528 non-null  object\n",
      "dtypes: int64(7), object(13)\n",
      "memory usage: 56.7+ MB\n"
     ]
    }
   ],
   "source": [
    "autos.info()"
   ]
  },
  {
   "cell_type": "code",
   "execution_count": 5,
   "id": "1331a301-febb-4b60-ba4c-b876f83c2c77",
   "metadata": {},
   "outputs": [
    {
     "data": {
      "text/html": [
       "<div>\n",
       "<style scoped>\n",
       "    .dataframe tbody tr th:only-of-type {\n",
       "        vertical-align: middle;\n",
       "    }\n",
       "\n",
       "    .dataframe tbody tr th {\n",
       "        vertical-align: top;\n",
       "    }\n",
       "\n",
       "    .dataframe thead th {\n",
       "        text-align: right;\n",
       "    }\n",
       "</style>\n",
       "<table border=\"1\" class=\"dataframe\">\n",
       "  <thead>\n",
       "    <tr style=\"text-align: right;\">\n",
       "      <th></th>\n",
       "      <th>dateCrawled</th>\n",
       "      <th>name</th>\n",
       "      <th>seller</th>\n",
       "      <th>offerType</th>\n",
       "      <th>price</th>\n",
       "      <th>abtest</th>\n",
       "      <th>vehicleType</th>\n",
       "      <th>yearOfRegistration</th>\n",
       "      <th>gearbox</th>\n",
       "      <th>powerPS</th>\n",
       "      <th>model</th>\n",
       "      <th>kilometer</th>\n",
       "      <th>monthOfRegistration</th>\n",
       "      <th>fuelType</th>\n",
       "      <th>brand</th>\n",
       "      <th>notRepairedDamage</th>\n",
       "      <th>dateCreated</th>\n",
       "      <th>nrOfPictures</th>\n",
       "      <th>postalCode</th>\n",
       "      <th>lastSeen</th>\n",
       "    </tr>\n",
       "  </thead>\n",
       "  <tbody>\n",
       "    <tr>\n",
       "      <th>count</th>\n",
       "      <td>371528</td>\n",
       "      <td>371528</td>\n",
       "      <td>371528</td>\n",
       "      <td>371528</td>\n",
       "      <td>3.715280e+05</td>\n",
       "      <td>371528</td>\n",
       "      <td>333659</td>\n",
       "      <td>371528.000000</td>\n",
       "      <td>351319</td>\n",
       "      <td>371528.000000</td>\n",
       "      <td>351044</td>\n",
       "      <td>371528.000000</td>\n",
       "      <td>371528.000000</td>\n",
       "      <td>338142</td>\n",
       "      <td>371528</td>\n",
       "      <td>299468</td>\n",
       "      <td>371528</td>\n",
       "      <td>371528.0</td>\n",
       "      <td>371528.00000</td>\n",
       "      <td>371528</td>\n",
       "    </tr>\n",
       "    <tr>\n",
       "      <th>unique</th>\n",
       "      <td>280500</td>\n",
       "      <td>233531</td>\n",
       "      <td>2</td>\n",
       "      <td>2</td>\n",
       "      <td>NaN</td>\n",
       "      <td>2</td>\n",
       "      <td>8</td>\n",
       "      <td>NaN</td>\n",
       "      <td>2</td>\n",
       "      <td>NaN</td>\n",
       "      <td>251</td>\n",
       "      <td>NaN</td>\n",
       "      <td>NaN</td>\n",
       "      <td>7</td>\n",
       "      <td>40</td>\n",
       "      <td>2</td>\n",
       "      <td>114</td>\n",
       "      <td>NaN</td>\n",
       "      <td>NaN</td>\n",
       "      <td>182806</td>\n",
       "    </tr>\n",
       "    <tr>\n",
       "      <th>top</th>\n",
       "      <td>2016-03-24 14:49:47</td>\n",
       "      <td>Ford_Fiesta</td>\n",
       "      <td>privat</td>\n",
       "      <td>Angebot</td>\n",
       "      <td>NaN</td>\n",
       "      <td>test</td>\n",
       "      <td>limousine</td>\n",
       "      <td>NaN</td>\n",
       "      <td>manuell</td>\n",
       "      <td>NaN</td>\n",
       "      <td>golf</td>\n",
       "      <td>NaN</td>\n",
       "      <td>NaN</td>\n",
       "      <td>benzin</td>\n",
       "      <td>volkswagen</td>\n",
       "      <td>nein</td>\n",
       "      <td>2016-04-03 00:00:00</td>\n",
       "      <td>NaN</td>\n",
       "      <td>NaN</td>\n",
       "      <td>2016-04-07 06:45:59</td>\n",
       "    </tr>\n",
       "    <tr>\n",
       "      <th>freq</th>\n",
       "      <td>7</td>\n",
       "      <td>657</td>\n",
       "      <td>371525</td>\n",
       "      <td>371516</td>\n",
       "      <td>NaN</td>\n",
       "      <td>192585</td>\n",
       "      <td>95894</td>\n",
       "      <td>NaN</td>\n",
       "      <td>274214</td>\n",
       "      <td>NaN</td>\n",
       "      <td>30070</td>\n",
       "      <td>NaN</td>\n",
       "      <td>NaN</td>\n",
       "      <td>223857</td>\n",
       "      <td>79640</td>\n",
       "      <td>263182</td>\n",
       "      <td>14450</td>\n",
       "      <td>NaN</td>\n",
       "      <td>NaN</td>\n",
       "      <td>17</td>\n",
       "    </tr>\n",
       "    <tr>\n",
       "      <th>mean</th>\n",
       "      <td>NaN</td>\n",
       "      <td>NaN</td>\n",
       "      <td>NaN</td>\n",
       "      <td>NaN</td>\n",
       "      <td>1.729514e+04</td>\n",
       "      <td>NaN</td>\n",
       "      <td>NaN</td>\n",
       "      <td>2004.577997</td>\n",
       "      <td>NaN</td>\n",
       "      <td>115.549477</td>\n",
       "      <td>NaN</td>\n",
       "      <td>125618.688228</td>\n",
       "      <td>5.734445</td>\n",
       "      <td>NaN</td>\n",
       "      <td>NaN</td>\n",
       "      <td>NaN</td>\n",
       "      <td>NaN</td>\n",
       "      <td>0.0</td>\n",
       "      <td>50820.66764</td>\n",
       "      <td>NaN</td>\n",
       "    </tr>\n",
       "    <tr>\n",
       "      <th>std</th>\n",
       "      <td>NaN</td>\n",
       "      <td>NaN</td>\n",
       "      <td>NaN</td>\n",
       "      <td>NaN</td>\n",
       "      <td>3.587954e+06</td>\n",
       "      <td>NaN</td>\n",
       "      <td>NaN</td>\n",
       "      <td>92.866598</td>\n",
       "      <td>NaN</td>\n",
       "      <td>192.139578</td>\n",
       "      <td>NaN</td>\n",
       "      <td>40112.337051</td>\n",
       "      <td>3.712412</td>\n",
       "      <td>NaN</td>\n",
       "      <td>NaN</td>\n",
       "      <td>NaN</td>\n",
       "      <td>NaN</td>\n",
       "      <td>0.0</td>\n",
       "      <td>25799.08247</td>\n",
       "      <td>NaN</td>\n",
       "    </tr>\n",
       "    <tr>\n",
       "      <th>min</th>\n",
       "      <td>NaN</td>\n",
       "      <td>NaN</td>\n",
       "      <td>NaN</td>\n",
       "      <td>NaN</td>\n",
       "      <td>0.000000e+00</td>\n",
       "      <td>NaN</td>\n",
       "      <td>NaN</td>\n",
       "      <td>1000.000000</td>\n",
       "      <td>NaN</td>\n",
       "      <td>0.000000</td>\n",
       "      <td>NaN</td>\n",
       "      <td>5000.000000</td>\n",
       "      <td>0.000000</td>\n",
       "      <td>NaN</td>\n",
       "      <td>NaN</td>\n",
       "      <td>NaN</td>\n",
       "      <td>NaN</td>\n",
       "      <td>0.0</td>\n",
       "      <td>1067.00000</td>\n",
       "      <td>NaN</td>\n",
       "    </tr>\n",
       "    <tr>\n",
       "      <th>25%</th>\n",
       "      <td>NaN</td>\n",
       "      <td>NaN</td>\n",
       "      <td>NaN</td>\n",
       "      <td>NaN</td>\n",
       "      <td>1.150000e+03</td>\n",
       "      <td>NaN</td>\n",
       "      <td>NaN</td>\n",
       "      <td>1999.000000</td>\n",
       "      <td>NaN</td>\n",
       "      <td>70.000000</td>\n",
       "      <td>NaN</td>\n",
       "      <td>125000.000000</td>\n",
       "      <td>3.000000</td>\n",
       "      <td>NaN</td>\n",
       "      <td>NaN</td>\n",
       "      <td>NaN</td>\n",
       "      <td>NaN</td>\n",
       "      <td>0.0</td>\n",
       "      <td>30459.00000</td>\n",
       "      <td>NaN</td>\n",
       "    </tr>\n",
       "    <tr>\n",
       "      <th>50%</th>\n",
       "      <td>NaN</td>\n",
       "      <td>NaN</td>\n",
       "      <td>NaN</td>\n",
       "      <td>NaN</td>\n",
       "      <td>2.950000e+03</td>\n",
       "      <td>NaN</td>\n",
       "      <td>NaN</td>\n",
       "      <td>2003.000000</td>\n",
       "      <td>NaN</td>\n",
       "      <td>105.000000</td>\n",
       "      <td>NaN</td>\n",
       "      <td>150000.000000</td>\n",
       "      <td>6.000000</td>\n",
       "      <td>NaN</td>\n",
       "      <td>NaN</td>\n",
       "      <td>NaN</td>\n",
       "      <td>NaN</td>\n",
       "      <td>0.0</td>\n",
       "      <td>49610.00000</td>\n",
       "      <td>NaN</td>\n",
       "    </tr>\n",
       "    <tr>\n",
       "      <th>75%</th>\n",
       "      <td>NaN</td>\n",
       "      <td>NaN</td>\n",
       "      <td>NaN</td>\n",
       "      <td>NaN</td>\n",
       "      <td>7.200000e+03</td>\n",
       "      <td>NaN</td>\n",
       "      <td>NaN</td>\n",
       "      <td>2008.000000</td>\n",
       "      <td>NaN</td>\n",
       "      <td>150.000000</td>\n",
       "      <td>NaN</td>\n",
       "      <td>150000.000000</td>\n",
       "      <td>9.000000</td>\n",
       "      <td>NaN</td>\n",
       "      <td>NaN</td>\n",
       "      <td>NaN</td>\n",
       "      <td>NaN</td>\n",
       "      <td>0.0</td>\n",
       "      <td>71546.00000</td>\n",
       "      <td>NaN</td>\n",
       "    </tr>\n",
       "    <tr>\n",
       "      <th>max</th>\n",
       "      <td>NaN</td>\n",
       "      <td>NaN</td>\n",
       "      <td>NaN</td>\n",
       "      <td>NaN</td>\n",
       "      <td>2.147484e+09</td>\n",
       "      <td>NaN</td>\n",
       "      <td>NaN</td>\n",
       "      <td>9999.000000</td>\n",
       "      <td>NaN</td>\n",
       "      <td>20000.000000</td>\n",
       "      <td>NaN</td>\n",
       "      <td>150000.000000</td>\n",
       "      <td>12.000000</td>\n",
       "      <td>NaN</td>\n",
       "      <td>NaN</td>\n",
       "      <td>NaN</td>\n",
       "      <td>NaN</td>\n",
       "      <td>0.0</td>\n",
       "      <td>99998.00000</td>\n",
       "      <td>NaN</td>\n",
       "    </tr>\n",
       "  </tbody>\n",
       "</table>\n",
       "</div>"
      ],
      "text/plain": [
       "                dateCrawled         name  seller offerType         price  \\\n",
       "count                371528       371528  371528    371528  3.715280e+05   \n",
       "unique               280500       233531       2         2           NaN   \n",
       "top     2016-03-24 14:49:47  Ford_Fiesta  privat   Angebot           NaN   \n",
       "freq                      7          657  371525    371516           NaN   \n",
       "mean                    NaN          NaN     NaN       NaN  1.729514e+04   \n",
       "std                     NaN          NaN     NaN       NaN  3.587954e+06   \n",
       "min                     NaN          NaN     NaN       NaN  0.000000e+00   \n",
       "25%                     NaN          NaN     NaN       NaN  1.150000e+03   \n",
       "50%                     NaN          NaN     NaN       NaN  2.950000e+03   \n",
       "75%                     NaN          NaN     NaN       NaN  7.200000e+03   \n",
       "max                     NaN          NaN     NaN       NaN  2.147484e+09   \n",
       "\n",
       "        abtest vehicleType  yearOfRegistration  gearbox        powerPS  \\\n",
       "count   371528      333659       371528.000000   351319  371528.000000   \n",
       "unique       2           8                 NaN        2            NaN   \n",
       "top       test   limousine                 NaN  manuell            NaN   \n",
       "freq    192585       95894                 NaN   274214            NaN   \n",
       "mean       NaN         NaN         2004.577997      NaN     115.549477   \n",
       "std        NaN         NaN           92.866598      NaN     192.139578   \n",
       "min        NaN         NaN         1000.000000      NaN       0.000000   \n",
       "25%        NaN         NaN         1999.000000      NaN      70.000000   \n",
       "50%        NaN         NaN         2003.000000      NaN     105.000000   \n",
       "75%        NaN         NaN         2008.000000      NaN     150.000000   \n",
       "max        NaN         NaN         9999.000000      NaN   20000.000000   \n",
       "\n",
       "         model      kilometer  monthOfRegistration fuelType       brand  \\\n",
       "count   351044  371528.000000        371528.000000   338142      371528   \n",
       "unique     251            NaN                  NaN        7          40   \n",
       "top       golf            NaN                  NaN   benzin  volkswagen   \n",
       "freq     30070            NaN                  NaN   223857       79640   \n",
       "mean       NaN  125618.688228             5.734445      NaN         NaN   \n",
       "std        NaN   40112.337051             3.712412      NaN         NaN   \n",
       "min        NaN    5000.000000             0.000000      NaN         NaN   \n",
       "25%        NaN  125000.000000             3.000000      NaN         NaN   \n",
       "50%        NaN  150000.000000             6.000000      NaN         NaN   \n",
       "75%        NaN  150000.000000             9.000000      NaN         NaN   \n",
       "max        NaN  150000.000000            12.000000      NaN         NaN   \n",
       "\n",
       "       notRepairedDamage          dateCreated  nrOfPictures    postalCode  \\\n",
       "count             299468               371528      371528.0  371528.00000   \n",
       "unique                 2                  114           NaN           NaN   \n",
       "top                 nein  2016-04-03 00:00:00           NaN           NaN   \n",
       "freq              263182                14450           NaN           NaN   \n",
       "mean                 NaN                  NaN           0.0   50820.66764   \n",
       "std                  NaN                  NaN           0.0   25799.08247   \n",
       "min                  NaN                  NaN           0.0    1067.00000   \n",
       "25%                  NaN                  NaN           0.0   30459.00000   \n",
       "50%                  NaN                  NaN           0.0   49610.00000   \n",
       "75%                  NaN                  NaN           0.0   71546.00000   \n",
       "max                  NaN                  NaN           0.0   99998.00000   \n",
       "\n",
       "                   lastSeen  \n",
       "count                371528  \n",
       "unique               182806  \n",
       "top     2016-04-07 06:45:59  \n",
       "freq                     17  \n",
       "mean                    NaN  \n",
       "std                     NaN  \n",
       "min                     NaN  \n",
       "25%                     NaN  \n",
       "50%                     NaN  \n",
       "75%                     NaN  \n",
       "max                     NaN  "
      ]
     },
     "execution_count": 5,
     "metadata": {},
     "output_type": "execute_result"
    }
   ],
   "source": [
    "autos.describe(include = 'all')"
   ]
  },
  {
   "cell_type": "markdown",
   "id": "cd1bf55a-ca45-490c-b230-4302dfbc3073",
   "metadata": {},
   "source": [
    "## **Data Cleaning**"
   ]
  },
  {
   "cell_type": "markdown",
   "id": "598f3ab2-371e-4a23-a39b-7394b0078787",
   "metadata": {},
   "source": [
    "###  Cleaning Column Names"
   ]
  },
  {
   "cell_type": "code",
   "execution_count": 6,
   "id": "59b00ca9-5c43-4c04-a440-c58ff91d52bb",
   "metadata": {},
   "outputs": [
    {
     "data": {
      "text/plain": [
       "Index(['dateCrawled', 'name', 'seller', 'offerType', 'price', 'abtest',\n",
       "       'vehicleType', 'yearOfRegistration', 'gearbox', 'powerPS', 'model',\n",
       "       'kilometer', 'monthOfRegistration', 'fuelType', 'brand',\n",
       "       'notRepairedDamage', 'dateCreated', 'nrOfPictures', 'postalCode',\n",
       "       'lastSeen'],\n",
       "      dtype='object')"
      ]
     },
     "execution_count": 6,
     "metadata": {},
     "output_type": "execute_result"
    }
   ],
   "source": [
    "autos.columns"
   ]
  },
  {
   "cell_type": "code",
   "execution_count": 7,
   "id": "6c8dcc40-b9c5-42ff-8eab-7f8d6c3e014e",
   "metadata": {},
   "outputs": [
    {
     "data": {
      "text/html": [
       "<div>\n",
       "<style scoped>\n",
       "    .dataframe tbody tr th:only-of-type {\n",
       "        vertical-align: middle;\n",
       "    }\n",
       "\n",
       "    .dataframe tbody tr th {\n",
       "        vertical-align: top;\n",
       "    }\n",
       "\n",
       "    .dataframe thead th {\n",
       "        text-align: right;\n",
       "    }\n",
       "</style>\n",
       "<table border=\"1\" class=\"dataframe\">\n",
       "  <thead>\n",
       "    <tr style=\"text-align: right;\">\n",
       "      <th></th>\n",
       "      <th>date_crawled</th>\n",
       "      <th>name</th>\n",
       "      <th>seller</th>\n",
       "      <th>offer_type</th>\n",
       "      <th>price</th>\n",
       "      <th>abtest</th>\n",
       "      <th>vehicle_type</th>\n",
       "      <th>registration_year</th>\n",
       "      <th>gearbox</th>\n",
       "      <th>power_ps</th>\n",
       "      <th>model</th>\n",
       "      <th>kilometer</th>\n",
       "      <th>registration_month</th>\n",
       "      <th>fuel_type</th>\n",
       "      <th>brand</th>\n",
       "      <th>unrepaired_damage</th>\n",
       "      <th>ad_created</th>\n",
       "      <th>nr_of_pictures</th>\n",
       "      <th>postal_code</th>\n",
       "      <th>last_seen</th>\n",
       "    </tr>\n",
       "  </thead>\n",
       "  <tbody>\n",
       "    <tr>\n",
       "      <th>0</th>\n",
       "      <td>2016-03-24 11:52:17</td>\n",
       "      <td>Golf_3_1.6</td>\n",
       "      <td>privat</td>\n",
       "      <td>Angebot</td>\n",
       "      <td>480</td>\n",
       "      <td>test</td>\n",
       "      <td>NaN</td>\n",
       "      <td>1993</td>\n",
       "      <td>manuell</td>\n",
       "      <td>0</td>\n",
       "      <td>golf</td>\n",
       "      <td>150000</td>\n",
       "      <td>0</td>\n",
       "      <td>benzin</td>\n",
       "      <td>volkswagen</td>\n",
       "      <td>NaN</td>\n",
       "      <td>2016-03-24 00:00:00</td>\n",
       "      <td>0</td>\n",
       "      <td>70435</td>\n",
       "      <td>2016-04-07 03:16:57</td>\n",
       "    </tr>\n",
       "    <tr>\n",
       "      <th>1</th>\n",
       "      <td>2016-03-24 10:58:45</td>\n",
       "      <td>A5_Sportback_2.7_Tdi</td>\n",
       "      <td>privat</td>\n",
       "      <td>Angebot</td>\n",
       "      <td>18300</td>\n",
       "      <td>test</td>\n",
       "      <td>coupe</td>\n",
       "      <td>2011</td>\n",
       "      <td>manuell</td>\n",
       "      <td>190</td>\n",
       "      <td>NaN</td>\n",
       "      <td>125000</td>\n",
       "      <td>5</td>\n",
       "      <td>diesel</td>\n",
       "      <td>audi</td>\n",
       "      <td>ja</td>\n",
       "      <td>2016-03-24 00:00:00</td>\n",
       "      <td>0</td>\n",
       "      <td>66954</td>\n",
       "      <td>2016-04-07 01:46:50</td>\n",
       "    </tr>\n",
       "    <tr>\n",
       "      <th>2</th>\n",
       "      <td>2016-03-14 12:52:21</td>\n",
       "      <td>Jeep_Grand_Cherokee_\"Overland\"</td>\n",
       "      <td>privat</td>\n",
       "      <td>Angebot</td>\n",
       "      <td>9800</td>\n",
       "      <td>test</td>\n",
       "      <td>suv</td>\n",
       "      <td>2004</td>\n",
       "      <td>automatik</td>\n",
       "      <td>163</td>\n",
       "      <td>grand</td>\n",
       "      <td>125000</td>\n",
       "      <td>8</td>\n",
       "      <td>diesel</td>\n",
       "      <td>jeep</td>\n",
       "      <td>NaN</td>\n",
       "      <td>2016-03-14 00:00:00</td>\n",
       "      <td>0</td>\n",
       "      <td>90480</td>\n",
       "      <td>2016-04-05 12:47:46</td>\n",
       "    </tr>\n",
       "    <tr>\n",
       "      <th>3</th>\n",
       "      <td>2016-03-17 16:54:04</td>\n",
       "      <td>GOLF_4_1_4__3TÜRER</td>\n",
       "      <td>privat</td>\n",
       "      <td>Angebot</td>\n",
       "      <td>1500</td>\n",
       "      <td>test</td>\n",
       "      <td>kleinwagen</td>\n",
       "      <td>2001</td>\n",
       "      <td>manuell</td>\n",
       "      <td>75</td>\n",
       "      <td>golf</td>\n",
       "      <td>150000</td>\n",
       "      <td>6</td>\n",
       "      <td>benzin</td>\n",
       "      <td>volkswagen</td>\n",
       "      <td>nein</td>\n",
       "      <td>2016-03-17 00:00:00</td>\n",
       "      <td>0</td>\n",
       "      <td>91074</td>\n",
       "      <td>2016-03-17 17:40:17</td>\n",
       "    </tr>\n",
       "    <tr>\n",
       "      <th>4</th>\n",
       "      <td>2016-03-31 17:25:20</td>\n",
       "      <td>Skoda_Fabia_1.4_TDI_PD_Classic</td>\n",
       "      <td>privat</td>\n",
       "      <td>Angebot</td>\n",
       "      <td>3600</td>\n",
       "      <td>test</td>\n",
       "      <td>kleinwagen</td>\n",
       "      <td>2008</td>\n",
       "      <td>manuell</td>\n",
       "      <td>69</td>\n",
       "      <td>fabia</td>\n",
       "      <td>90000</td>\n",
       "      <td>7</td>\n",
       "      <td>diesel</td>\n",
       "      <td>skoda</td>\n",
       "      <td>nein</td>\n",
       "      <td>2016-03-31 00:00:00</td>\n",
       "      <td>0</td>\n",
       "      <td>60437</td>\n",
       "      <td>2016-04-06 10:17:21</td>\n",
       "    </tr>\n",
       "  </tbody>\n",
       "</table>\n",
       "</div>"
      ],
      "text/plain": [
       "          date_crawled                            name  seller offer_type  \\\n",
       "0  2016-03-24 11:52:17                      Golf_3_1.6  privat    Angebot   \n",
       "1  2016-03-24 10:58:45            A5_Sportback_2.7_Tdi  privat    Angebot   \n",
       "2  2016-03-14 12:52:21  Jeep_Grand_Cherokee_\"Overland\"  privat    Angebot   \n",
       "3  2016-03-17 16:54:04              GOLF_4_1_4__3TÜRER  privat    Angebot   \n",
       "4  2016-03-31 17:25:20  Skoda_Fabia_1.4_TDI_PD_Classic  privat    Angebot   \n",
       "\n",
       "   price abtest vehicle_type  registration_year    gearbox  power_ps  model  \\\n",
       "0    480   test          NaN               1993    manuell         0   golf   \n",
       "1  18300   test        coupe               2011    manuell       190    NaN   \n",
       "2   9800   test          suv               2004  automatik       163  grand   \n",
       "3   1500   test   kleinwagen               2001    manuell        75   golf   \n",
       "4   3600   test   kleinwagen               2008    manuell        69  fabia   \n",
       "\n",
       "   kilometer  registration_month fuel_type       brand unrepaired_damage  \\\n",
       "0     150000                   0    benzin  volkswagen               NaN   \n",
       "1     125000                   5    diesel        audi                ja   \n",
       "2     125000                   8    diesel        jeep               NaN   \n",
       "3     150000                   6    benzin  volkswagen              nein   \n",
       "4      90000                   7    diesel       skoda              nein   \n",
       "\n",
       "            ad_created  nr_of_pictures  postal_code            last_seen  \n",
       "0  2016-03-24 00:00:00               0        70435  2016-04-07 03:16:57  \n",
       "1  2016-03-24 00:00:00               0        66954  2016-04-07 01:46:50  \n",
       "2  2016-03-14 00:00:00               0        90480  2016-04-05 12:47:46  \n",
       "3  2016-03-17 00:00:00               0        91074  2016-03-17 17:40:17  \n",
       "4  2016-03-31 00:00:00               0        60437  2016-04-06 10:17:21  "
      ]
     },
     "execution_count": 7,
     "metadata": {},
     "output_type": "execute_result"
    }
   ],
   "source": [
    "new_list = ['date_crawled', 'name', 'seller', 'offer_type', 'price', 'abtest',\n",
    "       'vehicle_type', 'registration_year', 'gearbox', 'power_ps', 'model',\n",
    "       'kilometer', 'registration_month', 'fuel_type', 'brand',\n",
    "       'unrepaired_damage', 'ad_created', 'nr_of_pictures', 'postal_code',\n",
    "       'last_seen']\n",
    "autos.columns = new_list\n",
    "autos.head()"
   ]
  },
  {
   "cell_type": "markdown",
   "id": "d99d9e0e-9af9-496a-9a88-9e1c03926b68",
   "metadata": {},
   "source": [
    "The following edits to columns names have been done in the previous code blocks:\n",
    "\n",
    "- yearOfRegistration to registration_year\n",
    "- monthOfRegistration to registration_month\n",
    "- notRepairedDamage to unrepaired_damage\n",
    "- dateCreated to ad_created\n",
    "- The rest of the column names from camelcase to snakecase."
   ]
  },
  {
   "cell_type": "markdown",
   "id": "cb3661c4-07cd-4c48-a315-e1593b4203c3",
   "metadata": {},
   "source": [
    "The pandas convention for column names is snakecase rather than camel casing which came with the raw dataset. We have made the changes according to this pandas convention for easy understanding and convenience. Other column names have also been changed for better readibility and thus to improve productivity."
   ]
  },
  {
   "cell_type": "markdown",
   "id": "fc1fe0f1-23af-4574-8902-b3868db79440",
   "metadata": {},
   "source": [
    "### Converting categorical data that uses German words to English."
   ]
  },
  {
   "cell_type": "code",
   "execution_count": 8,
   "id": "e03fe2d8-f7ac-4faa-ab28-9ee13293dfdc",
   "metadata": {},
   "outputs": [],
   "source": [
    "# Identifying categorical data that uses German words and translate them to their English meaning.\n",
    "autos['seller'] = autos['seller'].map({'privat': 'private', 'gewerblich': 'commercial'})\n",
    "autos['offer_type'] = autos['offer_type'].map({'Angebot': 'offer','Gesuch':'request'})\n",
    "autos['gearbox'] = autos['gearbox'].map({'manuell': 'manual', 'automatik': 'automatic'})\n",
    "autos['unrepaired_damage'] = autos['unrepaired_damage'].map({'nein': 'no', 'ja':'yes'})\n",
    "autos['fuel_type'] = autos['fuel_type'].map({'benzin': 'benzine', 'andere' : 'other', 'elektro': 'electro'})"
   ]
  },
  {
   "cell_type": "markdown",
   "id": "64422b46-c722-4981-a7c4-626bb817962c",
   "metadata": {},
   "source": [
    "### Converting the dates to be numeric\n"
   ]
  },
  {
   "cell_type": "code",
   "execution_count": 9,
   "id": "9be8479f-4374-4323-84eb-44f21e4b30c0",
   "metadata": {},
   "outputs": [
    {
     "data": {
      "text/plain": [
       "date_crawled\n",
       "2016-03-05     9493\n",
       "2016-03-06     5373\n",
       "2016-03-07    13260\n",
       "2016-03-08    12429\n",
       "2016-03-09    12710\n",
       "2016-03-10    12098\n",
       "2016-03-11    12159\n",
       "2016-03-12    13447\n",
       "2016-03-13     5846\n",
       "2016-03-14    13477\n",
       "2016-03-15    12428\n",
       "2016-03-16    11201\n",
       "2016-03-17    11763\n",
       "2016-03-18     4877\n",
       "2016-03-19    13112\n",
       "2016-03-20    13506\n",
       "2016-03-21    13278\n",
       "2016-03-22    12063\n",
       "2016-03-23    11878\n",
       "2016-03-24    11113\n",
       "2016-03-25    12236\n",
       "2016-03-26    11876\n",
       "2016-03-27    11248\n",
       "2016-03-28    13045\n",
       "2016-03-29    12695\n",
       "2016-03-30    12457\n",
       "2016-03-31    11846\n",
       "2016-04-01    12675\n",
       "2016-04-02    13033\n",
       "2016-04-03    14391\n",
       "2016-04-04    13974\n",
       "2016-04-05     4764\n",
       "2016-04-06     1175\n",
       "2016-04-07      602\n",
       "Name: count, dtype: int64"
      ]
     },
     "execution_count": 9,
     "metadata": {},
     "output_type": "execute_result"
    }
   ],
   "source": [
    "autos['date_crawled'].str[:10].value_counts(dropna = False).sort_index()"
   ]
  },
  {
   "cell_type": "code",
   "execution_count": 10,
   "id": "665e9e70-711e-4f82-a196-e980ccfbd03c",
   "metadata": {},
   "outputs": [],
   "source": [
    "# Below code will convert the date in the "
   ]
  },
  {
   "cell_type": "markdown",
   "id": "50fdb3e4-98d9-4f59-bc8d-e2de3ded02f7",
   "metadata": {},
   "source": [
    "## **Data Analysis**"
   ]
  },
  {
   "cell_type": "markdown",
   "id": "946bd13c-ac47-46d1-8ef1-b1498ca023b3",
   "metadata": {},
   "source": [
    "### Initial Exploration and Cleaning"
   ]
  },
  {
   "cell_type": "code",
   "execution_count": 11,
   "id": "6536a9b1-0075-4ead-bd98-dd4d608013fa",
   "metadata": {},
   "outputs": [
    {
     "data": {
      "text/plain": [
       "date_crawled          object\n",
       "name                  object\n",
       "seller                object\n",
       "offer_type            object\n",
       "price                  int64\n",
       "abtest                object\n",
       "vehicle_type          object\n",
       "registration_year      int64\n",
       "gearbox               object\n",
       "power_ps               int64\n",
       "model                 object\n",
       "kilometer              int64\n",
       "registration_month     int64\n",
       "fuel_type             object\n",
       "brand                 object\n",
       "unrepaired_damage     object\n",
       "ad_created            object\n",
       "nr_of_pictures         int64\n",
       "postal_code            int64\n",
       "last_seen             object\n",
       "dtype: object"
      ]
     },
     "execution_count": 11,
     "metadata": {},
     "output_type": "execute_result"
    }
   ],
   "source": [
    "autos.dtypes"
   ]
  },
  {
   "cell_type": "code",
   "execution_count": 12,
   "id": "ae8fed86-52e1-4502-b461-67f826e0ec8d",
   "metadata": {},
   "outputs": [
    {
     "data": {
      "text/html": [
       "<div>\n",
       "<style scoped>\n",
       "    .dataframe tbody tr th:only-of-type {\n",
       "        vertical-align: middle;\n",
       "    }\n",
       "\n",
       "    .dataframe tbody tr th {\n",
       "        vertical-align: top;\n",
       "    }\n",
       "\n",
       "    .dataframe thead th {\n",
       "        text-align: right;\n",
       "    }\n",
       "</style>\n",
       "<table border=\"1\" class=\"dataframe\">\n",
       "  <thead>\n",
       "    <tr style=\"text-align: right;\">\n",
       "      <th></th>\n",
       "      <th>date_crawled</th>\n",
       "      <th>name</th>\n",
       "      <th>seller</th>\n",
       "      <th>offer_type</th>\n",
       "      <th>price</th>\n",
       "      <th>abtest</th>\n",
       "      <th>vehicle_type</th>\n",
       "      <th>registration_year</th>\n",
       "      <th>gearbox</th>\n",
       "      <th>power_ps</th>\n",
       "      <th>model</th>\n",
       "      <th>kilometer</th>\n",
       "      <th>registration_month</th>\n",
       "      <th>fuel_type</th>\n",
       "      <th>brand</th>\n",
       "      <th>unrepaired_damage</th>\n",
       "      <th>ad_created</th>\n",
       "      <th>nr_of_pictures</th>\n",
       "      <th>postal_code</th>\n",
       "      <th>last_seen</th>\n",
       "    </tr>\n",
       "  </thead>\n",
       "  <tbody>\n",
       "    <tr>\n",
       "      <th>count</th>\n",
       "      <td>371528</td>\n",
       "      <td>371528</td>\n",
       "      <td>371528</td>\n",
       "      <td>371528</td>\n",
       "      <td>3.715280e+05</td>\n",
       "      <td>371528</td>\n",
       "      <td>333659</td>\n",
       "      <td>371528.000000</td>\n",
       "      <td>351319</td>\n",
       "      <td>371528.000000</td>\n",
       "      <td>351044</td>\n",
       "      <td>371528.000000</td>\n",
       "      <td>371528.000000</td>\n",
       "      <td>224169</td>\n",
       "      <td>371528</td>\n",
       "      <td>299468</td>\n",
       "      <td>371528</td>\n",
       "      <td>371528.0</td>\n",
       "      <td>371528.00000</td>\n",
       "      <td>371528</td>\n",
       "    </tr>\n",
       "    <tr>\n",
       "      <th>unique</th>\n",
       "      <td>280500</td>\n",
       "      <td>233531</td>\n",
       "      <td>2</td>\n",
       "      <td>2</td>\n",
       "      <td>NaN</td>\n",
       "      <td>2</td>\n",
       "      <td>8</td>\n",
       "      <td>NaN</td>\n",
       "      <td>2</td>\n",
       "      <td>NaN</td>\n",
       "      <td>251</td>\n",
       "      <td>NaN</td>\n",
       "      <td>NaN</td>\n",
       "      <td>3</td>\n",
       "      <td>40</td>\n",
       "      <td>2</td>\n",
       "      <td>114</td>\n",
       "      <td>NaN</td>\n",
       "      <td>NaN</td>\n",
       "      <td>182806</td>\n",
       "    </tr>\n",
       "    <tr>\n",
       "      <th>top</th>\n",
       "      <td>2016-03-24 14:49:47</td>\n",
       "      <td>Ford_Fiesta</td>\n",
       "      <td>private</td>\n",
       "      <td>offer</td>\n",
       "      <td>NaN</td>\n",
       "      <td>test</td>\n",
       "      <td>limousine</td>\n",
       "      <td>NaN</td>\n",
       "      <td>manual</td>\n",
       "      <td>NaN</td>\n",
       "      <td>golf</td>\n",
       "      <td>NaN</td>\n",
       "      <td>NaN</td>\n",
       "      <td>benzine</td>\n",
       "      <td>volkswagen</td>\n",
       "      <td>no</td>\n",
       "      <td>2016-04-03 00:00:00</td>\n",
       "      <td>NaN</td>\n",
       "      <td>NaN</td>\n",
       "      <td>2016-04-07 06:45:59</td>\n",
       "    </tr>\n",
       "    <tr>\n",
       "      <th>freq</th>\n",
       "      <td>7</td>\n",
       "      <td>657</td>\n",
       "      <td>371525</td>\n",
       "      <td>371516</td>\n",
       "      <td>NaN</td>\n",
       "      <td>192585</td>\n",
       "      <td>95894</td>\n",
       "      <td>NaN</td>\n",
       "      <td>274214</td>\n",
       "      <td>NaN</td>\n",
       "      <td>30070</td>\n",
       "      <td>NaN</td>\n",
       "      <td>NaN</td>\n",
       "      <td>223857</td>\n",
       "      <td>79640</td>\n",
       "      <td>263182</td>\n",
       "      <td>14450</td>\n",
       "      <td>NaN</td>\n",
       "      <td>NaN</td>\n",
       "      <td>17</td>\n",
       "    </tr>\n",
       "    <tr>\n",
       "      <th>mean</th>\n",
       "      <td>NaN</td>\n",
       "      <td>NaN</td>\n",
       "      <td>NaN</td>\n",
       "      <td>NaN</td>\n",
       "      <td>1.729514e+04</td>\n",
       "      <td>NaN</td>\n",
       "      <td>NaN</td>\n",
       "      <td>2004.577997</td>\n",
       "      <td>NaN</td>\n",
       "      <td>115.549477</td>\n",
       "      <td>NaN</td>\n",
       "      <td>125618.688228</td>\n",
       "      <td>5.734445</td>\n",
       "      <td>NaN</td>\n",
       "      <td>NaN</td>\n",
       "      <td>NaN</td>\n",
       "      <td>NaN</td>\n",
       "      <td>0.0</td>\n",
       "      <td>50820.66764</td>\n",
       "      <td>NaN</td>\n",
       "    </tr>\n",
       "    <tr>\n",
       "      <th>std</th>\n",
       "      <td>NaN</td>\n",
       "      <td>NaN</td>\n",
       "      <td>NaN</td>\n",
       "      <td>NaN</td>\n",
       "      <td>3.587954e+06</td>\n",
       "      <td>NaN</td>\n",
       "      <td>NaN</td>\n",
       "      <td>92.866598</td>\n",
       "      <td>NaN</td>\n",
       "      <td>192.139578</td>\n",
       "      <td>NaN</td>\n",
       "      <td>40112.337051</td>\n",
       "      <td>3.712412</td>\n",
       "      <td>NaN</td>\n",
       "      <td>NaN</td>\n",
       "      <td>NaN</td>\n",
       "      <td>NaN</td>\n",
       "      <td>0.0</td>\n",
       "      <td>25799.08247</td>\n",
       "      <td>NaN</td>\n",
       "    </tr>\n",
       "    <tr>\n",
       "      <th>min</th>\n",
       "      <td>NaN</td>\n",
       "      <td>NaN</td>\n",
       "      <td>NaN</td>\n",
       "      <td>NaN</td>\n",
       "      <td>0.000000e+00</td>\n",
       "      <td>NaN</td>\n",
       "      <td>NaN</td>\n",
       "      <td>1000.000000</td>\n",
       "      <td>NaN</td>\n",
       "      <td>0.000000</td>\n",
       "      <td>NaN</td>\n",
       "      <td>5000.000000</td>\n",
       "      <td>0.000000</td>\n",
       "      <td>NaN</td>\n",
       "      <td>NaN</td>\n",
       "      <td>NaN</td>\n",
       "      <td>NaN</td>\n",
       "      <td>0.0</td>\n",
       "      <td>1067.00000</td>\n",
       "      <td>NaN</td>\n",
       "    </tr>\n",
       "    <tr>\n",
       "      <th>25%</th>\n",
       "      <td>NaN</td>\n",
       "      <td>NaN</td>\n",
       "      <td>NaN</td>\n",
       "      <td>NaN</td>\n",
       "      <td>1.150000e+03</td>\n",
       "      <td>NaN</td>\n",
       "      <td>NaN</td>\n",
       "      <td>1999.000000</td>\n",
       "      <td>NaN</td>\n",
       "      <td>70.000000</td>\n",
       "      <td>NaN</td>\n",
       "      <td>125000.000000</td>\n",
       "      <td>3.000000</td>\n",
       "      <td>NaN</td>\n",
       "      <td>NaN</td>\n",
       "      <td>NaN</td>\n",
       "      <td>NaN</td>\n",
       "      <td>0.0</td>\n",
       "      <td>30459.00000</td>\n",
       "      <td>NaN</td>\n",
       "    </tr>\n",
       "    <tr>\n",
       "      <th>50%</th>\n",
       "      <td>NaN</td>\n",
       "      <td>NaN</td>\n",
       "      <td>NaN</td>\n",
       "      <td>NaN</td>\n",
       "      <td>2.950000e+03</td>\n",
       "      <td>NaN</td>\n",
       "      <td>NaN</td>\n",
       "      <td>2003.000000</td>\n",
       "      <td>NaN</td>\n",
       "      <td>105.000000</td>\n",
       "      <td>NaN</td>\n",
       "      <td>150000.000000</td>\n",
       "      <td>6.000000</td>\n",
       "      <td>NaN</td>\n",
       "      <td>NaN</td>\n",
       "      <td>NaN</td>\n",
       "      <td>NaN</td>\n",
       "      <td>0.0</td>\n",
       "      <td>49610.00000</td>\n",
       "      <td>NaN</td>\n",
       "    </tr>\n",
       "    <tr>\n",
       "      <th>75%</th>\n",
       "      <td>NaN</td>\n",
       "      <td>NaN</td>\n",
       "      <td>NaN</td>\n",
       "      <td>NaN</td>\n",
       "      <td>7.200000e+03</td>\n",
       "      <td>NaN</td>\n",
       "      <td>NaN</td>\n",
       "      <td>2008.000000</td>\n",
       "      <td>NaN</td>\n",
       "      <td>150.000000</td>\n",
       "      <td>NaN</td>\n",
       "      <td>150000.000000</td>\n",
       "      <td>9.000000</td>\n",
       "      <td>NaN</td>\n",
       "      <td>NaN</td>\n",
       "      <td>NaN</td>\n",
       "      <td>NaN</td>\n",
       "      <td>0.0</td>\n",
       "      <td>71546.00000</td>\n",
       "      <td>NaN</td>\n",
       "    </tr>\n",
       "    <tr>\n",
       "      <th>max</th>\n",
       "      <td>NaN</td>\n",
       "      <td>NaN</td>\n",
       "      <td>NaN</td>\n",
       "      <td>NaN</td>\n",
       "      <td>2.147484e+09</td>\n",
       "      <td>NaN</td>\n",
       "      <td>NaN</td>\n",
       "      <td>9999.000000</td>\n",
       "      <td>NaN</td>\n",
       "      <td>20000.000000</td>\n",
       "      <td>NaN</td>\n",
       "      <td>150000.000000</td>\n",
       "      <td>12.000000</td>\n",
       "      <td>NaN</td>\n",
       "      <td>NaN</td>\n",
       "      <td>NaN</td>\n",
       "      <td>NaN</td>\n",
       "      <td>0.0</td>\n",
       "      <td>99998.00000</td>\n",
       "      <td>NaN</td>\n",
       "    </tr>\n",
       "  </tbody>\n",
       "</table>\n",
       "</div>"
      ],
      "text/plain": [
       "               date_crawled         name   seller offer_type         price  \\\n",
       "count                371528       371528   371528     371528  3.715280e+05   \n",
       "unique               280500       233531        2          2           NaN   \n",
       "top     2016-03-24 14:49:47  Ford_Fiesta  private      offer           NaN   \n",
       "freq                      7          657   371525     371516           NaN   \n",
       "mean                    NaN          NaN      NaN        NaN  1.729514e+04   \n",
       "std                     NaN          NaN      NaN        NaN  3.587954e+06   \n",
       "min                     NaN          NaN      NaN        NaN  0.000000e+00   \n",
       "25%                     NaN          NaN      NaN        NaN  1.150000e+03   \n",
       "50%                     NaN          NaN      NaN        NaN  2.950000e+03   \n",
       "75%                     NaN          NaN      NaN        NaN  7.200000e+03   \n",
       "max                     NaN          NaN      NaN        NaN  2.147484e+09   \n",
       "\n",
       "        abtest vehicle_type  registration_year gearbox       power_ps   model  \\\n",
       "count   371528       333659      371528.000000  351319  371528.000000  351044   \n",
       "unique       2            8                NaN       2            NaN     251   \n",
       "top       test    limousine                NaN  manual            NaN    golf   \n",
       "freq    192585        95894                NaN  274214            NaN   30070   \n",
       "mean       NaN          NaN        2004.577997     NaN     115.549477     NaN   \n",
       "std        NaN          NaN          92.866598     NaN     192.139578     NaN   \n",
       "min        NaN          NaN        1000.000000     NaN       0.000000     NaN   \n",
       "25%        NaN          NaN        1999.000000     NaN      70.000000     NaN   \n",
       "50%        NaN          NaN        2003.000000     NaN     105.000000     NaN   \n",
       "75%        NaN          NaN        2008.000000     NaN     150.000000     NaN   \n",
       "max        NaN          NaN        9999.000000     NaN   20000.000000     NaN   \n",
       "\n",
       "            kilometer  registration_month fuel_type       brand  \\\n",
       "count   371528.000000       371528.000000    224169      371528   \n",
       "unique            NaN                 NaN         3          40   \n",
       "top               NaN                 NaN   benzine  volkswagen   \n",
       "freq              NaN                 NaN    223857       79640   \n",
       "mean    125618.688228            5.734445       NaN         NaN   \n",
       "std      40112.337051            3.712412       NaN         NaN   \n",
       "min       5000.000000            0.000000       NaN         NaN   \n",
       "25%     125000.000000            3.000000       NaN         NaN   \n",
       "50%     150000.000000            6.000000       NaN         NaN   \n",
       "75%     150000.000000            9.000000       NaN         NaN   \n",
       "max     150000.000000           12.000000       NaN         NaN   \n",
       "\n",
       "       unrepaired_damage           ad_created  nr_of_pictures   postal_code  \\\n",
       "count             299468               371528        371528.0  371528.00000   \n",
       "unique                 2                  114             NaN           NaN   \n",
       "top                   no  2016-04-03 00:00:00             NaN           NaN   \n",
       "freq              263182                14450             NaN           NaN   \n",
       "mean                 NaN                  NaN             0.0   50820.66764   \n",
       "std                  NaN                  NaN             0.0   25799.08247   \n",
       "min                  NaN                  NaN             0.0    1067.00000   \n",
       "25%                  NaN                  NaN             0.0   30459.00000   \n",
       "50%                  NaN                  NaN             0.0   49610.00000   \n",
       "75%                  NaN                  NaN             0.0   71546.00000   \n",
       "max                  NaN                  NaN             0.0   99998.00000   \n",
       "\n",
       "                  last_seen  \n",
       "count                371528  \n",
       "unique               182806  \n",
       "top     2016-04-07 06:45:59  \n",
       "freq                     17  \n",
       "mean                    NaN  \n",
       "std                     NaN  \n",
       "min                     NaN  \n",
       "25%                     NaN  \n",
       "50%                     NaN  \n",
       "75%                     NaN  \n",
       "max                     NaN  "
      ]
     },
     "execution_count": 12,
     "metadata": {},
     "output_type": "execute_result"
    }
   ],
   "source": [
    "autos.describe(include = 'all')        "
   ]
  },
  {
   "cell_type": "code",
   "execution_count": 13,
   "id": "490f8bef-9f75-47d0-a930-b6b55e54f7f9",
   "metadata": {},
   "outputs": [
    {
     "data": {
      "text/html": [
       "<div>\n",
       "<style scoped>\n",
       "    .dataframe tbody tr th:only-of-type {\n",
       "        vertical-align: middle;\n",
       "    }\n",
       "\n",
       "    .dataframe tbody tr th {\n",
       "        vertical-align: top;\n",
       "    }\n",
       "\n",
       "    .dataframe thead th {\n",
       "        text-align: right;\n",
       "    }\n",
       "</style>\n",
       "<table border=\"1\" class=\"dataframe\">\n",
       "  <thead>\n",
       "    <tr style=\"text-align: right;\">\n",
       "      <th></th>\n",
       "      <th>date_crawled</th>\n",
       "      <th>name</th>\n",
       "      <th>seller</th>\n",
       "      <th>offer_type</th>\n",
       "      <th>abtest</th>\n",
       "      <th>vehicle_type</th>\n",
       "      <th>gearbox</th>\n",
       "      <th>model</th>\n",
       "      <th>fuel_type</th>\n",
       "      <th>brand</th>\n",
       "      <th>unrepaired_damage</th>\n",
       "      <th>ad_created</th>\n",
       "      <th>last_seen</th>\n",
       "    </tr>\n",
       "  </thead>\n",
       "  <tbody>\n",
       "    <tr>\n",
       "      <th>count</th>\n",
       "      <td>371528</td>\n",
       "      <td>371528</td>\n",
       "      <td>371528</td>\n",
       "      <td>371528</td>\n",
       "      <td>371528</td>\n",
       "      <td>333659</td>\n",
       "      <td>351319</td>\n",
       "      <td>351044</td>\n",
       "      <td>224169</td>\n",
       "      <td>371528</td>\n",
       "      <td>299468</td>\n",
       "      <td>371528</td>\n",
       "      <td>371528</td>\n",
       "    </tr>\n",
       "    <tr>\n",
       "      <th>unique</th>\n",
       "      <td>280500</td>\n",
       "      <td>233531</td>\n",
       "      <td>2</td>\n",
       "      <td>2</td>\n",
       "      <td>2</td>\n",
       "      <td>8</td>\n",
       "      <td>2</td>\n",
       "      <td>251</td>\n",
       "      <td>3</td>\n",
       "      <td>40</td>\n",
       "      <td>2</td>\n",
       "      <td>114</td>\n",
       "      <td>182806</td>\n",
       "    </tr>\n",
       "    <tr>\n",
       "      <th>top</th>\n",
       "      <td>2016-03-24 14:49:47</td>\n",
       "      <td>Ford_Fiesta</td>\n",
       "      <td>private</td>\n",
       "      <td>offer</td>\n",
       "      <td>test</td>\n",
       "      <td>limousine</td>\n",
       "      <td>manual</td>\n",
       "      <td>golf</td>\n",
       "      <td>benzine</td>\n",
       "      <td>volkswagen</td>\n",
       "      <td>no</td>\n",
       "      <td>2016-04-03 00:00:00</td>\n",
       "      <td>2016-04-07 06:45:59</td>\n",
       "    </tr>\n",
       "    <tr>\n",
       "      <th>freq</th>\n",
       "      <td>7</td>\n",
       "      <td>657</td>\n",
       "      <td>371525</td>\n",
       "      <td>371516</td>\n",
       "      <td>192585</td>\n",
       "      <td>95894</td>\n",
       "      <td>274214</td>\n",
       "      <td>30070</td>\n",
       "      <td>223857</td>\n",
       "      <td>79640</td>\n",
       "      <td>263182</td>\n",
       "      <td>14450</td>\n",
       "      <td>17</td>\n",
       "    </tr>\n",
       "  </tbody>\n",
       "</table>\n",
       "</div>"
      ],
      "text/plain": [
       "               date_crawled         name   seller offer_type  abtest  \\\n",
       "count                371528       371528   371528     371528  371528   \n",
       "unique               280500       233531        2          2       2   \n",
       "top     2016-03-24 14:49:47  Ford_Fiesta  private      offer    test   \n",
       "freq                      7          657   371525     371516  192585   \n",
       "\n",
       "       vehicle_type gearbox   model fuel_type       brand unrepaired_damage  \\\n",
       "count        333659  351319  351044    224169      371528            299468   \n",
       "unique            8       2     251         3          40                 2   \n",
       "top       limousine  manual    golf   benzine  volkswagen                no   \n",
       "freq          95894  274214   30070    223857       79640            263182   \n",
       "\n",
       "                 ad_created            last_seen  \n",
       "count                371528               371528  \n",
       "unique                  114               182806  \n",
       "top     2016-04-03 00:00:00  2016-04-07 06:45:59  \n",
       "freq                  14450                   17  "
      ]
     },
     "execution_count": 13,
     "metadata": {},
     "output_type": "execute_result"
    }
   ],
   "source": [
    "autos.describe(include = 'O')"
   ]
  },
  {
   "cell_type": "code",
   "execution_count": 14,
   "id": "b0f3cc33-5a10-4ae4-99c7-5c50cde35d0c",
   "metadata": {},
   "outputs": [
    {
     "data": {
      "text/html": [
       "<div>\n",
       "<style scoped>\n",
       "    .dataframe tbody tr th:only-of-type {\n",
       "        vertical-align: middle;\n",
       "    }\n",
       "\n",
       "    .dataframe tbody tr th {\n",
       "        vertical-align: top;\n",
       "    }\n",
       "\n",
       "    .dataframe thead th {\n",
       "        text-align: right;\n",
       "    }\n",
       "</style>\n",
       "<table border=\"1\" class=\"dataframe\">\n",
       "  <thead>\n",
       "    <tr style=\"text-align: right;\">\n",
       "      <th></th>\n",
       "      <th>price</th>\n",
       "      <th>registration_year</th>\n",
       "      <th>power_ps</th>\n",
       "      <th>kilometer</th>\n",
       "      <th>registration_month</th>\n",
       "      <th>nr_of_pictures</th>\n",
       "      <th>postal_code</th>\n",
       "    </tr>\n",
       "  </thead>\n",
       "  <tbody>\n",
       "    <tr>\n",
       "      <th>count</th>\n",
       "      <td>3.715280e+05</td>\n",
       "      <td>371528.000000</td>\n",
       "      <td>371528.000000</td>\n",
       "      <td>371528.000000</td>\n",
       "      <td>371528.000000</td>\n",
       "      <td>371528.0</td>\n",
       "      <td>371528.00000</td>\n",
       "    </tr>\n",
       "    <tr>\n",
       "      <th>mean</th>\n",
       "      <td>1.729514e+04</td>\n",
       "      <td>2004.577997</td>\n",
       "      <td>115.549477</td>\n",
       "      <td>125618.688228</td>\n",
       "      <td>5.734445</td>\n",
       "      <td>0.0</td>\n",
       "      <td>50820.66764</td>\n",
       "    </tr>\n",
       "    <tr>\n",
       "      <th>std</th>\n",
       "      <td>3.587954e+06</td>\n",
       "      <td>92.866598</td>\n",
       "      <td>192.139578</td>\n",
       "      <td>40112.337051</td>\n",
       "      <td>3.712412</td>\n",
       "      <td>0.0</td>\n",
       "      <td>25799.08247</td>\n",
       "    </tr>\n",
       "    <tr>\n",
       "      <th>min</th>\n",
       "      <td>0.000000e+00</td>\n",
       "      <td>1000.000000</td>\n",
       "      <td>0.000000</td>\n",
       "      <td>5000.000000</td>\n",
       "      <td>0.000000</td>\n",
       "      <td>0.0</td>\n",
       "      <td>1067.00000</td>\n",
       "    </tr>\n",
       "    <tr>\n",
       "      <th>25%</th>\n",
       "      <td>1.150000e+03</td>\n",
       "      <td>1999.000000</td>\n",
       "      <td>70.000000</td>\n",
       "      <td>125000.000000</td>\n",
       "      <td>3.000000</td>\n",
       "      <td>0.0</td>\n",
       "      <td>30459.00000</td>\n",
       "    </tr>\n",
       "    <tr>\n",
       "      <th>50%</th>\n",
       "      <td>2.950000e+03</td>\n",
       "      <td>2003.000000</td>\n",
       "      <td>105.000000</td>\n",
       "      <td>150000.000000</td>\n",
       "      <td>6.000000</td>\n",
       "      <td>0.0</td>\n",
       "      <td>49610.00000</td>\n",
       "    </tr>\n",
       "    <tr>\n",
       "      <th>75%</th>\n",
       "      <td>7.200000e+03</td>\n",
       "      <td>2008.000000</td>\n",
       "      <td>150.000000</td>\n",
       "      <td>150000.000000</td>\n",
       "      <td>9.000000</td>\n",
       "      <td>0.0</td>\n",
       "      <td>71546.00000</td>\n",
       "    </tr>\n",
       "    <tr>\n",
       "      <th>max</th>\n",
       "      <td>2.147484e+09</td>\n",
       "      <td>9999.000000</td>\n",
       "      <td>20000.000000</td>\n",
       "      <td>150000.000000</td>\n",
       "      <td>12.000000</td>\n",
       "      <td>0.0</td>\n",
       "      <td>99998.00000</td>\n",
       "    </tr>\n",
       "  </tbody>\n",
       "</table>\n",
       "</div>"
      ],
      "text/plain": [
       "              price  registration_year       power_ps      kilometer  \\\n",
       "count  3.715280e+05      371528.000000  371528.000000  371528.000000   \n",
       "mean   1.729514e+04        2004.577997     115.549477  125618.688228   \n",
       "std    3.587954e+06          92.866598     192.139578   40112.337051   \n",
       "min    0.000000e+00        1000.000000       0.000000    5000.000000   \n",
       "25%    1.150000e+03        1999.000000      70.000000  125000.000000   \n",
       "50%    2.950000e+03        2003.000000     105.000000  150000.000000   \n",
       "75%    7.200000e+03        2008.000000     150.000000  150000.000000   \n",
       "max    2.147484e+09        9999.000000   20000.000000  150000.000000   \n",
       "\n",
       "       registration_month  nr_of_pictures   postal_code  \n",
       "count       371528.000000        371528.0  371528.00000  \n",
       "mean             5.734445             0.0   50820.66764  \n",
       "std              3.712412             0.0   25799.08247  \n",
       "min              0.000000             0.0    1067.00000  \n",
       "25%              3.000000             0.0   30459.00000  \n",
       "50%              6.000000             0.0   49610.00000  \n",
       "75%              9.000000             0.0   71546.00000  \n",
       "max             12.000000             0.0   99998.00000  "
      ]
     },
     "execution_count": 14,
     "metadata": {},
     "output_type": "execute_result"
    }
   ],
   "source": [
    "autos.describe()"
   ]
  },
  {
   "cell_type": "markdown",
   "id": "3a58c434-b172-43fd-94c5-fad038b90691",
   "metadata": {},
   "source": [
    "#### **Columns that have mostly one value that are candidates to be dropped.**"
   ]
  },
  {
   "cell_type": "markdown",
   "id": "65bcb15e-53e2-4e53-aa12-c1cecd900ddc",
   "metadata": {},
   "source": [
    "- `seller:` This column has `private` as the one value occurring (371525\tout of 371528 times) - 99.99%\n",
    "-  `offer_type:` This column has `offer` occurring (371516 out of 371528 times) - 99.99%"
   ]
  },
  {
   "cell_type": "markdown",
   "id": "ad4c227c-0552-4b90-b223-80071abf1863",
   "metadata": {},
   "source": [
    "The above columns have mostly one value. Also, we see some of them lacking entries and have other values in higher majority.\n",
    "\n",
    "However, we see the `seller` and `offer_type` columns are suitable candidates to be dropped as they may not contribute to valuable inferrences. They just have one value occurring more than 99% of the time."
   ]
  },
  {
   "cell_type": "code",
   "execution_count": 15,
   "id": "c3484992-3df9-4241-98ba-e6113c302628",
   "metadata": {},
   "outputs": [
    {
     "data": {
      "text/plain": [
       "seller\n",
       "private       371525\n",
       "commercial         3\n",
       "Name: count, dtype: int64"
      ]
     },
     "execution_count": 15,
     "metadata": {},
     "output_type": "execute_result"
    }
   ],
   "source": [
    "autos['seller'].value_counts(dropna = False) # This will gives us the other minority value in this column."
   ]
  },
  {
   "cell_type": "markdown",
   "id": "526e398e-8df9-489c-94e8-574f0cc8e1d0",
   "metadata": {},
   "source": [
    "We see there are just two values present in this column."
   ]
  },
  {
   "cell_type": "code",
   "execution_count": 16,
   "id": "a64efe3f-f3d8-4568-b646-81951581da89",
   "metadata": {},
   "outputs": [
    {
     "data": {
      "text/plain": [
       "offer_type\n",
       "offer      371516\n",
       "request        12\n",
       "Name: count, dtype: int64"
      ]
     },
     "execution_count": 16,
     "metadata": {},
     "output_type": "execute_result"
    }
   ],
   "source": [
    "autos['offer_type'].value_counts()"
   ]
  },
  {
   "cell_type": "markdown",
   "id": "1b4cfd89-cce8-40cc-800d-40afdffdb1fe",
   "metadata": {},
   "source": [
    "This column is similar to the `seller` column with a high majority value and a minor one.\n",
    "\n",
    "These columns can be dropped."
   ]
  },
  {
   "cell_type": "code",
   "execution_count": 17,
   "id": "51ff8c48-90c6-4803-ba73-fc11a3902812",
   "metadata": {},
   "outputs": [
    {
     "data": {
      "text/plain": [
       "fuel_type\n",
       "benzine    223857\n",
       "NaN        147359\n",
       "other         208\n",
       "electro       104\n",
       "Name: count, dtype: int64"
      ]
     },
     "execution_count": 17,
     "metadata": {},
     "output_type": "execute_result"
    }
   ],
   "source": [
    "autos['fuel_type'].value_counts(dropna = False)"
   ]
  },
  {
   "cell_type": "code",
   "execution_count": 18,
   "id": "0d7e2f27-ba5c-4c82-8ca6-c5495581d113",
   "metadata": {},
   "outputs": [
    {
     "data": {
      "text/plain": [
       "unrepaired_damage\n",
       "no     263182\n",
       "NaN     72060\n",
       "yes     36286\n",
       "Name: count, dtype: int64"
      ]
     },
     "execution_count": 18,
     "metadata": {},
     "output_type": "execute_result"
    }
   ],
   "source": [
    "autos['unrepaired_damage'].value_counts(dropna = False)"
   ]
  },
  {
   "cell_type": "code",
   "execution_count": 19,
   "id": "ad7f5c6e-59bc-4e38-9f45-1587af3110bc",
   "metadata": {},
   "outputs": [
    {
     "data": {
      "text/plain": [
       "abtest\n",
       "test       192585\n",
       "control    178943\n",
       "Name: count, dtype: int64"
      ]
     },
     "execution_count": 19,
     "metadata": {},
     "output_type": "execute_result"
    }
   ],
   "source": [
    "autos['abtest'].value_counts(dropna = False)"
   ]
  },
  {
   "cell_type": "markdown",
   "id": "1522da96-26e7-46f7-8c4c-4d28c47626b1",
   "metadata": {},
   "source": [
    "#### **Columns that need more investigation.**"
   ]
  },
  {
   "cell_type": "markdown",
   "id": "950f7540-42bf-43c3-82cb-6872824faf2c",
   "metadata": {},
   "source": [
    "- The column `price` might require further investigation, we see the min price being shown as 0.00 and a max being more than a 9-digit number. This column indicates prices for used cars.\n",
    "- The column `registration_year` requires further investigation. The min year of registration shown, as 1000 and max being shown as 9999. These numbers do not integrate well with the essence of our dataset.\n",
    "- `power_ps` column has a min value of 0.00. This column requires further investigation.\n",
    "- `vehicle_type` column has 37869 (371528 - 333659) NaN values, requires further investigation.\n",
    "- `model` column has 20484 (371528 - 351044) NaN values, requires further investigation.\n",
    "- `kilometer` column requires further investigation, the max values seem to represent extreme unusual values.\n",
    "- `fuel_type` column has 33386 NaN values, requires further investigation.\n",
    "- `registration_month` has min month as 0.00, this requires further investigation.\n",
    "- `nr_of_pictures` column has mostly zeroes as its elements. This column is a candidate to be dropped.\n",
    "-  `abtest:` This column has `test` occurring (192585 /371528) times - 51.83%\n",
    "-  `gearbox:` This column has `manual` occurring (274214 / 351319) times - 78.05% with lacking 20209 entries when compared with the majority of the columns, requires further investigation.\n",
    "-  `unrepaired_damage:` This column has `no` occurring (263182 / 299468) times - 87.88% with lacking 72060 entries when compared with majority of the columns, requires further investigation."
   ]
  },
  {
   "cell_type": "markdown",
   "id": "8990087e-9bb2-414f-9949-44177efec17d",
   "metadata": {},
   "source": [
    "#### **Columns of numeric data stored as text**"
   ]
  },
  {
   "cell_type": "markdown",
   "id": "419d46fd-b41e-490f-bd70-9804826ce135",
   "metadata": {},
   "source": [
    "There are no numeric columns stored as text dtype."
   ]
  },
  {
   "cell_type": "markdown",
   "id": "ae6c5d2c-9a89-4751-8a83-475c053cb6d7",
   "metadata": {},
   "source": [
    "#### `postal_code`"
   ]
  },
  {
   "cell_type": "code",
   "execution_count": 20,
   "id": "082e2a58-740a-4d3c-a889-d23c4a247c30",
   "metadata": {},
   "outputs": [
    {
     "data": {
      "text/plain": [
       "postal_code\n",
       "1067     96\n",
       "1068      1\n",
       "1069     59\n",
       "1097     29\n",
       "1099     67\n",
       "         ..\n",
       "99988     9\n",
       "99991     2\n",
       "99994     7\n",
       "99996     3\n",
       "99998    16\n",
       "Name: count, Length: 8150, dtype: int64"
      ]
     },
     "execution_count": 20,
     "metadata": {},
     "output_type": "execute_result"
    }
   ],
   "source": [
    "autos['postal_code'].value_counts(dropna = False).sort_index()"
   ]
  },
  {
   "cell_type": "code",
   "execution_count": 21,
   "id": "2d1b1799-e2b5-4028-bdb4-28ff2bf28c08",
   "metadata": {},
   "outputs": [
    {
     "data": {
      "text/plain": [
       "postal_code\n",
       "10115    828\n",
       "65428    637\n",
       "66333    349\n",
       "38518    326\n",
       "44145    323\n",
       "32257    323\n",
       "52525    314\n",
       "78224    309\n",
       "26789    301\n",
       "48599    294\n",
       "Name: count, dtype: int64"
      ]
     },
     "execution_count": 21,
     "metadata": {},
     "output_type": "execute_result"
    }
   ],
   "source": [
    "autos['postal_code'].value_counts(dropna = False).head(10)"
   ]
  },
  {
   "cell_type": "markdown",
   "id": "94bb30c0-1c59-45c0-bce1-4cf9c2a25a58",
   "metadata": {},
   "source": [
    "Germany has postal code ranging for (1067 - 99998). This column reflects revelant genuine data.\n",
    "\n",
    "We see that the postal code, 10115 as the location for most cars listings. With almost 800 listings.\n",
    "\n",
    "This makes sense as this is the postal code for the capital Berlin."
   ]
  },
  {
   "cell_type": "markdown",
   "id": "bc938b7f-be59-4609-b7a7-fcb2ad1f0a5a",
   "metadata": {},
   "source": [
    "#### `price`"
   ]
  },
  {
   "cell_type": "code",
   "execution_count": 22,
   "id": "10f1c282-8545-4575-85e8-211e1c868525",
   "metadata": {},
   "outputs": [
    {
     "data": {
      "text/plain": [
       "price\n",
       "2147483647        1\n",
       "99999999         15\n",
       "99000000          1\n",
       "74185296          1\n",
       "32545461          1\n",
       "              ...  \n",
       "4                 1\n",
       "3                 8\n",
       "2                12\n",
       "1              1189\n",
       "0             10778\n",
       "Name: count, Length: 5597, dtype: int64"
      ]
     },
     "execution_count": 22,
     "metadata": {},
     "output_type": "execute_result"
    }
   ],
   "source": [
    "autos['price'].value_counts(dropna = False).sort_index(ascending = False) #sorts the index in descending order."
   ]
  },
  {
   "cell_type": "markdown",
   "id": "7942bab0-cafc-4650-8c8d-85a1ba5d4d8d",
   "metadata": {},
   "source": [
    "There seems to be prices higher than normal for used resold cars. \n",
    "\n",
    "Numbers ranging in more than 6 figures, on the other end the some price values are very low, with 0 being the most common."
   ]
  },
  {
   "cell_type": "code",
   "execution_count": 23,
   "id": "dbeeb44e-fcc8-4c2d-92a6-1f409cdb9156",
   "metadata": {},
   "outputs": [
    {
     "data": {
      "text/plain": [
       "count    3.715280e+05\n",
       "mean     1.729514e+04\n",
       "std      3.587954e+06\n",
       "min      0.000000e+00\n",
       "25%      1.150000e+03\n",
       "50%      2.950000e+03\n",
       "75%      7.200000e+03\n",
       "max      2.147484e+09\n",
       "Name: price, dtype: float64"
      ]
     },
     "execution_count": 23,
     "metadata": {},
     "output_type": "execute_result"
    }
   ],
   "source": [
    "autos['price'].describe()"
   ]
  },
  {
   "cell_type": "markdown",
   "id": "9527fad2-b230-44d1-b7af-e846553fe6c5",
   "metadata": {},
   "source": [
    "The `price` column has a relatively higher standard deviation, which indicates the data not being closely distributed with the mean.\n",
    "The reasons for this can be outliers, or the extreme data points in the `price` column, like the high and low price values.\n",
    "\n",
    "A closely distributed data represents a normal distribution."
   ]
  },
  {
   "cell_type": "code",
   "execution_count": 24,
   "id": "69288798-61ed-465c-bd42-0d5b1ec5a244",
   "metadata": {},
   "outputs": [
    {
     "data": {
      "text/plain": [
       "price\n",
       "0       10778\n",
       "500      5670\n",
       "1500     5394\n",
       "1000     4649\n",
       "1200     4594\n",
       "Name: count, dtype: int64"
      ]
     },
     "execution_count": 24,
     "metadata": {},
     "output_type": "execute_result"
    }
   ],
   "source": [
    "autos['price'].value_counts().head()"
   ]
  },
  {
   "cell_type": "code",
   "execution_count": 25,
   "id": "04ee330e-3254-4d9b-801f-35ae1186e558",
   "metadata": {},
   "outputs": [
    {
     "data": {
      "text/plain": [
       "price\n",
       "349000    1\n",
       "8889      1\n",
       "3440      1\n",
       "1997      1\n",
       "10985     1\n",
       "Name: count, dtype: int64"
      ]
     },
     "execution_count": 25,
     "metadata": {},
     "output_type": "execute_result"
    }
   ],
   "source": [
    "autos['price'].value_counts().tail()"
   ]
  },
  {
   "cell_type": "code",
   "execution_count": 26,
   "id": "c4715415-b35a-49e1-bfb3-d99186075c22",
   "metadata": {},
   "outputs": [],
   "source": [
    "autos = autos[autos['price'].between(1, 350000)] # filters the dataframe to only include rows where the price columns's value range from 1 to 350000."
   ]
  },
  {
   "cell_type": "code",
   "execution_count": 27,
   "id": "c2dd9402-f6c3-4d87-9e9f-ea124efa73e7",
   "metadata": {},
   "outputs": [
    {
     "data": {
      "text/plain": [
       "count    360635.000000\n",
       "mean       5898.671956\n",
       "std        8866.359669\n",
       "min           1.000000\n",
       "25%        1250.000000\n",
       "50%        3000.000000\n",
       "75%        7490.000000\n",
       "max      350000.000000\n",
       "Name: price, dtype: float64"
      ]
     },
     "execution_count": 27,
     "metadata": {},
     "output_type": "execute_result"
    }
   ],
   "source": [
    "autos['price'].describe()"
   ]
  },
  {
   "cell_type": "code",
   "execution_count": 28,
   "id": "5b4032ca-c193-4cd5-ab60-e0451fbd3bca",
   "metadata": {},
   "outputs": [
    {
     "data": {
      "text/plain": [
       "price\n",
       "500     5670\n",
       "1500    5394\n",
       "1000    4649\n",
       "1200    4594\n",
       "2500    4438\n",
       "Name: count, dtype: int64"
      ]
     },
     "execution_count": 28,
     "metadata": {},
     "output_type": "execute_result"
    }
   ],
   "source": [
    "autos['price'].value_counts().head()"
   ]
  },
  {
   "cell_type": "code",
   "execution_count": 29,
   "id": "66d21384-fa01-4cbc-98b7-2fd4eb8c3fab",
   "metadata": {},
   "outputs": [
    {
     "data": {
      "text/plain": [
       "price\n",
       "17501    1\n",
       "12567    1\n",
       "31555    1\n",
       "7675     1\n",
       "10985    1\n",
       "Name: count, dtype: int64"
      ]
     },
     "execution_count": 29,
     "metadata": {},
     "output_type": "execute_result"
    }
   ],
   "source": [
    "autos['price'].value_counts().tail()"
   ]
  },
  {
   "cell_type": "code",
   "execution_count": 30,
   "id": "25d4ccd4-4fdc-485b-8f88-dee84c8aa951",
   "metadata": {},
   "outputs": [
    {
     "data": {
      "text/plain": [
       "price\n",
       "284000    1\n",
       "285000    1\n",
       "294900    1\n",
       "295000    1\n",
       "299000    3\n",
       "300000    1\n",
       "323223    1\n",
       "345000    1\n",
       "349000    1\n",
       "350000    4\n",
       "Name: count, dtype: int64"
      ]
     },
     "execution_count": 30,
     "metadata": {},
     "output_type": "execute_result"
    }
   ],
   "source": [
    "autos['price'].value_counts().sort_index().tail(10) # sorts the index in ascending order and returns the bottom 10 values."
   ]
  },
  {
   "cell_type": "code",
   "execution_count": 31,
   "id": "63c8f93d-52c2-4357-a8cc-53ac6e2ad4aa",
   "metadata": {},
   "outputs": [
    {
     "data": {
      "text/plain": [
       "price\n",
       "1     1189\n",
       "2       12\n",
       "3        8\n",
       "4        1\n",
       "5       26\n",
       "7        3\n",
       "8        9\n",
       "9        8\n",
       "10      84\n",
       "11       5\n",
       "Name: count, dtype: int64"
      ]
     },
     "execution_count": 31,
     "metadata": {},
     "output_type": "execute_result"
    }
   ],
   "source": [
    "autos['price'].value_counts().sort_index().head(10)"
   ]
  },
  {
   "cell_type": "code",
   "execution_count": 32,
   "id": "5deffcea-cc2d-4627-a25a-aaf297491f4b",
   "metadata": {},
   "outputs": [],
   "source": [
    "autos = autos[autos['price'].between(100, 100000)]"
   ]
  },
  {
   "cell_type": "code",
   "execution_count": 33,
   "id": "8d487125-fe40-4f63-b611-a2867c5620d0",
   "metadata": {},
   "outputs": [
    {
     "data": {
      "text/plain": [
       "count    357805.000000\n",
       "mean       5816.364481\n",
       "std        7562.614881\n",
       "min         100.000000\n",
       "25%        1290.000000\n",
       "50%        3100.000000\n",
       "75%        7499.000000\n",
       "max      100000.000000\n",
       "Name: price, dtype: float64"
      ]
     },
     "execution_count": 33,
     "metadata": {},
     "output_type": "execute_result"
    }
   ],
   "source": [
    "autos['price'].describe()"
   ]
  },
  {
   "cell_type": "markdown",
   "id": "545dd5c6-595e-4333-8bc9-6509087fff7d",
   "metadata": {},
   "source": [
    "We see now, the mean shows a reasonable value, and the standard deviation is at a lower value than before. This supports the distribution, to be more closely represented amongst the mean.\n",
    "The minimum and maximum values are now changed. After removing the outliers in the column, the data is closely represents a normal distribution. \n",
    "\n",
    "An higher standard deviation represents uncertainty in data and a distribution not closely related to normal.\n",
    "\n",
    "We see that the average price of a car is 5816.36.\n",
    "- The 25th percentile shows 25% of the cars listed has price less than or equal to 1290.\n",
    "- The 50th percentile, indicates 50% have price less than or equal to 3100.\n",
    "- The 75th percentile is to show that 75% have price less than or equal to 7499.\n",
    "We see the max price is 100000."
   ]
  },
  {
   "cell_type": "code",
   "execution_count": 34,
   "id": "87252ab4-c3bd-4695-8227-36daebdd37fa",
   "metadata": {},
   "outputs": [
    {
     "data": {
      "text/plain": [
       "0"
      ]
     },
     "execution_count": 34,
     "metadata": {},
     "output_type": "execute_result"
    }
   ],
   "source": [
    "autos['price'].isnull().sum() #counts the number of null values in a column."
   ]
  },
  {
   "cell_type": "code",
   "execution_count": 35,
   "id": "2dcd32c8-2fc3-4c0d-b27d-75554b0e0166",
   "metadata": {},
   "outputs": [
    {
     "data": {
      "text/plain": [
       "20.986781043874668"
      ]
     },
     "execution_count": 35,
     "metadata": {},
     "output_type": "execute_result"
    }
   ],
   "source": [
    "autos['price'].kurtosis()"
   ]
  },
  {
   "cell_type": "markdown",
   "id": "cfe8a083-692b-4090-b0e5-af5243bd76f7",
   "metadata": {},
   "source": [
    "The price distribution here is shown to be leptokurtic with thicker tails and value closer to the mean. This distribution is seen after removal of the outliers."
   ]
  },
  {
   "cell_type": "markdown",
   "id": "b0a60449-0f32-49cd-93eb-8c3b4b58b46b",
   "metadata": {},
   "source": [
    "#### `registration_year`"
   ]
  },
  {
   "cell_type": "code",
   "execution_count": 36,
   "id": "3171803a-14a2-4c4a-be28-d0776f3b5741",
   "metadata": {},
   "outputs": [
    {
     "data": {
      "text/plain": [
       "registration_year\n",
       "1000    22\n",
       "1001     1\n",
       "1039     1\n",
       "1111     1\n",
       "1234     4\n",
       "        ..\n",
       "8500     1\n",
       "8888     1\n",
       "9000     4\n",
       "9450     1\n",
       "9999    13\n",
       "Name: count, Length: 143, dtype: int64"
      ]
     },
     "execution_count": 36,
     "metadata": {},
     "output_type": "execute_result"
    }
   ],
   "source": [
    "autos['registration_year'].value_counts().sort_index() #Using series.value_counts() and then series.sort_index(), brings the values to the index side and sorts them. "
   ]
  },
  {
   "cell_type": "markdown",
   "id": "da9a271d-6c7c-4aca-aa5e-0f76c4a6f677",
   "metadata": {},
   "source": [
    "We see, above that there seems to be unrealistic min years less than the 90's or 80's, even before cars were invented and the resold site was up and running. There also seems to be incorrect data of years, being in the future."
   ]
  },
  {
   "cell_type": "markdown",
   "id": "0755207e-3ca7-4250-92b6-52b05bba2c1e",
   "metadata": {},
   "source": [
    "We will go ahead and create a window to remove outliers and uncertain data."
   ]
  },
  {
   "cell_type": "code",
   "execution_count": 37,
   "id": "645fdfd8-7e0c-48ef-bad2-a86c5e3c3772",
   "metadata": {},
   "outputs": [
    {
     "data": {
      "text/plain": [
       "count    357805.000000\n",
       "mean       2004.294445\n",
       "std          72.258264\n",
       "min        1000.000000\n",
       "25%        1999.000000\n",
       "50%        2004.000000\n",
       "75%        2008.000000\n",
       "max        9999.000000\n",
       "Name: registration_year, dtype: float64"
      ]
     },
     "execution_count": 37,
     "metadata": {},
     "output_type": "execute_result"
    }
   ],
   "source": [
    "autos['registration_year'].describe()"
   ]
  },
  {
   "cell_type": "markdown",
   "id": "a0992916-5882-4087-951e-72f7cae86da1",
   "metadata": {},
   "source": [
    "We see that the standard deviation is further from the mean, indicating again that the data is not evenly spread out or closely distributed amongst the mean.\n",
    "This thereby indicates uncertainty in the dataset."
   ]
  },
  {
   "cell_type": "code",
   "execution_count": 38,
   "id": "7d5231de-a833-47de-a2bc-1ab2dcee173d",
   "metadata": {},
   "outputs": [
    {
     "data": {
      "text/plain": [
       "registration_year\n",
       "2000    22706\n",
       "1999    21881\n",
       "2005    21562\n",
       "2006    19962\n",
       "2001    19658\n",
       "2003    19558\n",
       "2004    19430\n",
       "2002    18769\n",
       "2007    17459\n",
       "1998    17067\n",
       "2008    15995\n",
       "2009    15471\n",
       "1997    13879\n",
       "2010    12226\n",
       "2011    11964\n",
       "1996    10297\n",
       "2017     9935\n",
       "2012     9334\n",
       "2016     9052\n",
       "1995     8746\n",
       "Name: count, dtype: int64"
      ]
     },
     "execution_count": 38,
     "metadata": {},
     "output_type": "execute_result"
    }
   ],
   "source": [
    "autos['registration_year'].value_counts().head(20)"
   ]
  },
  {
   "cell_type": "code",
   "execution_count": 39,
   "id": "52daebe4-77bd-4549-aa26-6c51e8dd18fe",
   "metadata": {},
   "outputs": [
    {
     "data": {
      "text/plain": [
       "registration_year\n",
       "7100    1\n",
       "1400    1\n",
       "8888    1\n",
       "2200    1\n",
       "5900    1\n",
       "2900    1\n",
       "8500    1\n",
       "5300    1\n",
       "1255    1\n",
       "2066    1\n",
       "3700    1\n",
       "3800    1\n",
       "4800    1\n",
       "1911    1\n",
       "2290    1\n",
       "4100    1\n",
       "1001    1\n",
       "6200    1\n",
       "9450    1\n",
       "8200    1\n",
       "Name: count, dtype: int64"
      ]
     },
     "execution_count": 39,
     "metadata": {},
     "output_type": "execute_result"
    }
   ],
   "source": [
    "autos['registration_year'].value_counts().tail(20)"
   ]
  },
  {
   "cell_type": "code",
   "execution_count": 40,
   "id": "a6382b2d-87e0-4e08-8db6-505572ba51da",
   "metadata": {},
   "outputs": [
    {
     "data": {
      "text/plain": [
       "registration_year\n",
       "1000    22\n",
       "1001     1\n",
       "1039     1\n",
       "1111     1\n",
       "1234     4\n",
       "1255     1\n",
       "1300     2\n",
       "1400     1\n",
       "1500     3\n",
       "1600     2\n",
       "1602     1\n",
       "1800     4\n",
       "1910    36\n",
       "1911     1\n",
       "1923     3\n",
       "1925     1\n",
       "1927     2\n",
       "1928     2\n",
       "1929     7\n",
       "1930     4\n",
       "Name: count, dtype: int64"
      ]
     },
     "execution_count": 40,
     "metadata": {},
     "output_type": "execute_result"
    }
   ],
   "source": [
    "autos['registration_year'].value_counts().sort_index().head(20)"
   ]
  },
  {
   "cell_type": "code",
   "execution_count": 41,
   "id": "8b71105e-0f66-4e49-9326-a9da7642832c",
   "metadata": {},
   "outputs": [
    {
     "data": {
      "text/plain": [
       "count    357683.000000\n",
       "mean       2003.482184\n",
       "std           7.549755\n",
       "min        1910.000000\n",
       "25%        1999.000000\n",
       "50%        2004.000000\n",
       "75%        2008.000000\n",
       "max        2019.000000\n",
       "Name: registration_year, dtype: float64"
      ]
     },
     "execution_count": 41,
     "metadata": {},
     "output_type": "execute_result"
    }
   ],
   "source": [
    "autos = autos[autos['registration_year'].between(1900, 2020)]\n",
    "autos['registration_year'].describe()"
   ]
  },
  {
   "cell_type": "markdown",
   "id": "9de58af8-3590-455d-8601-9b0d2d54f026",
   "metadata": {},
   "source": [
    "We know see the min and max values having significant realistic values relating to the present's timeline. The SD has also significantly decreased after the removal of outliers."
   ]
  },
  {
   "cell_type": "code",
   "execution_count": 42,
   "id": "2c902d25-1a49-4f97-a392-13ac001a3730",
   "metadata": {},
   "outputs": [
    {
     "data": {
      "text/plain": [
       "registration_year\n",
       "1910      36\n",
       "1911       1\n",
       "1923       3\n",
       "1925       1\n",
       "1927       2\n",
       "        ... \n",
       "2015    2817\n",
       "2016    9052\n",
       "2017    9935\n",
       "2018    3798\n",
       "2019      16\n",
       "Name: count, Length: 97, dtype: int64"
      ]
     },
     "execution_count": 42,
     "metadata": {},
     "output_type": "execute_result"
    }
   ],
   "source": [
    "autos['registration_year'].value_counts(dropna = False).sort_index()"
   ]
  },
  {
   "cell_type": "code",
   "execution_count": 43,
   "id": "6331873f-d71d-498a-954e-bfbd796170cb",
   "metadata": {},
   "outputs": [
    {
     "data": {
      "text/plain": [
       "0"
      ]
     },
     "execution_count": 43,
     "metadata": {},
     "output_type": "execute_result"
    }
   ],
   "source": [
    "autos['registration_year'].isnull().sum()"
   ]
  },
  {
   "cell_type": "code",
   "execution_count": 44,
   "id": "0aa17563-de85-404f-9896-8e3fecdfd73e",
   "metadata": {},
   "outputs": [
    {
     "data": {
      "text/plain": [
       "7.54898523472132"
      ]
     },
     "execution_count": 44,
     "metadata": {},
     "output_type": "execute_result"
    }
   ],
   "source": [
    "autos['registration_year'].kurtosis()"
   ]
  },
  {
   "cell_type": "code",
   "execution_count": 45,
   "id": "1a2e1622-2879-43ae-ac7b-bda1d59604e6",
   "metadata": {},
   "outputs": [
    {
     "data": {
      "text/plain": [
       "count    357683.000000\n",
       "mean       2003.482184\n",
       "std           7.549755\n",
       "min        1910.000000\n",
       "25%        1999.000000\n",
       "50%        2004.000000\n",
       "75%        2008.000000\n",
       "max        2019.000000\n",
       "Name: registration_year, dtype: float64"
      ]
     },
     "execution_count": 45,
     "metadata": {},
     "output_type": "execute_result"
    }
   ],
   "source": [
    "autos['registration_year'].describe()"
   ]
  },
  {
   "cell_type": "markdown",
   "id": "be045631-d789-4d47-9669-47c03dbd5fca",
   "metadata": {},
   "source": [
    "The average year of registration is 2004, this indicates that cars being sold are within the last two decades.\n",
    "\n",
    "Where the average vehicle sold is 19 - 20 years old.\n",
    "\n",
    "We also see that,\n",
    "- The 25th percentile is 2000, meaning 25% of cars were registered before 2000.\n",
    "- The 50th percentile is 2005, suggesting that 50% were registered before 2005.\n",
    "- The 75th percentile is 2009, indicating that 75% of the cars were registered before 2009.\n",
    "\n",
    "While the maximum year of registration after removal of outliers is seen as 2019."
   ]
  },
  {
   "cell_type": "markdown",
   "id": "9d8d3d6c-a07a-403a-9b88-cd04c29a21ec",
   "metadata": {},
   "source": [
    "#### `power_ps`"
   ]
  },
  {
   "cell_type": "code",
   "execution_count": 46,
   "id": "d3dca804-8a69-4457-8eba-868ee87358a6",
   "metadata": {},
   "outputs": [
    {
     "data": {
      "text/plain": [
       "count    357683.000000\n",
       "mean        116.716333\n",
       "std         188.905782\n",
       "min           0.000000\n",
       "25%          73.000000\n",
       "50%         107.000000\n",
       "75%         150.000000\n",
       "max       20000.000000\n",
       "Name: power_ps, dtype: float64"
      ]
     },
     "execution_count": 46,
     "metadata": {},
     "output_type": "execute_result"
    }
   ],
   "source": [
    "autos['power_ps'].describe()"
   ]
  },
  {
   "cell_type": "markdown",
   "id": "4232498e-494f-4545-8a48-00807952cf35",
   "metadata": {},
   "source": [
    "The `power_ps` columns describe the power of the car in PS.\n",
    "\n",
    "PS or PferdStarke is the metric measure of horsepower. It is the equivalent of 98.6% of one HP."
   ]
  },
  {
   "cell_type": "markdown",
   "id": "426b5242-16ef-49a2-9754-10171531f843",
   "metadata": {},
   "source": [
    "For midsize cars, 250 is a good start. Anything under 180 might be slightly underpowered unless the vehicle is incredibly small like a Mini Cooper or Mitsubishi Mirage. \n",
    "\n",
    " For example, 150 PS is equivalent to 147.9 BHP, typically you would see the BHP rounded up to 148 BHP in this example. "
   ]
  },
  {
   "cell_type": "markdown",
   "id": "00cade3b-42b0-453d-b80f-b22dd5315332",
   "metadata": {},
   "source": [
    "A supercar is commonly distilled to horsepower 500 and above. The max PS being produced of hypercars are upto 2000 PS. "
   ]
  },
  {
   "cell_type": "code",
   "execution_count": 47,
   "id": "4e0530b9-a999-44d1-a19a-26b3b9d6b748",
   "metadata": {},
   "outputs": [
    {
     "data": {
      "text/plain": [
       "power_ps\n",
       "0        35506\n",
       "75       23188\n",
       "60       15363\n",
       "150      14957\n",
       "140      13417\n",
       "         ...  \n",
       "5809         1\n",
       "15020        1\n",
       "5867         1\n",
       "2172         1\n",
       "564          1\n",
       "Name: count, Length: 767, dtype: int64"
      ]
     },
     "execution_count": 47,
     "metadata": {},
     "output_type": "execute_result"
    }
   ],
   "source": [
    "autos['power_ps'].value_counts() # Returns the number of unique values and their count."
   ]
  },
  {
   "cell_type": "code",
   "execution_count": 48,
   "id": "83fdd1f5-eddd-4d25-abad-99f04bc2f2d6",
   "metadata": {},
   "outputs": [
    {
     "data": {
      "text/plain": [
       "power_ps\n",
       "0        35506\n",
       "1           24\n",
       "2            9\n",
       "3            8\n",
       "4           30\n",
       "         ...  \n",
       "17932        1\n",
       "19208        1\n",
       "19211        1\n",
       "19312        1\n",
       "20000        1\n",
       "Name: count, Length: 767, dtype: int64"
      ]
     },
     "execution_count": 48,
     "metadata": {},
     "output_type": "execute_result"
    }
   ],
   "source": [
    "autos['power_ps'].value_counts().sort_index() # Sorts the returned unique values' count with respect to the index."
   ]
  },
  {
   "cell_type": "code",
   "execution_count": 49,
   "id": "5ec5f843-f6d8-40f0-afde-b7c46912ad14",
   "metadata": {},
   "outputs": [
    {
     "data": {
      "text/plain": [
       "power_ps\n",
       "0     35506\n",
       "1        24\n",
       "2         9\n",
       "3         8\n",
       "4        30\n",
       "5        99\n",
       "6        11\n",
       "7        10\n",
       "8         7\n",
       "9         5\n",
       "10       13\n",
       "11       28\n",
       "12       20\n",
       "13        7\n",
       "14       21\n",
       "15       19\n",
       "16       10\n",
       "17        8\n",
       "18       53\n",
       "19       15\n",
       "Name: count, dtype: int64"
      ]
     },
     "execution_count": 49,
     "metadata": {},
     "output_type": "execute_result"
    }
   ],
   "source": [
    "autos['power_ps'].value_counts().sort_index().head(20) #Returns the top 20 entries in the index sorted unique values' count."
   ]
  },
  {
   "cell_type": "code",
   "execution_count": 50,
   "id": "1b245a4a-888b-46b8-8560-430aee2172f0",
   "metadata": {},
   "outputs": [
    {
     "data": {
      "text/plain": [
       "power_ps\n",
       "13636    1\n",
       "14009    1\n",
       "15001    1\n",
       "15017    1\n",
       "15020    1\n",
       "15033    1\n",
       "16011    1\n",
       "16051    1\n",
       "16311    1\n",
       "16312    1\n",
       "17011    1\n",
       "17019    1\n",
       "17322    1\n",
       "17410    1\n",
       "17700    1\n",
       "17932    1\n",
       "19208    1\n",
       "19211    1\n",
       "19312    1\n",
       "20000    1\n",
       "Name: count, dtype: int64"
      ]
     },
     "execution_count": 50,
     "metadata": {},
     "output_type": "execute_result"
    }
   ],
   "source": [
    "autos['power_ps'].value_counts().sort_index().tail(20) # Returns the bottom 20 entries in the index sorted unique values' count."
   ]
  },
  {
   "cell_type": "markdown",
   "id": "8ba5cc8c-7bfc-40a0-a9ce-f4030ed1117a",
   "metadata": {},
   "source": [
    "We see there are min and max values in the series far extreme than nominal PS ratings for cars. \n",
    "\n",
    "The average min PS for most of the cars can be said to be at 150, we will thus, set our min value to be 100 to include any cars being sold \n",
    "\n",
    "below the average PS, and a max ceiling of 2500 PS, as an all encompassing net, even though there are no cars in the world with more than 2000 PS or above."
   ]
  },
  {
   "cell_type": "code",
   "execution_count": 51,
   "id": "7f9e274a-54df-42ce-80d4-ecc15caf718b",
   "metadata": {},
   "outputs": [
    {
     "data": {
      "text/plain": [
       "power_ps\n",
       "100      1421\n",
       "101     12937\n",
       "102      6378\n",
       "103       950\n",
       "104       134\n",
       "        ...  \n",
       "1993        1\n",
       "1995        2\n",
       "1998        3\n",
       "1999        1\n",
       "2000        3\n",
       "Name: count, Length: 569, dtype: int64"
      ]
     },
     "execution_count": 51,
     "metadata": {},
     "output_type": "execute_result"
    }
   ],
   "source": [
    "autos = autos[autos['power_ps'].between(100, 2000)]\n",
    "autos['power_ps'].value_counts().sort_index()"
   ]
  },
  {
   "cell_type": "code",
   "execution_count": 52,
   "id": "1d0c7f37-69ff-497f-b826-d1d4111a16cc",
   "metadata": {},
   "outputs": [
    {
     "data": {
      "text/plain": [
       "count    211325.000000\n",
       "mean        156.023722\n",
       "std          68.858671\n",
       "min         100.000000\n",
       "25%         116.000000\n",
       "50%         140.000000\n",
       "75%         174.000000\n",
       "max        2000.000000\n",
       "Name: power_ps, dtype: float64"
      ]
     },
     "execution_count": 52,
     "metadata": {},
     "output_type": "execute_result"
    }
   ],
   "source": [
    "autos['power_ps'].describe()"
   ]
  },
  {
   "cell_type": "markdown",
   "id": "d3c51c5e-06d8-4db0-9480-c4c381a6ce61",
   "metadata": {},
   "source": [
    "We see the new min and max values with realistic numericals. The Standard Deviation has also decreased from 186 to 68, \n",
    "which indicates the data to be closely distributed amongst the mean, and increases certainity of the data."
   ]
  },
  {
   "cell_type": "code",
   "execution_count": 53,
   "id": "07a53116-2703-4c43-b0f1-84c4021e0a16",
   "metadata": {},
   "outputs": [
    {
     "data": {
      "text/plain": [
       "0"
      ]
     },
     "execution_count": 53,
     "metadata": {},
     "output_type": "execute_result"
    }
   ],
   "source": [
    "autos['power_ps'].isnull().sum()"
   ]
  },
  {
   "cell_type": "code",
   "execution_count": 54,
   "id": "4446cf9b-2b8d-4df9-a359-5ef29f93c262",
   "metadata": {},
   "outputs": [
    {
     "data": {
      "text/plain": [
       "142.66092750189273"
      ]
     },
     "execution_count": 54,
     "metadata": {},
     "output_type": "execute_result"
    }
   ],
   "source": [
    "autos['power_ps'].kurtosis()"
   ]
  },
  {
   "cell_type": "markdown",
   "id": "b1a6cff3-5091-48ff-962a-7f01c9e318b2",
   "metadata": {},
   "source": [
    "#### `gearbox`"
   ]
  },
  {
   "cell_type": "code",
   "execution_count": 55,
   "id": "f4c3f864-6088-4bde-9b24-58d109b221c6",
   "metadata": {},
   "outputs": [
    {
     "data": {
      "text/plain": [
       "2718"
      ]
     },
     "execution_count": 55,
     "metadata": {},
     "output_type": "execute_result"
    }
   ],
   "source": [
    "autos['gearbox'].isnull().sum()"
   ]
  },
  {
   "cell_type": "code",
   "execution_count": 56,
   "id": "fe0f3563-1d39-4323-88be-e3fd17529f29",
   "metadata": {},
   "outputs": [
    {
     "data": {
      "text/plain": [
       "gearbox\n",
       "manual       146083\n",
       "automatic     62524\n",
       "NaN            2718\n",
       "Name: count, dtype: int64"
      ]
     },
     "execution_count": 56,
     "metadata": {},
     "output_type": "execute_result"
    }
   ],
   "source": [
    "autos['gearbox'].value_counts(dropna=False)"
   ]
  },
  {
   "cell_type": "code",
   "execution_count": 57,
   "id": "e6984248-a183-4982-b34a-bde67eb7faf0",
   "metadata": {},
   "outputs": [
    {
     "data": {
      "text/plain": [
       "count     208607\n",
       "unique         2\n",
       "top       manual\n",
       "freq      146083\n",
       "Name: gearbox, dtype: object"
      ]
     },
     "execution_count": 57,
     "metadata": {},
     "output_type": "execute_result"
    }
   ],
   "source": [
    "autos['gearbox'].describe()"
   ]
  },
  {
   "cell_type": "code",
   "execution_count": 58,
   "id": "71dd9f84-b0af-4948-9596-cf597d1f2719",
   "metadata": {},
   "outputs": [
    {
     "data": {
      "text/plain": [
       "1.2736798512996832"
      ]
     },
     "execution_count": 58,
     "metadata": {},
     "output_type": "execute_result"
    }
   ],
   "source": [
    "(2645/ (143924+61097+2645)) * 100"
   ]
  },
  {
   "cell_type": "markdown",
   "id": "89b6bc68-4fc5-406b-bd3d-d738b6c0e121",
   "metadata": {},
   "source": [
    "We see here, that 1.27% of the `gearbox` column value is NaN. And the majority is manuell, thereby we can either drop the null values or change them to the majority value. Both approach makes less difference when compared."
   ]
  },
  {
   "cell_type": "code",
   "execution_count": 59,
   "id": "dfdb03d6-c119-4aae-9460-da8c579a94aa",
   "metadata": {},
   "outputs": [
    {
     "data": {
      "text/plain": [
       "date_crawled              0\n",
       "name                      0\n",
       "seller                    0\n",
       "offer_type                0\n",
       "price                     0\n",
       "abtest                    0\n",
       "vehicle_type          11338\n",
       "registration_year         0\n",
       "gearbox                2718\n",
       "power_ps                  0\n",
       "model                  7880\n",
       "kilometer                 0\n",
       "registration_month        0\n",
       "fuel_type             99170\n",
       "brand                     0\n",
       "unrepaired_damage     26932\n",
       "ad_created                0\n",
       "nr_of_pictures            0\n",
       "postal_code               0\n",
       "last_seen                 0\n",
       "dtype: int64"
      ]
     },
     "execution_count": 59,
     "metadata": {},
     "output_type": "execute_result"
    }
   ],
   "source": [
    "autos.isnull().sum()"
   ]
  },
  {
   "cell_type": "markdown",
   "id": "1a0df3e9-4544-4eb8-902d-4b231ab82a74",
   "metadata": {},
   "source": [
    "The above list shows the number of NaN or None values in our present dataset. With `unrepaired_damage` having the most at 26324 NaN values."
   ]
  },
  {
   "cell_type": "code",
   "execution_count": 60,
   "id": "0753567a-7252-4ba5-a9d5-11b6fa2d827c",
   "metadata": {},
   "outputs": [
    {
     "data": {
      "text/plain": [
       "brand\n",
       "volkswagen        548\n",
       "bmw               392\n",
       "opel              323\n",
       "mercedes_benz     317\n",
       "audi              266\n",
       "ford              178\n",
       "renault            73\n",
       "peugeot            67\n",
       "mazda              43\n",
       "sonstige_autos     41\n",
       "nissan             40\n",
       "citroen            39\n",
       "alfa_romeo         39\n",
       "seat               37\n",
       "fiat               36\n",
       "volvo              33\n",
       "porsche            28\n",
       "toyota             27\n",
       "honda              23\n",
       "kia                20\n",
       "hyundai            18\n",
       "mitsubishi         18\n",
       "mini               17\n",
       "skoda              17\n",
       "chrysler           13\n",
       "chevrolet          10\n",
       "rover               9\n",
       "subaru              8\n",
       "suzuki              7\n",
       "smart               7\n",
       "saab                6\n",
       "jeep                4\n",
       "daihatsu            3\n",
       "daewoo              3\n",
       "land_rover          2\n",
       "lancia              2\n",
       "dacia               2\n",
       "trabant             1\n",
       "jaguar              1\n",
       "Name: count, dtype: int64"
      ]
     },
     "execution_count": 60,
     "metadata": {},
     "output_type": "execute_result"
    }
   ],
   "source": [
    "autos.loc[autos['gearbox'].isnull(), 'brand'].value_counts(dropna=False) \n",
    "# This code will give us the brand of the cars whose gearbox type we are missing or is set as NaN."
   ]
  },
  {
   "cell_type": "markdown",
   "id": "69c46de3-bcfc-4418-b01c-f26409cce6bd",
   "metadata": {},
   "source": [
    "Based on internet research it seems the car brands like Volkswagen, BMW, Opel have predominatly manuel transmission or gearbox."
   ]
  },
  {
   "cell_type": "code",
   "execution_count": 61,
   "id": "840d16ac-1468-45b2-a6cc-3da7aac890a5",
   "metadata": {},
   "outputs": [],
   "source": [
    "autos.loc[autos['brand'] == 'volkswagen', 'gearbox'] = 'manual'\n",
    "autos.loc[autos['brand'] == 'bmw', 'gearbox'] = 'manual'\n",
    "autos.loc[autos['brand'] == 'opel', 'gearbox'] = 'manual'\n",
    "autos.loc[autos['brand'] == 'mercedes_benz', 'gearbox'] = 'manual'\n",
    "# These lines of code will convert the NaN values for car brands with Volkswagen, BMW, Opel and mercedes_benz to manuell."
   ]
  },
  {
   "cell_type": "code",
   "execution_count": 62,
   "id": "b14186c3-f37d-4e8b-a275-ee02fc230e08",
   "metadata": {},
   "outputs": [
    {
     "data": {
      "text/plain": [
       "brand\n",
       "audi              266\n",
       "ford              178\n",
       "renault            73\n",
       "peugeot            67\n",
       "mazda              43\n",
       "sonstige_autos     41\n",
       "nissan             40\n",
       "alfa_romeo         39\n",
       "citroen            39\n",
       "seat               37\n",
       "fiat               36\n",
       "volvo              33\n",
       "porsche            28\n",
       "toyota             27\n",
       "honda              23\n",
       "kia                20\n",
       "hyundai            18\n",
       "mitsubishi         18\n",
       "skoda              17\n",
       "mini               17\n",
       "chrysler           13\n",
       "chevrolet          10\n",
       "rover               9\n",
       "subaru              8\n",
       "smart               7\n",
       "suzuki              7\n",
       "saab                6\n",
       "jeep                4\n",
       "daewoo              3\n",
       "daihatsu            3\n",
       "land_rover          2\n",
       "lancia              2\n",
       "dacia               2\n",
       "trabant             1\n",
       "jaguar              1\n",
       "Name: count, dtype: int64"
      ]
     },
     "execution_count": 62,
     "metadata": {},
     "output_type": "execute_result"
    }
   ],
   "source": [
    "autos.loc[autos['gearbox'].isnull(), 'brand'].value_counts()"
   ]
  },
  {
   "cell_type": "code",
   "execution_count": 63,
   "id": "3cdccd43-db5b-435f-a391-e6327496d6be",
   "metadata": {},
   "outputs": [
    {
     "data": {
      "text/plain": [
       "gearbox\n",
       "manual       188144\n",
       "automatic     22043\n",
       "NaN            1138\n",
       "Name: count, dtype: int64"
      ]
     },
     "execution_count": 63,
     "metadata": {},
     "output_type": "execute_result"
    }
   ],
   "source": [
    "autos['gearbox'].value_counts(dropna=False)"
   ]
  },
  {
   "cell_type": "code",
   "execution_count": 64,
   "id": "112ab25e-07f7-4e29-a0a9-a4b108e3138e",
   "metadata": {},
   "outputs": [
    {
     "data": {
      "text/plain": [
       "0.5327019828351583"
      ]
     },
     "execution_count": 64,
     "metadata": {},
     "output_type": "execute_result"
    }
   ],
   "source": [
    "(1098/ (143924+61097+1098)) * 100"
   ]
  },
  {
   "cell_type": "markdown",
   "id": "eeefbc59-27d9-4534-8071-b99151d4c0c4",
   "metadata": {},
   "source": [
    "We now see the NaN values as dropped from 1.27% of total elements in `gearbox` column to 0.53%.\n",
    "\n",
    "We have converted the brands with the highest NaN values in the `gearbox` column to manual.\n",
    "\n",
    "We will keep the rest of the NaN values to be either changed or dropped at a later time, after gathering other details."
   ]
  },
  {
   "cell_type": "markdown",
   "id": "79d0659c-20fc-429b-874c-8ddeb593af73",
   "metadata": {},
   "source": [
    "#### `vehicle_type`"
   ]
  },
  {
   "cell_type": "code",
   "execution_count": 65,
   "id": "489f5535-6612-46df-aa09-dc898f57af0c",
   "metadata": {},
   "outputs": [
    {
     "data": {
      "text/plain": [
       "199987"
      ]
     },
     "execution_count": 65,
     "metadata": {},
     "output_type": "execute_result"
    }
   ],
   "source": [
    "autos['vehicle_type'].count() # returns the count of the elements in the column."
   ]
  },
  {
   "cell_type": "code",
   "execution_count": 66,
   "id": "4ecd3963-fbe7-473d-a7db-60fb9a552fb5",
   "metadata": {},
   "outputs": [
    {
     "data": {
      "text/plain": [
       "vehicle_type\n",
       "limousine     69095\n",
       "kombi         54350\n",
       "bus           21826\n",
       "cabrio        16968\n",
       "coupe         15342\n",
       "suv           12530\n",
       "NaN           11338\n",
       "kleinwagen     8538\n",
       "andere         1338\n",
       "Name: count, dtype: int64"
      ]
     },
     "execution_count": 66,
     "metadata": {},
     "output_type": "execute_result"
    }
   ],
   "source": [
    "autos['vehicle_type'].value_counts(dropna = False)"
   ]
  },
  {
   "cell_type": "code",
   "execution_count": 67,
   "id": "58b809f9-1733-4872-9453-d3199d70ba80",
   "metadata": {},
   "outputs": [
    {
     "data": {
      "text/plain": [
       "11.349611429633248"
      ]
     },
     "execution_count": 67,
     "metadata": {},
     "output_type": "execute_result"
    }
   ],
   "source": [
    "(37869/333659) *(100)"
   ]
  },
  {
   "cell_type": "markdown",
   "id": "a2823f57-9997-42ac-951e-088182c90399",
   "metadata": {},
   "source": [
    "11% NaN values in `vehicle_type`"
   ]
  },
  {
   "cell_type": "code",
   "execution_count": 68,
   "id": "ad91ca69-c3d6-4713-8c10-bac63f7d09b9",
   "metadata": {},
   "outputs": [
    {
     "data": {
      "text/plain": [
       "brand\n",
       "volkswagen        2598\n",
       "bmw               1605\n",
       "audi              1407\n",
       "opel              1326\n",
       "mercedes_benz     1077\n",
       "ford               750\n",
       "renault            363\n",
       "seat               223\n",
       "peugeot            211\n",
       "mazda              188\n",
       "fiat               171\n",
       "alfa_romeo         133\n",
       "nissan             106\n",
       "mitsubishi         105\n",
       "volvo              103\n",
       "honda              101\n",
       "skoda               96\n",
       "mini                95\n",
       "citroen             90\n",
       "toyota              85\n",
       "hyundai             85\n",
       "kia                 68\n",
       "sonstige_autos      65\n",
       "chrysler            55\n",
       "chevrolet           37\n",
       "porsche             34\n",
       "subaru              24\n",
       "jeep                23\n",
       "rover               23\n",
       "suzuki              22\n",
       "saab                17\n",
       "daewoo              13\n",
       "land_rover          10\n",
       "jaguar              10\n",
       "dacia                9\n",
       "lancia               5\n",
       "smart                4\n",
       "daihatsu             1\n",
       "Name: count, dtype: int64"
      ]
     },
     "execution_count": 68,
     "metadata": {},
     "output_type": "execute_result"
    }
   ],
   "source": [
    "# let's find out which brands have most NaN values for vehicle_type column.\n",
    "autos.loc[autos['vehicle_type'].isnull(), 'brand'].value_counts(dropna = False)"
   ]
  },
  {
   "cell_type": "markdown",
   "id": "7ffdb424-a077-4e65-a75c-f51de4cb7a6a",
   "metadata": {},
   "source": [
    "We see there are many brands with NaN values in the `vehicle_type` column, with Volkswagen having the highest None values. It is also true that brands have multiple vehicle types, which makes replacing the NaN values with a single vehicle type inaccurate.\n",
    "\n",
    "However, in order to have a clean dataset as much as possible and also to avoid introducing inaccurate data, we will go ahead and replace NaN values in `vehicle_type` to \"other\"."
   ]
  },
  {
   "cell_type": "code",
   "execution_count": 69,
   "id": "5bff5342-52e4-4292-bb06-5d898ae1fe64",
   "metadata": {},
   "outputs": [
    {
     "data": {
      "text/plain": [
       "vehicle_type\n",
       "limousine     69095\n",
       "kombi         54350\n",
       "bus           21826\n",
       "cabrio        16968\n",
       "coupe         15342\n",
       "suv           12530\n",
       "other         11338\n",
       "kleinwagen     8538\n",
       "andere         1338\n",
       "Name: count, dtype: int64"
      ]
     },
     "execution_count": 69,
     "metadata": {},
     "output_type": "execute_result"
    }
   ],
   "source": [
    "autos.loc[autos['vehicle_type'].isnull()] = 'other' # Converts all rows in vehicle_type that are true for the boolean index.\n",
    "autos['vehicle_type'].value_counts(dropna = False)"
   ]
  },
  {
   "cell_type": "markdown",
   "id": "3902c654-df82-4589-bf16-a529ce92efb7",
   "metadata": {},
   "source": [
    "#### `model`"
   ]
  },
  {
   "cell_type": "code",
   "execution_count": 70,
   "id": "6cba7cad-9bcb-4ec4-afd3-562489b59f0a",
   "metadata": {},
   "outputs": [
    {
     "data": {
      "text/plain": [
       "205089"
      ]
     },
     "execution_count": 70,
     "metadata": {},
     "output_type": "execute_result"
    }
   ],
   "source": [
    "autos['model'].count()"
   ]
  },
  {
   "cell_type": "code",
   "execution_count": 71,
   "id": "ed9cb66f-41cf-4096-a3de-d705643d73ab",
   "metadata": {},
   "outputs": [
    {
     "data": {
      "text/plain": [
       "model\n",
       "3er                17482\n",
       "andere             14947\n",
       "golf               13622\n",
       "other              11338\n",
       "a4                  8915\n",
       "                   ...  \n",
       "kalos                  1\n",
       "charade                1\n",
       "discovery_sport        1\n",
       "sandero                1\n",
       "fox                    1\n",
       "Name: count, Length: 236, dtype: int64"
      ]
     },
     "execution_count": 71,
     "metadata": {},
     "output_type": "execute_result"
    }
   ],
   "source": [
    "autos['model'].value_counts(dropna = False)"
   ]
  },
  {
   "cell_type": "code",
   "execution_count": 72,
   "id": "a2aad797-0914-4017-9ae3-5c154845bb3e",
   "metadata": {},
   "outputs": [
    {
     "data": {
      "text/plain": [
       "6236"
      ]
     },
     "execution_count": 72,
     "metadata": {},
     "output_type": "execute_result"
    }
   ],
   "source": [
    "autos['model'].isnull().sum()"
   ]
  },
  {
   "cell_type": "code",
   "execution_count": 73,
   "id": "f0a0b28c-1898-482d-bed8-e2a1502c88ab",
   "metadata": {},
   "outputs": [
    {
     "data": {
      "text/plain": [
       "3.0406311406267523"
      ]
     },
     "execution_count": 73,
     "metadata": {},
     "output_type": "execute_result"
    }
   ],
   "source": [
    "(autos['model'].isnull().sum())/(autos['model'].count()) * 100"
   ]
  },
  {
   "cell_type": "markdown",
   "id": "f02687cb-3716-443c-ac40-9089bd15637a",
   "metadata": {},
   "source": [
    "We see here, that 3.8% of the total values are NaN values in `model`."
   ]
  },
  {
   "cell_type": "markdown",
   "id": "16a32a60-dfa5-4a9f-ab4f-18c208582be2",
   "metadata": {},
   "source": [
    "We will go ahead and convert the NaN values of `model` to other, in the same way it was done to the `vehicle_type` column."
   ]
  },
  {
   "cell_type": "code",
   "execution_count": 74,
   "id": "68139842-8307-4fe5-aa6b-d14e4bbed210",
   "metadata": {},
   "outputs": [
    {
     "data": {
      "text/plain": [
       "0"
      ]
     },
     "execution_count": 74,
     "metadata": {},
     "output_type": "execute_result"
    }
   ],
   "source": [
    "autos.loc[autos['model'].isnull()] = 'other'\n",
    "autos['model'].isnull().sum()"
   ]
  },
  {
   "cell_type": "markdown",
   "id": "30728565-6203-466b-a036-50744b8dad54",
   "metadata": {},
   "source": [
    "#### `kilometer`"
   ]
  },
  {
   "cell_type": "code",
   "execution_count": 75,
   "id": "f1f1f0cb-1dde-4335-863b-bd57efab0bb6",
   "metadata": {},
   "outputs": [
    {
     "data": {
      "text/plain": [
       "211325"
      ]
     },
     "execution_count": 75,
     "metadata": {},
     "output_type": "execute_result"
    }
   ],
   "source": [
    "autos['kilometer'].count()"
   ]
  },
  {
   "cell_type": "code",
   "execution_count": 76,
   "id": "a3ab6dee-5e2c-439c-b518-41a662d77f3c",
   "metadata": {},
   "outputs": [
    {
     "data": {
      "text/plain": [
       "count     211325\n",
       "unique        14\n",
       "top       150000\n",
       "freq      128239\n",
       "Name: kilometer, dtype: int64"
      ]
     },
     "execution_count": 76,
     "metadata": {},
     "output_type": "execute_result"
    }
   ],
   "source": [
    "autos['kilometer'].describe()"
   ]
  },
  {
   "cell_type": "code",
   "execution_count": 77,
   "id": "b6af7a95-576a-48fa-a957-7aece5ebada5",
   "metadata": {},
   "outputs": [
    {
     "data": {
      "text/plain": [
       "kilometer\n",
       "150000    128239\n",
       "125000     18679\n",
       "other      17574\n",
       "100000      7861\n",
       "90000       6461\n",
       "80000       5738\n",
       "70000       5279\n",
       "60000       4747\n",
       "50000       4172\n",
       "40000       3553\n",
       "30000       3324\n",
       "20000       3074\n",
       "5000        1615\n",
       "10000       1009\n",
       "Name: count, dtype: int64"
      ]
     },
     "execution_count": 77,
     "metadata": {},
     "output_type": "execute_result"
    }
   ],
   "source": [
    "autos['kilometer'].value_counts(dropna = False)"
   ]
  },
  {
   "cell_type": "markdown",
   "id": "65f40b10-0f2c-4b37-a50a-8ae4c210ded6",
   "metadata": {},
   "source": [
    "It is possible that there are vehicles that have driven to the max value, shown here. "
   ]
  },
  {
   "cell_type": "markdown",
   "id": "15842972-a92f-411a-bafa-8223900711dd",
   "metadata": {},
   "source": [
    "#### `fuel_type`"
   ]
  },
  {
   "cell_type": "code",
   "execution_count": 78,
   "id": "797c4267-d767-4e93-afbd-da9963678b89",
   "metadata": {},
   "outputs": [
    {
     "data": {
      "text/plain": [
       "122301"
      ]
     },
     "execution_count": 78,
     "metadata": {},
     "output_type": "execute_result"
    }
   ],
   "source": [
    "autos['fuel_type'].count()"
   ]
  },
  {
   "cell_type": "code",
   "execution_count": 79,
   "id": "e608f7b3-2c58-443b-b360-7845e0ed46af",
   "metadata": {},
   "outputs": [
    {
     "data": {
      "text/plain": [
       "fuel_type\n",
       "benzine    104683\n",
       "NaN         89024\n",
       "other       17603\n",
       "electro        15\n",
       "Name: count, dtype: int64"
      ]
     },
     "execution_count": 79,
     "metadata": {},
     "output_type": "execute_result"
    }
   ],
   "source": [
    "autos['fuel_type'].value_counts(dropna = False)"
   ]
  },
  {
   "cell_type": "markdown",
   "id": "619e81b4-8b91-432b-9542-2150d4b363c9",
   "metadata": {},
   "source": [
    "The NaN values will be replaced with other, just as the previous few columns."
   ]
  },
  {
   "cell_type": "code",
   "execution_count": 80,
   "id": "75f958f4-565c-44be-ad71-a6c2ee6bcdbc",
   "metadata": {},
   "outputs": [
    {
     "data": {
      "text/plain": [
       "0"
      ]
     },
     "execution_count": 80,
     "metadata": {},
     "output_type": "execute_result"
    }
   ],
   "source": [
    "autos.loc[autos['fuel_type'].isnull()] = 'other'\n",
    "autos['fuel_type'].isnull().sum()"
   ]
  },
  {
   "cell_type": "markdown",
   "id": "bf8bab61-44e6-4552-a24f-c0baac378d4e",
   "metadata": {},
   "source": [
    "#### `registration_month`"
   ]
  },
  {
   "cell_type": "code",
   "execution_count": 81,
   "id": "da1dfe0f-d3ad-4b21-8c7a-5844c730dece",
   "metadata": {},
   "outputs": [
    {
     "data": {
      "text/plain": [
       "211325"
      ]
     },
     "execution_count": 81,
     "metadata": {},
     "output_type": "execute_result"
    }
   ],
   "source": [
    "autos['registration_month'].count()"
   ]
  },
  {
   "cell_type": "code",
   "execution_count": 82,
   "id": "2f6fe9fe-a95c-46aa-abee-e9532c9df625",
   "metadata": {},
   "outputs": [
    {
     "data": {
      "text/plain": [
       "count     211325\n",
       "unique        14\n",
       "top        other\n",
       "freq      106598\n",
       "Name: registration_month, dtype: object"
      ]
     },
     "execution_count": 82,
     "metadata": {},
     "output_type": "execute_result"
    }
   ],
   "source": [
    "autos['registration_month'].describe()"
   ]
  },
  {
   "cell_type": "code",
   "execution_count": 83,
   "id": "253e6296-14e8-45fc-b1c6-5780f174f7f5",
   "metadata": {},
   "outputs": [
    {
     "data": {
      "text/plain": [
       "registration_month\n",
       "other    106598\n",
       "3         11601\n",
       "6         10146\n",
       "4          9700\n",
       "5          9367\n",
       "7          9275\n",
       "10         7903\n",
       "9          7459\n",
       "1          7205\n",
       "11         7130\n",
       "8          7008\n",
       "12         7004\n",
       "2          6709\n",
       "0          4220\n",
       "Name: count, dtype: int64"
      ]
     },
     "execution_count": 83,
     "metadata": {},
     "output_type": "execute_result"
    }
   ],
   "source": [
    "autos['registration_month'].value_counts(dropna = False)"
   ]
  },
  {
   "cell_type": "code",
   "execution_count": 84,
   "id": "9c276090-3a09-4456-98cb-517ca942c8a3",
   "metadata": {},
   "outputs": [
    {
     "name": "stdout",
     "output_type": "stream",
     "text": [
      "<class 'pandas.core.series.Series'>\n",
      "Index: 211325 entries, 1 to 371527\n",
      "Series name: registration_month\n",
      "Non-Null Count   Dtype \n",
      "--------------   ----- \n",
      "211325 non-null  object\n",
      "dtypes: object(1)\n",
      "memory usage: 3.2+ MB\n"
     ]
    }
   ],
   "source": [
    "autos['registration_month'].info()"
   ]
  },
  {
   "cell_type": "code",
   "execution_count": 93,
   "id": "7a15faa7-db8f-46e3-bcbc-0a3d463fc3d3",
   "metadata": {},
   "outputs": [
    {
     "data": {
      "text/plain": [
       "registration_month\n",
       "0.0    110818\n",
       "3       11601\n",
       "6       10146\n",
       "4        9700\n",
       "5        9367\n",
       "7        9275\n",
       "10       7903\n",
       "9        7459\n",
       "1        7205\n",
       "11       7130\n",
       "8        7008\n",
       "12       7004\n",
       "2        6709\n",
       "Name: count, dtype: int64"
      ]
     },
     "execution_count": 93,
     "metadata": {},
     "output_type": "execute_result"
    }
   ],
   "source": [
    "autos['registration_month'].value_counts(dropna = False)"
   ]
  },
  {
   "cell_type": "markdown",
   "id": "26e6cd02-486c-497f-ab26-ad54088a06a7",
   "metadata": {},
   "source": [
    "Registration month will be left alone for the time being, we will re-visit at the end of the analysis."
   ]
  },
  {
   "cell_type": "markdown",
   "id": "dd0d850f-50f0-4fa2-9806-f3a83f39c41f",
   "metadata": {},
   "source": [
    "### Average price of cars based on Brand/Model."
   ]
  },
  {
   "cell_type": "code",
   "execution_count": 108,
   "id": "af183ba5-cf41-403f-8dff-c47322353c2b",
   "metadata": {},
   "outputs": [
    {
     "data": {
      "text/plain": [
       "Index(['other', 'bmw', 'volkswagen', 'mercedes_benz', 'audi'], dtype='object', name='brand')"
      ]
     },
     "execution_count": 108,
     "metadata": {},
     "output_type": "execute_result"
    }
   ],
   "source": [
    "car_brands = autos['brand'].value_counts().head(5).index\n",
    "car_brands# this will store the list of car brands."
   ]
  },
  {
   "cell_type": "code",
   "execution_count": 112,
   "id": "0cc25c00-97fc-474d-ab4f-be068091ce97",
   "metadata": {
    "collapsed": true,
    "jupyter": {
     "outputs_hidden": true
    },
    "scrolled": true
   },
   "outputs": [
    {
     "data": {
      "text/html": [
       "<div>\n",
       "<style scoped>\n",
       "    .dataframe tbody tr th:only-of-type {\n",
       "        vertical-align: middle;\n",
       "    }\n",
       "\n",
       "    .dataframe tbody tr th {\n",
       "        vertical-align: top;\n",
       "    }\n",
       "\n",
       "    .dataframe thead th {\n",
       "        text-align: right;\n",
       "    }\n",
       "</style>\n",
       "<table border=\"1\" class=\"dataframe\">\n",
       "  <thead>\n",
       "    <tr style=\"text-align: right;\">\n",
       "      <th></th>\n",
       "      <th>date_crawled</th>\n",
       "      <th>name</th>\n",
       "      <th>seller</th>\n",
       "      <th>offer_type</th>\n",
       "      <th>price</th>\n",
       "      <th>abtest</th>\n",
       "      <th>vehicle_type</th>\n",
       "      <th>registration_year</th>\n",
       "      <th>gearbox</th>\n",
       "      <th>power_ps</th>\n",
       "      <th>model</th>\n",
       "      <th>kilometer</th>\n",
       "      <th>registration_month</th>\n",
       "      <th>fuel_type</th>\n",
       "      <th>brand</th>\n",
       "      <th>unrepaired_damage</th>\n",
       "      <th>ad_created</th>\n",
       "      <th>nr_of_pictures</th>\n",
       "      <th>postal_code</th>\n",
       "      <th>last_seen</th>\n",
       "    </tr>\n",
       "  </thead>\n",
       "  <tbody>\n",
       "    <tr>\n",
       "      <th>1</th>\n",
       "      <td>other</td>\n",
       "      <td>other</td>\n",
       "      <td>other</td>\n",
       "      <td>other</td>\n",
       "      <td>other</td>\n",
       "      <td>other</td>\n",
       "      <td>other</td>\n",
       "      <td>other</td>\n",
       "      <td>other</td>\n",
       "      <td>other</td>\n",
       "      <td>other</td>\n",
       "      <td>other</td>\n",
       "      <td>0.0</td>\n",
       "      <td>other</td>\n",
       "      <td>other</td>\n",
       "      <td>other</td>\n",
       "      <td>other</td>\n",
       "      <td>other</td>\n",
       "      <td>other</td>\n",
       "      <td>other</td>\n",
       "    </tr>\n",
       "    <tr>\n",
       "      <th>2</th>\n",
       "      <td>other</td>\n",
       "      <td>other</td>\n",
       "      <td>other</td>\n",
       "      <td>other</td>\n",
       "      <td>other</td>\n",
       "      <td>other</td>\n",
       "      <td>other</td>\n",
       "      <td>other</td>\n",
       "      <td>other</td>\n",
       "      <td>other</td>\n",
       "      <td>other</td>\n",
       "      <td>other</td>\n",
       "      <td>0.0</td>\n",
       "      <td>other</td>\n",
       "      <td>other</td>\n",
       "      <td>other</td>\n",
       "      <td>other</td>\n",
       "      <td>other</td>\n",
       "      <td>other</td>\n",
       "      <td>other</td>\n",
       "    </tr>\n",
       "    <tr>\n",
       "      <th>9</th>\n",
       "      <td>other</td>\n",
       "      <td>other</td>\n",
       "      <td>other</td>\n",
       "      <td>other</td>\n",
       "      <td>other</td>\n",
       "      <td>other</td>\n",
       "      <td>other</td>\n",
       "      <td>other</td>\n",
       "      <td>other</td>\n",
       "      <td>other</td>\n",
       "      <td>other</td>\n",
       "      <td>other</td>\n",
       "      <td>0.0</td>\n",
       "      <td>other</td>\n",
       "      <td>other</td>\n",
       "      <td>other</td>\n",
       "      <td>other</td>\n",
       "      <td>other</td>\n",
       "      <td>other</td>\n",
       "      <td>other</td>\n",
       "    </tr>\n",
       "    <tr>\n",
       "      <th>11</th>\n",
       "      <td>other</td>\n",
       "      <td>other</td>\n",
       "      <td>other</td>\n",
       "      <td>other</td>\n",
       "      <td>other</td>\n",
       "      <td>other</td>\n",
       "      <td>other</td>\n",
       "      <td>other</td>\n",
       "      <td>other</td>\n",
       "      <td>other</td>\n",
       "      <td>other</td>\n",
       "      <td>other</td>\n",
       "      <td>0.0</td>\n",
       "      <td>other</td>\n",
       "      <td>other</td>\n",
       "      <td>other</td>\n",
       "      <td>other</td>\n",
       "      <td>other</td>\n",
       "      <td>other</td>\n",
       "      <td>other</td>\n",
       "    </tr>\n",
       "    <tr>\n",
       "      <th>13</th>\n",
       "      <td>other</td>\n",
       "      <td>other</td>\n",
       "      <td>other</td>\n",
       "      <td>other</td>\n",
       "      <td>other</td>\n",
       "      <td>other</td>\n",
       "      <td>other</td>\n",
       "      <td>other</td>\n",
       "      <td>other</td>\n",
       "      <td>other</td>\n",
       "      <td>other</td>\n",
       "      <td>other</td>\n",
       "      <td>0.0</td>\n",
       "      <td>other</td>\n",
       "      <td>other</td>\n",
       "      <td>other</td>\n",
       "      <td>other</td>\n",
       "      <td>other</td>\n",
       "      <td>other</td>\n",
       "      <td>other</td>\n",
       "    </tr>\n",
       "    <tr>\n",
       "      <th>...</th>\n",
       "      <td>...</td>\n",
       "      <td>...</td>\n",
       "      <td>...</td>\n",
       "      <td>...</td>\n",
       "      <td>...</td>\n",
       "      <td>...</td>\n",
       "      <td>...</td>\n",
       "      <td>...</td>\n",
       "      <td>...</td>\n",
       "      <td>...</td>\n",
       "      <td>...</td>\n",
       "      <td>...</td>\n",
       "      <td>...</td>\n",
       "      <td>...</td>\n",
       "      <td>...</td>\n",
       "      <td>...</td>\n",
       "      <td>...</td>\n",
       "      <td>...</td>\n",
       "      <td>...</td>\n",
       "      <td>...</td>\n",
       "    </tr>\n",
       "    <tr>\n",
       "      <th>371513</th>\n",
       "      <td>other</td>\n",
       "      <td>other</td>\n",
       "      <td>other</td>\n",
       "      <td>other</td>\n",
       "      <td>other</td>\n",
       "      <td>other</td>\n",
       "      <td>other</td>\n",
       "      <td>other</td>\n",
       "      <td>other</td>\n",
       "      <td>other</td>\n",
       "      <td>other</td>\n",
       "      <td>other</td>\n",
       "      <td>0.0</td>\n",
       "      <td>other</td>\n",
       "      <td>other</td>\n",
       "      <td>other</td>\n",
       "      <td>other</td>\n",
       "      <td>other</td>\n",
       "      <td>other</td>\n",
       "      <td>other</td>\n",
       "    </tr>\n",
       "    <tr>\n",
       "      <th>371517</th>\n",
       "      <td>other</td>\n",
       "      <td>other</td>\n",
       "      <td>other</td>\n",
       "      <td>other</td>\n",
       "      <td>other</td>\n",
       "      <td>other</td>\n",
       "      <td>other</td>\n",
       "      <td>other</td>\n",
       "      <td>other</td>\n",
       "      <td>other</td>\n",
       "      <td>other</td>\n",
       "      <td>other</td>\n",
       "      <td>0.0</td>\n",
       "      <td>other</td>\n",
       "      <td>other</td>\n",
       "      <td>other</td>\n",
       "      <td>other</td>\n",
       "      <td>other</td>\n",
       "      <td>other</td>\n",
       "      <td>other</td>\n",
       "    </tr>\n",
       "    <tr>\n",
       "      <th>371519</th>\n",
       "      <td>other</td>\n",
       "      <td>other</td>\n",
       "      <td>other</td>\n",
       "      <td>other</td>\n",
       "      <td>other</td>\n",
       "      <td>other</td>\n",
       "      <td>other</td>\n",
       "      <td>other</td>\n",
       "      <td>other</td>\n",
       "      <td>other</td>\n",
       "      <td>other</td>\n",
       "      <td>other</td>\n",
       "      <td>0.0</td>\n",
       "      <td>other</td>\n",
       "      <td>other</td>\n",
       "      <td>other</td>\n",
       "      <td>other</td>\n",
       "      <td>other</td>\n",
       "      <td>other</td>\n",
       "      <td>other</td>\n",
       "    </tr>\n",
       "    <tr>\n",
       "      <th>371525</th>\n",
       "      <td>other</td>\n",
       "      <td>other</td>\n",
       "      <td>other</td>\n",
       "      <td>other</td>\n",
       "      <td>other</td>\n",
       "      <td>other</td>\n",
       "      <td>other</td>\n",
       "      <td>other</td>\n",
       "      <td>other</td>\n",
       "      <td>other</td>\n",
       "      <td>other</td>\n",
       "      <td>other</td>\n",
       "      <td>0.0</td>\n",
       "      <td>other</td>\n",
       "      <td>other</td>\n",
       "      <td>other</td>\n",
       "      <td>other</td>\n",
       "      <td>other</td>\n",
       "      <td>other</td>\n",
       "      <td>other</td>\n",
       "    </tr>\n",
       "    <tr>\n",
       "      <th>371526</th>\n",
       "      <td>other</td>\n",
       "      <td>other</td>\n",
       "      <td>other</td>\n",
       "      <td>other</td>\n",
       "      <td>other</td>\n",
       "      <td>other</td>\n",
       "      <td>other</td>\n",
       "      <td>other</td>\n",
       "      <td>other</td>\n",
       "      <td>other</td>\n",
       "      <td>other</td>\n",
       "      <td>other</td>\n",
       "      <td>0.0</td>\n",
       "      <td>other</td>\n",
       "      <td>other</td>\n",
       "      <td>other</td>\n",
       "      <td>other</td>\n",
       "      <td>other</td>\n",
       "      <td>other</td>\n",
       "      <td>other</td>\n",
       "    </tr>\n",
       "  </tbody>\n",
       "</table>\n",
       "<p>106598 rows × 20 columns</p>\n",
       "</div>"
      ],
      "text/plain": [
       "       date_crawled   name seller offer_type  price abtest vehicle_type  \\\n",
       "1             other  other  other      other  other  other        other   \n",
       "2             other  other  other      other  other  other        other   \n",
       "9             other  other  other      other  other  other        other   \n",
       "11            other  other  other      other  other  other        other   \n",
       "13            other  other  other      other  other  other        other   \n",
       "...             ...    ...    ...        ...    ...    ...          ...   \n",
       "371513        other  other  other      other  other  other        other   \n",
       "371517        other  other  other      other  other  other        other   \n",
       "371519        other  other  other      other  other  other        other   \n",
       "371525        other  other  other      other  other  other        other   \n",
       "371526        other  other  other      other  other  other        other   \n",
       "\n",
       "       registration_year gearbox power_ps  model kilometer registration_month  \\\n",
       "1                  other   other    other  other     other                0.0   \n",
       "2                  other   other    other  other     other                0.0   \n",
       "9                  other   other    other  other     other                0.0   \n",
       "11                 other   other    other  other     other                0.0   \n",
       "13                 other   other    other  other     other                0.0   \n",
       "...                  ...     ...      ...    ...       ...                ...   \n",
       "371513             other   other    other  other     other                0.0   \n",
       "371517             other   other    other  other     other                0.0   \n",
       "371519             other   other    other  other     other                0.0   \n",
       "371525             other   other    other  other     other                0.0   \n",
       "371526             other   other    other  other     other                0.0   \n",
       "\n",
       "       fuel_type  brand unrepaired_damage ad_created nr_of_pictures  \\\n",
       "1          other  other             other      other          other   \n",
       "2          other  other             other      other          other   \n",
       "9          other  other             other      other          other   \n",
       "11         other  other             other      other          other   \n",
       "13         other  other             other      other          other   \n",
       "...          ...    ...               ...        ...            ...   \n",
       "371513     other  other             other      other          other   \n",
       "371517     other  other             other      other          other   \n",
       "371519     other  other             other      other          other   \n",
       "371525     other  other             other      other          other   \n",
       "371526     other  other             other      other          other   \n",
       "\n",
       "       postal_code last_seen  \n",
       "1            other     other  \n",
       "2            other     other  \n",
       "9            other     other  \n",
       "11           other     other  \n",
       "13           other     other  \n",
       "...            ...       ...  \n",
       "371513       other     other  \n",
       "371517       other     other  \n",
       "371519       other     other  \n",
       "371525       other     other  \n",
       "371526       other     other  \n",
       "\n",
       "[106598 rows x 20 columns]"
      ]
     },
     "execution_count": 112,
     "metadata": {},
     "output_type": "execute_result"
    }
   ],
   "source": [
    "avg_price_per_brand = {}\n",
    "\n",
    "for i in car_brands:\n",
    "        select_rows = autos[autos['brand'] == i]\n",
    "        break\n",
    "select_rows\n",
    "     #   avg_price = select_rows['price'].mean()\n",
    "    #    avg_price_per_brand[i] = avg_price\n",
    "#avg_price_per_brand"
   ]
  },
  {
   "cell_type": "code",
   "execution_count": 113,
   "id": "1e82dafd-2168-41c4-ba22-2a202a580342",
   "metadata": {},
   "outputs": [
    {
     "data": {
      "text/html": [
       "<div>\n",
       "<style scoped>\n",
       "    .dataframe tbody tr th:only-of-type {\n",
       "        vertical-align: middle;\n",
       "    }\n",
       "\n",
       "    .dataframe tbody tr th {\n",
       "        vertical-align: top;\n",
       "    }\n",
       "\n",
       "    .dataframe thead th {\n",
       "        text-align: right;\n",
       "    }\n",
       "</style>\n",
       "<table border=\"1\" class=\"dataframe\">\n",
       "  <thead>\n",
       "    <tr style=\"text-align: right;\">\n",
       "      <th></th>\n",
       "      <th>date_crawled</th>\n",
       "      <th>name</th>\n",
       "      <th>seller</th>\n",
       "      <th>offer_type</th>\n",
       "      <th>price</th>\n",
       "      <th>abtest</th>\n",
       "      <th>vehicle_type</th>\n",
       "      <th>registration_year</th>\n",
       "      <th>gearbox</th>\n",
       "      <th>power_ps</th>\n",
       "      <th>model</th>\n",
       "      <th>kilometer</th>\n",
       "      <th>registration_month</th>\n",
       "      <th>fuel_type</th>\n",
       "      <th>brand</th>\n",
       "      <th>unrepaired_damage</th>\n",
       "      <th>ad_created</th>\n",
       "      <th>nr_of_pictures</th>\n",
       "      <th>postal_code</th>\n",
       "      <th>last_seen</th>\n",
       "    </tr>\n",
       "  </thead>\n",
       "  <tbody>\n",
       "    <tr>\n",
       "      <th>1</th>\n",
       "      <td>other</td>\n",
       "      <td>other</td>\n",
       "      <td>other</td>\n",
       "      <td>other</td>\n",
       "      <td>other</td>\n",
       "      <td>other</td>\n",
       "      <td>other</td>\n",
       "      <td>other</td>\n",
       "      <td>other</td>\n",
       "      <td>other</td>\n",
       "      <td>other</td>\n",
       "      <td>other</td>\n",
       "      <td>0.0</td>\n",
       "      <td>other</td>\n",
       "      <td>other</td>\n",
       "      <td>other</td>\n",
       "      <td>other</td>\n",
       "      <td>other</td>\n",
       "      <td>other</td>\n",
       "      <td>other</td>\n",
       "    </tr>\n",
       "    <tr>\n",
       "      <th>2</th>\n",
       "      <td>other</td>\n",
       "      <td>other</td>\n",
       "      <td>other</td>\n",
       "      <td>other</td>\n",
       "      <td>other</td>\n",
       "      <td>other</td>\n",
       "      <td>other</td>\n",
       "      <td>other</td>\n",
       "      <td>other</td>\n",
       "      <td>other</td>\n",
       "      <td>other</td>\n",
       "      <td>other</td>\n",
       "      <td>0.0</td>\n",
       "      <td>other</td>\n",
       "      <td>other</td>\n",
       "      <td>other</td>\n",
       "      <td>other</td>\n",
       "      <td>other</td>\n",
       "      <td>other</td>\n",
       "      <td>other</td>\n",
       "    </tr>\n",
       "    <tr>\n",
       "      <th>5</th>\n",
       "      <td>2016-04-04 17:36:23</td>\n",
       "      <td>BMW_316i___e36_Limousine___Bastlerfahrzeug__Ex...</td>\n",
       "      <td>private</td>\n",
       "      <td>offer</td>\n",
       "      <td>650</td>\n",
       "      <td>test</td>\n",
       "      <td>limousine</td>\n",
       "      <td>1995</td>\n",
       "      <td>manual</td>\n",
       "      <td>102</td>\n",
       "      <td>3er</td>\n",
       "      <td>150000</td>\n",
       "      <td>10</td>\n",
       "      <td>benzine</td>\n",
       "      <td>bmw</td>\n",
       "      <td>yes</td>\n",
       "      <td>2016-04-04 00:00:00</td>\n",
       "      <td>0</td>\n",
       "      <td>33775</td>\n",
       "      <td>2016-04-06 19:17:07</td>\n",
       "    </tr>\n",
       "    <tr>\n",
       "      <th>6</th>\n",
       "      <td>2016-04-01 20:48:51</td>\n",
       "      <td>Peugeot_206_CC_110_Platinum</td>\n",
       "      <td>private</td>\n",
       "      <td>offer</td>\n",
       "      <td>2200</td>\n",
       "      <td>test</td>\n",
       "      <td>cabrio</td>\n",
       "      <td>2004</td>\n",
       "      <td>manual</td>\n",
       "      <td>109</td>\n",
       "      <td>2_reihe</td>\n",
       "      <td>150000</td>\n",
       "      <td>8</td>\n",
       "      <td>benzine</td>\n",
       "      <td>peugeot</td>\n",
       "      <td>no</td>\n",
       "      <td>2016-04-01 00:00:00</td>\n",
       "      <td>0</td>\n",
       "      <td>67112</td>\n",
       "      <td>2016-04-05 18:18:39</td>\n",
       "    </tr>\n",
       "    <tr>\n",
       "      <th>8</th>\n",
       "      <td>2016-04-04 23:42:13</td>\n",
       "      <td>Ford_C___Max_Titanium_1_0_L_EcoBoost</td>\n",
       "      <td>private</td>\n",
       "      <td>offer</td>\n",
       "      <td>14500</td>\n",
       "      <td>control</td>\n",
       "      <td>bus</td>\n",
       "      <td>2014</td>\n",
       "      <td>manual</td>\n",
       "      <td>125</td>\n",
       "      <td>c_max</td>\n",
       "      <td>30000</td>\n",
       "      <td>8</td>\n",
       "      <td>benzine</td>\n",
       "      <td>ford</td>\n",
       "      <td>NaN</td>\n",
       "      <td>2016-04-04 00:00:00</td>\n",
       "      <td>0</td>\n",
       "      <td>94505</td>\n",
       "      <td>2016-04-04 23:42:13</td>\n",
       "    </tr>\n",
       "  </tbody>\n",
       "</table>\n",
       "</div>"
      ],
      "text/plain": [
       "          date_crawled                                               name  \\\n",
       "1                other                                              other   \n",
       "2                other                                              other   \n",
       "5  2016-04-04 17:36:23  BMW_316i___e36_Limousine___Bastlerfahrzeug__Ex...   \n",
       "6  2016-04-01 20:48:51                        Peugeot_206_CC_110_Platinum   \n",
       "8  2016-04-04 23:42:13               Ford_C___Max_Titanium_1_0_L_EcoBoost   \n",
       "\n",
       "    seller offer_type  price   abtest vehicle_type registration_year gearbox  \\\n",
       "1    other      other  other    other        other             other   other   \n",
       "2    other      other  other    other        other             other   other   \n",
       "5  private      offer    650     test    limousine              1995  manual   \n",
       "6  private      offer   2200     test       cabrio              2004  manual   \n",
       "8  private      offer  14500  control          bus              2014  manual   \n",
       "\n",
       "  power_ps    model kilometer registration_month fuel_type    brand  \\\n",
       "1    other    other     other                0.0     other    other   \n",
       "2    other    other     other                0.0     other    other   \n",
       "5      102      3er    150000                 10   benzine      bmw   \n",
       "6      109  2_reihe    150000                  8   benzine  peugeot   \n",
       "8      125    c_max     30000                  8   benzine     ford   \n",
       "\n",
       "  unrepaired_damage           ad_created nr_of_pictures postal_code  \\\n",
       "1             other                other          other       other   \n",
       "2             other                other          other       other   \n",
       "5               yes  2016-04-04 00:00:00              0       33775   \n",
       "6                no  2016-04-01 00:00:00              0       67112   \n",
       "8               NaN  2016-04-04 00:00:00              0       94505   \n",
       "\n",
       "             last_seen  \n",
       "1                other  \n",
       "2                other  \n",
       "5  2016-04-06 19:17:07  \n",
       "6  2016-04-05 18:18:39  \n",
       "8  2016-04-04 23:42:13  "
      ]
     },
     "execution_count": 113,
     "metadata": {},
     "output_type": "execute_result"
    }
   ],
   "source": [
    "autos.head()"
   ]
  },
  {
   "cell_type": "markdown",
   "id": "4fa6fa84-1bf4-4373-9064-1acbad4e9b26",
   "metadata": {},
   "source": [
    "This notebook will be destroyed/deleted at the time."
   ]
  },
  {
   "cell_type": "code",
   "execution_count": null,
   "id": "676b905b-a6e9-471b-93dc-71bcc44a807d",
   "metadata": {},
   "outputs": [],
   "source": []
  }
 ],
 "metadata": {
  "kernelspec": {
   "display_name": "Python 3 (ipykernel)",
   "language": "python",
   "name": "python3"
  },
  "language_info": {
   "codemirror_mode": {
    "name": "ipython",
    "version": 3
   },
   "file_extension": ".py",
   "mimetype": "text/x-python",
   "name": "python",
   "nbconvert_exporter": "python",
   "pygments_lexer": "ipython3",
   "version": "3.11.4"
  }
 },
 "nbformat": 4,
 "nbformat_minor": 5
}
